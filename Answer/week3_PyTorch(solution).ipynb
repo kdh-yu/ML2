{
  "nbformat": 4,
  "nbformat_minor": 0,
  "metadata": {
    "colab": {
      "provenance": []
    },
    "kernelspec": {
      "name": "python3",
      "display_name": "Python 3"
    },
    "language_info": {
      "name": "python"
    }
  },
  "cells": [
    {
      "cell_type": "code",
      "execution_count": 1,
      "metadata": {
        "id": "QYoLBmL0qA7V"
      },
      "outputs": [],
      "source": [
        "import torch"
      ]
    },
    {
      "cell_type": "code",
      "source": [
        "tensor1 = torch.rand(3, 3)\n",
        "tensor2 = torch.rand(3, 3)\n",
        "result = tensor1 * tensor2\n",
        "print(result)"
      ],
      "metadata": {
        "colab": {
          "base_uri": "https://localhost:8080/"
        },
        "id": "GPvMRG5TqG3Q",
        "outputId": "91d4105c-c656-4f9e-dce3-c7c85b8aa012"
      },
      "execution_count": 2,
      "outputs": [
        {
          "output_type": "stream",
          "name": "stdout",
          "text": [
            "tensor([[0.2728, 0.0233, 0.0393],\n",
            "        [0.0042, 0.3017, 0.1008],\n",
            "        [0.0365, 0.0140, 0.0449]])\n"
          ]
        }
      ]
    },
    {
      "cell_type": "code",
      "source": [
        "A = torch.rand(5, 3)\n",
        "B = torch.rand(3)\n",
        "result = A + B\n",
        "print(result)"
      ],
      "metadata": {
        "colab": {
          "base_uri": "https://localhost:8080/"
        },
        "id": "G7lPwBICqIIy",
        "outputId": "4b4b5f24-0999-4975-9c87-a2f46cbad50c"
      },
      "execution_count": 3,
      "outputs": [
        {
          "output_type": "stream",
          "name": "stdout",
          "text": [
            "tensor([[0.6899, 0.5055, 1.5591],\n",
            "        [0.7430, 1.0374, 1.1732],\n",
            "        [1.0210, 1.0817, 1.2300],\n",
            "        [0.6136, 0.7811, 0.9995],\n",
            "        [0.1157, 0.4647, 1.3794]])\n"
          ]
        }
      ]
    },
    {
      "cell_type": "code",
      "source": [
        "tensor1 = torch.rand(4, 3)\n",
        "tensor2 = torch.rand(3, 2)\n",
        "result = torch.mm(tensor1, tensor2)\n",
        "print(result)"
      ],
      "metadata": {
        "colab": {
          "base_uri": "https://localhost:8080/"
        },
        "id": "iN1H_FwcqI5p",
        "outputId": "e36c3e85-638c-4118-88a4-3641f4214539"
      },
      "execution_count": 4,
      "outputs": [
        {
          "output_type": "stream",
          "name": "stdout",
          "text": [
            "tensor([[1.1026, 1.0933],\n",
            "        [1.1618, 1.2644],\n",
            "        [0.5303, 0.6588],\n",
            "        [0.2999, 0.4260]])\n"
          ]
        }
      ]
    },
    {
      "cell_type": "code",
      "source": [
        "tensor = torch.rand(2, 6)\n",
        "reshaped_tensor = tensor.view(3, 4)\n",
        "print(reshaped_tensor)"
      ],
      "metadata": {
        "colab": {
          "base_uri": "https://localhost:8080/"
        },
        "id": "50Tj0TH4qKYc",
        "outputId": "d5280865-524a-467c-a986-d3a5383ecaf4"
      },
      "execution_count": 5,
      "outputs": [
        {
          "output_type": "stream",
          "name": "stdout",
          "text": [
            "tensor([[0.9845, 0.0762, 0.9303, 0.6446],\n",
            "        [0.4240, 0.0236, 0.9309, 0.4652],\n",
            "        [0.6926, 0.5480, 0.6617, 0.3127]])\n"
          ]
        }
      ]
    },
    {
      "cell_type": "code",
      "source": [
        "A = torch.rand(5, 1)\n",
        "B = torch.rand(5)\n",
        "result = A * B\n",
        "print(result)"
      ],
      "metadata": {
        "colab": {
          "base_uri": "https://localhost:8080/"
        },
        "id": "U1mL-sSQqL5_",
        "outputId": "afedead3-7cd0-4ab3-f912-06120b3e5147"
      },
      "execution_count": 6,
      "outputs": [
        {
          "output_type": "stream",
          "name": "stdout",
          "text": [
            "tensor([[0.0605, 0.0314, 0.1819, 0.1376, 0.1404],\n",
            "        [0.1161, 0.0603, 0.3493, 0.2643, 0.2696],\n",
            "        [0.1181, 0.0613, 0.3553, 0.2688, 0.2742],\n",
            "        [0.0264, 0.0137, 0.0795, 0.0602, 0.0614],\n",
            "        [0.0577, 0.0299, 0.1735, 0.1313, 0.1339]])\n"
          ]
        }
      ]
    },
    {
      "cell_type": "code",
      "source": [
        "tensor1 = torch.rand(3, 4)\n",
        "tensor2 = torch.rand(3, 4)\n",
        "result = torch.mm(tensor1, tensor2.t())\n",
        "print(result)"
      ],
      "metadata": {
        "colab": {
          "base_uri": "https://localhost:8080/"
        },
        "id": "azwDcjIVqM0a",
        "outputId": "e4bc1fc0-9fa3-400c-9ace-b88fa28287b8"
      },
      "execution_count": 7,
      "outputs": [
        {
          "output_type": "stream",
          "name": "stdout",
          "text": [
            "tensor([[0.4797, 0.4189, 1.0082],\n",
            "        [0.6811, 0.2902, 1.0344],\n",
            "        [0.5305, 0.5108, 1.0733]])\n"
          ]
        }
      ]
    },
    {
      "cell_type": "code",
      "source": [
        "tensor = torch.rand(3, 1)\n",
        "expanded_tensor = tensor.expand(3, 4)\n",
        "result_sum = expanded_tensor.sum(dim=1)\n",
        "print(result_sum)"
      ],
      "metadata": {
        "colab": {
          "base_uri": "https://localhost:8080/"
        },
        "id": "SrsG2alCqNwu",
        "outputId": "7012d218-7157-41d5-889f-d7e95c7ae7dc"
      },
      "execution_count": 8,
      "outputs": [
        {
          "output_type": "stream",
          "name": "stdout",
          "text": [
            "tensor([3.3652, 0.9750, 2.1061])\n"
          ]
        }
      ]
    },
    {
      "cell_type": "code",
      "source": [
        "tensor = torch.rand(6, 5)\n",
        "mean_values = tensor.mean(dim=1)\n",
        "print(mean_values)"
      ],
      "metadata": {
        "colab": {
          "base_uri": "https://localhost:8080/"
        },
        "id": "Q0m13llEqPjr",
        "outputId": "179affc2-0ace-44d0-96ee-125f8d116ae0"
      },
      "execution_count": 9,
      "outputs": [
        {
          "output_type": "stream",
          "name": "stdout",
          "text": [
            "tensor([0.5402, 0.4097, 0.5016, 0.4831, 0.6158, 0.5845])\n"
          ]
        }
      ]
    },
    {
      "cell_type": "code",
      "source": [
        "tensor = torch.rand(4, 4)\n",
        "selected_rows = tensor[[1, 3]]\n",
        "print(selected_rows)"
      ],
      "metadata": {
        "colab": {
          "base_uri": "https://localhost:8080/"
        },
        "id": "9R5e6Ma8qQdC",
        "outputId": "00fcada9-3dd5-4c2b-c3c0-e8683d2e68d5"
      },
      "execution_count": 10,
      "outputs": [
        {
          "output_type": "stream",
          "name": "stdout",
          "text": [
            "tensor([[0.7096, 0.0086, 0.0353, 0.0973],\n",
            "        [0.1835, 0.2806, 0.6362, 0.3894]])\n"
          ]
        }
      ]
    },
    {
      "cell_type": "code",
      "source": [
        "tensor1 = torch.rand(5)\n",
        "tensor2 = torch.rand(3)\n",
        "result = torch.ger(tensor1, tensor2)\n",
        "print(result)"
      ],
      "metadata": {
        "colab": {
          "base_uri": "https://localhost:8080/"
        },
        "id": "TtXYVdeAqRGz",
        "outputId": "223ac485-c83d-47f8-9035-6d803989e8fe"
      },
      "execution_count": 11,
      "outputs": [
        {
          "output_type": "stream",
          "name": "stdout",
          "text": [
            "tensor([[0.3740, 0.3360, 0.0878],\n",
            "        [0.4223, 0.3794, 0.0991],\n",
            "        [0.5159, 0.4635, 0.1211],\n",
            "        [0.2798, 0.2514, 0.0657],\n",
            "        [0.2978, 0.2675, 0.0699]])\n"
          ]
        }
      ]
    }
  ]
}