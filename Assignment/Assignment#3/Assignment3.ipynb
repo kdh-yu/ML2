{
 "cells": [
  {
   "cell_type": "markdown",
   "metadata": {},
   "source": [
    "# SOI1010 Machine Learning II - Assignment #3  \n",
    "2022094093 Kim Dohoon\n",
    "\n",
    "Due: December 8, 2023 11:59 pm\n",
    "\n",
    "You know the drill. The submission should include a code (both link to the colab and .py format) and a report that has answers to the questions and results. Use PyTorch (or TensorFlow/JAX). Also, minimize the use of numpy. There will be mark deductions if numpy is used when PyTorch is preferable or should be used. Marks will be deducted if the submission does not include the requested files. DO NOT use other libraries, such as scikit-learn/sklearn, to use a model you are supposed to implement. Using sklearn or any other third library or already built-in functions that you are asked to implement will result in 0 mark. Also, if an assignment asks you to implement some model, that means you shouldn’t use the built-in implementation from any library for that model in the first place."
   ]
  },
  {
   "cell_type": "markdown",
   "metadata": {},
   "source": [
    "NEW guidelines:\n",
    "1. Do NOT copy codes from references/online resources, especially from DACON/Kaggle. If you get caught copying/combining parts of the codes that are being shared online, you will get 0.\n",
    "2. Do not use test data (from test.csv) for training your model. Test data should only be used for test. If the results are not reproducible, you will get 0.\n",
    "3. Do not use external data. Stick with what you are provided with from Kaggle compe- tition.\n",
    "4. Do not use a pre-trained model. You should train a model from scratch.\n",
    "5. In other words, use only train data (from train.csv) for training your model."
   ]
  },
  {
   "cell_type": "markdown",
   "metadata": {},
   "source": [
    "### Kaggle competition: Sign Language Recognition  \n"
   ]
  },
  {
   "cell_type": "markdown",
   "metadata": {},
   "source": [
    "a) The competition/dataset can be found [here](https://www.kaggle.com/competitions/korean-sign-language-recognition-soi1010-2023/overview)."
   ]
  },
  {
   "cell_type": "code",
   "execution_count": 171,
   "metadata": {},
   "outputs": [
    {
     "name": "stdout",
     "output_type": "stream",
     "text": [
      "korean-sign-language-recognition-soi1010-2023.zip: Skipping, found more recently modified local copy (use --force to force download)\n"
     ]
    }
   ],
   "source": [
    "!kaggle competitions download -c korean-sign-language-recognition-soi1010-2023"
   ]
  },
  {
   "cell_type": "markdown",
   "metadata": {},
   "source": [
    "b) Your task is to achieve as high performance as possible (without cheating, of course). You can use any model you want. But, I suggest that you start with MLP and Convolutional Neural Networks (CNN). I strongly encourage you to research and study advanced neural network models and implement them to get better performance."
   ]
  },
  {
   "cell_type": "code",
   "execution_count": 1,
   "metadata": {},
   "outputs": [
    {
     "name": "stderr",
     "output_type": "stream",
     "text": [
      "Failed to detect the name of this notebook, you can set it manually with the WANDB_NOTEBOOK_NAME environment variable to enable code saving.\n",
      "\u001b[34m\u001b[1mwandb\u001b[0m: Currently logged in as: \u001b[33mkdhyu\u001b[0m. Use \u001b[1m`wandb login --relogin`\u001b[0m to force relogin\n"
     ]
    },
    {
     "data": {
      "text/plain": [
       "True"
      ]
     },
     "execution_count": 1,
     "metadata": {},
     "output_type": "execute_result"
    }
   ],
   "source": [
    "# Utils\n",
    "import os\n",
    "import matplotlib.pyplot as plt\n",
    "import seaborn as sns\n",
    "import pandas as pd\n",
    "from PIL import Image\n",
    "from tqdm import tqdm\n",
    "\n",
    "# Torch\n",
    "import torch\n",
    "import torch.nn as nn\n",
    "import torch.nn.functional as F\n",
    "from torch.utils.data import random_split, DataLoader\n",
    "from torch.autograd import Variable\n",
    "from torchvision import transforms\n",
    "from torchvision.transforms.functional import to_pil_image\n",
    "\n",
    "# etc\n",
    "from CustomDataLoader import CustomDataset\n",
    "from model_util import train_loop, evaluate_loop, test_predict, train_eval\n",
    "\n",
    "import wandb\n",
    "wandb.login()"
   ]
  },
  {
   "cell_type": "code",
   "execution_count": 2,
   "metadata": {},
   "outputs": [
    {
     "name": "stdout",
     "output_type": "stream",
     "text": [
      "Now using cpu device\n"
     ]
    }
   ],
   "source": [
    "# Device Setting\n",
    "#device = (\n",
    "#    'cuda'\n",
    "#    if torch.cuda.is_available()\n",
    "#    else 'mps'\n",
    "#    if torch.backends.mps.is_available()\n",
    "#    else 'cpu'\n",
    "#)\n",
    "device = 'cpu'\n",
    "print(f\"Now using {device} device\")"
   ]
  },
  {
   "cell_type": "code",
   "execution_count": 3,
   "metadata": {},
   "outputs": [],
   "source": [
    "class MoLU(nn.Module):\n",
    "    \"\"\"Moderate Adaptive Linear Units, MoLU\n",
    "    https://arxiv.org/abs/2302.13696\"\"\"\n",
    "    def __init__(self, a=2, b=2):\n",
    "        super(MoLU, self).__init__()\n",
    "        self.a = a\n",
    "        self.b = b\n",
    "\n",
    "    def forward(self, x):\n",
    "        x = x * torch.tanh(self.a * torch.exp(self.b * x))\n",
    "        return x"
   ]
  },
  {
   "cell_type": "code",
   "execution_count": 4,
   "metadata": {},
   "outputs": [],
   "source": [
    "class AlexNet(nn.Module):\n",
    "    def __init__(self, num_classes=11):\n",
    "        super().__init__()\n",
    "        self.conv = nn.Sequential(\n",
    "            nn.Conv2d(3, 64, 11, 4, 2),\n",
    "            nn.ReLU(),\n",
    "            nn.LocalResponseNorm(5),\n",
    "            nn.MaxPool2d(2, 2),\n",
    "            nn.Conv2d(64, 192, 5, 1, 2),\n",
    "            nn.ReLU(),\n",
    "            nn.LocalResponseNorm(5),\n",
    "            nn.MaxPool2d(2, 2),\n",
    "            nn.Conv2d(192, 384, 3, 1, 1),\n",
    "            nn.ReLU(),\n",
    "            nn.Conv2d(384, 256, 3, 1, 1),\n",
    "            nn.ReLU(),\n",
    "            nn.Conv2d(256, 256, 3, 1, 1),\n",
    "            nn.ReLU(),\n",
    "            nn.MaxPool2d(2, 2),\n",
    "        )\n",
    "        self.avgpool = nn.AdaptiveAvgPool2d((6, 6))\n",
    "        self.fc = nn.Sequential(\n",
    "            nn.Dropout(p=0.5),\n",
    "            nn.Linear(256 * 6 * 6, 4096),\n",
    "            nn.ReLU(),\n",
    "            nn.Dropout(p=0.5),\n",
    "            nn.Linear(4096, 4096),\n",
    "            nn.ReLU(),\n",
    "            nn.Linear(4096, num_classes),\n",
    "        )\n",
    "\n",
    "    def forward(self, x):\n",
    "        x = self.conv(x)\n",
    "        x = self.avgpool(x)\n",
    "        x = x.view(x.size(0), -1)\n",
    "        x = self.fc(x)\n",
    "        return x"
   ]
  },
  {
   "cell_type": "code",
   "execution_count": 28,
   "metadata": {},
   "outputs": [],
   "source": [
    "class CNN(nn.Module):\n",
    "    def __init__(self):\n",
    "        super(CNN, self).__init__()\n",
    "        self.conv = nn.Sequential(\n",
    "            nn.Conv2d(3, 8, 2),\n",
    "            nn.BatchNorm2d(8),\n",
    "            nn.ReLU(),\n",
    "            nn.MaxPool2d(2, 2),\n",
    "            nn.Conv2d(8, 16, 2, 1, 1),\n",
    "            nn.BatchNorm2d(16),\n",
    "            nn.ReLU(),\n",
    "            nn.MaxPool2d(2, 2),\n",
    "            nn.Conv2d(16, 32, 2, 1, 1),\n",
    "            nn.ReLU(),\n",
    "            nn.MaxPool2d(2, 2),\n",
    "            nn.Conv2d(32, 64, 2, 1, 1),\n",
    "            nn.ReLU(),\n",
    "            nn.MaxPool2d(2, 2),\n",
    "        )\n",
    "        self.fc = nn.Sequential(\n",
    "            nn.Linear(576, 288),\n",
    "            nn.ReLU(),\n",
    "            nn.Linear(288, 11)\n",
    "        )\n",
    "        self.dropout = nn.Dropout(0.4)\n",
    "\n",
    "    def forward(self, x):\n",
    "        x = self.conv(x)\n",
    "        x = self.dropout(x)\n",
    "        x = x.view(x.size(0), -1)\n",
    "        x = self.fc(x)\n",
    "        return x"
   ]
  },
  {
   "cell_type": "code",
   "execution_count": 13,
   "metadata": {},
   "outputs": [],
   "source": [
    "class CNN2(nn.Module):\n",
    "    def __init__(self):\n",
    "        super(CNN2, self).__init__()\n",
    "        self.conv = nn.Sequential(\n",
    "            nn.Conv2d(3, 8, 5),\n",
    "            nn.ReLU(),\n",
    "            nn.MaxPool2d(2, 2),\n",
    "            nn.Conv2d(8, 16, 5),\n",
    "            nn.ReLU(),\n",
    "            nn.MaxPool2d(2, 2)\n",
    "        )\n",
    "        self.fc1 = nn.Sequential(\n",
    "            nn.Linear(1600, 200),\n",
    "            nn.ReLU()\n",
    "        )\n",
    "        self.fc2 = nn.Linear(200, 11)\n",
    "        self.dropout = nn.Dropout(0.4)\n",
    "\n",
    "    def forward(self, x):\n",
    "        x1 = self.conv(x)\n",
    "        x2 = self.conv(torch.rot90(x, k=1, dims=[2, 3]))\n",
    "        x3 = self.conv(torch.rot90(x, k=2, dims=[2, 3]))\n",
    "        x4 = self.conv(torch.rot90(x, k=3, dims=[2, 3]))\n",
    "        x = torch.cat([x1, x2, x3, x4], dim=1)\n",
    "        x = self.dropout(x)\n",
    "        x = x.view(x.size(0), -1)\n",
    "        x = self.fc1(x)\n",
    "        x = self.fc2(x)\n",
    "        return x"
   ]
  },
  {
   "cell_type": "code",
   "execution_count": 4,
   "metadata": {},
   "outputs": [],
   "source": [
    "class RotationCNN(nn.Module):\n",
    "    def __init__(self, num_classes=11):\n",
    "        super(RotationCNN, self).__init__()\n",
    "        self.layer = nn.Sequential(\n",
    "            nn.Conv2d(3, 6, 3, 1),\n",
    "            nn.BatchNorm2d(6),\n",
    "            nn.ReLU(),\n",
    "            nn.Conv2d(6, 16, 3, 1, 1),\n",
    "            nn.BatchNorm2d(16),\n",
    "            nn.ReLU(),\n",
    "        )\n",
    "        self.fc1 = nn.Sequential(\n",
    "            nn.Linear(57600, 3096),\n",
    "            nn.ReLU()\n",
    "        )\n",
    "        self.fc2 = nn.Linear(3096, num_classes)\n",
    "        self.dropout = nn.Dropout(0.3)\n",
    "\n",
    "    def forward(self, x):\n",
    "        x1 = self.layer(x)\n",
    "        x = torch.rot90(x, k=1, dims=[2, 3])\n",
    "        x2 = self.layer(x)\n",
    "        x = torch.rot90(x, k=1, dims=[2, 3])\n",
    "        x3 = self.layer(x)\n",
    "        x = torch.rot90(x, k=1, dims=[2, 3])\n",
    "        x4 = self.layer(x)\n",
    "        x = torch.cat([x1, x2, x3, x4], 1)\n",
    "        x = self.dropout(x)\n",
    "        x = x.view(x.size(0), -1)\n",
    "        x = self.fc1(x)\n",
    "        x = self.dropout(x)\n",
    "        x = self.fc2(x)\n",
    "        return x"
   ]
  },
  {
   "cell_type": "code",
   "execution_count": 4,
   "metadata": {},
   "outputs": [],
   "source": [
    "class Inception(nn.Module):\n",
    "    def __init__(self, *dims):\n",
    "        super(Inception, self).__init__()\n",
    "        self.conv1 = nn.Sequential(\n",
    "            nn.Conv2d(dims[0], dims[1], 1, 1),\n",
    "            nn.ReLU()\n",
    "        )\n",
    "        self.conv1_3 = nn.Sequential(\n",
    "            nn.Conv2d(dims[0], dims[2], 1, 1),\n",
    "            nn.ReLU(),\n",
    "            nn.Conv2d(dims[2], dims[3], 3, 1, 1),\n",
    "            nn.ReLU(),\n",
    "        )\n",
    "        self.conv1_5 = nn.Sequential(\n",
    "            nn.Conv2d(dims[0], dims[4], 1),\n",
    "            nn.ReLU(),\n",
    "            nn.Conv2d(dims[4], dims[5], 5, 1, 2),\n",
    "            nn.ReLU(),\n",
    "        )\n",
    "        self.conv3_1 = nn.Sequential(\n",
    "            nn.MaxPool2d(3, 1, 1),\n",
    "            nn.Conv2d(dims[0], dims[6], 1, 1),\n",
    "            nn.ReLU()\n",
    "        )\n",
    "\n",
    "    def forward(self, x):\n",
    "        x1 = self.conv1(x)\n",
    "        x2 = self.conv1_3(x)\n",
    "        x3 = self.conv1_5(x)\n",
    "        x4 = self.conv3_1(x)\n",
    "        x = torch.cat([x1, x2, x3, x4], 1)\n",
    "        return x\n",
    "    \n",
    "class GoogLeNet(nn.Module):\n",
    "    def __init__(self, num_classes=11):\n",
    "        super(GoogLeNet, self).__init__()\n",
    "        self.num_classes = num_classes\n",
    "        self.layer1 = nn.Sequential(\n",
    "            nn.Conv2d(3, 64, 7, 2, 3),\n",
    "            nn.MaxPool2d(3, 2, 1),\n",
    "            nn.Conv2d(64, 192, 3, 1, 1),\n",
    "            nn.MaxPool2d(3, 2, 1)\n",
    "        )\n",
    "        self.layer2 = nn.Sequential(\n",
    "            Inception(192, 64, 96, 128, 16, 32, 32),\n",
    "            Inception(256, 128, 128, 192, 32, 96, 64),\n",
    "            nn.MaxPool2d(3, 2, 1),\n",
    "            Inception(480, 192, 96, 208, 16, 48, 64)\n",
    "        )\n",
    "        self.layer3 = nn.Sequential(\n",
    "            Inception(512, 160, 112, 224, 24, 64, 64),\n",
    "            Inception(512, 128, 128, 256, 24, 64, 64),\n",
    "            Inception(512, 112, 144, 288, 32, 64, 64),\n",
    "        )\n",
    "        self.layer4 = nn.Sequential(\n",
    "            Inception(528, 256, 160, 320, 32, 128, 128),\n",
    "            nn.MaxPool2d(3, 2, 1),\n",
    "            Inception(832, 256, 160, 320, 32, 128, 128),\n",
    "            Inception(832, 384, 192, 384, 48, 128, 128),\n",
    "            nn.AvgPool2d(7, 1)\n",
    "        )\n",
    "        self.cf1 = nn.Sequential(\n",
    "            nn.AvgPool2d(5, 3),\n",
    "            nn.Conv2d(512, 128, 1),\n",
    "            nn.ReLU(),\n",
    "            nn.Flatten(),\n",
    "            nn.Linear(2048, 1024),\n",
    "            nn.ReLU(),\n",
    "            nn.Dropout(),\n",
    "            nn.Linear(1024, num_classes)\n",
    "        )\n",
    "        self.cf2 = nn.Sequential(\n",
    "            nn.AvgPool2d(5, 3),\n",
    "            nn.Conv2d(528, 128, 1),\n",
    "            nn.ReLU(),\n",
    "            nn.Flatten(),\n",
    "            nn.Linear(2048, 1024),\n",
    "            nn.ReLU(),\n",
    "            nn.Dropout(),\n",
    "            nn.Linear(1024, num_classes)\n",
    "        )\n",
    "        self.dropout = nn.Dropout(0.4)\n",
    "        self.fc = nn.Linear(1024, num_classes)\n",
    "\n",
    "    def forward(self, x):\n",
    "        x = self.layer1(x)\n",
    "        x = self.layer2(x)\n",
    "        x1 = self.cf1(x)\n",
    "        x = self.layer3(x)\n",
    "        x2 = self.cf2(x)\n",
    "        x = self.layer4(x)\n",
    "        x = self.dropout(x)\n",
    "        x = x.view(x.size(0), -1)\n",
    "        x = self.fc(x)\n",
    "        if self.training:\n",
    "            return x, x1, x2\n",
    "        return x"
   ]
  },
  {
   "cell_type": "code",
   "execution_count": 13,
   "metadata": {},
   "outputs": [],
   "source": [
    "class Inception(nn.Module):\n",
    "    def __init__(self, *dims):\n",
    "        super(Inception, self).__init__()\n",
    "        self.conv1 = nn.Sequential(\n",
    "            nn.Conv2d(dims[0], dims[1], 1, 1),\n",
    "            MoLU()\n",
    "        )\n",
    "        self.conv1_3 = nn.Sequential(\n",
    "            nn.Conv2d(dims[0], dims[2], 1, 1),\n",
    "            MoLU(),\n",
    "            nn.Conv2d(dims[2], dims[3], 3, 1, 1),\n",
    "            MoLU(),\n",
    "        )\n",
    "        self.conv1_5 = nn.Sequential(\n",
    "            nn.Conv2d(dims[0], dims[4], 1),\n",
    "            MoLU(),\n",
    "            nn.Conv2d(dims[4], dims[5], 5, 1, 2),\n",
    "            MoLU(),\n",
    "        )\n",
    "        self.conv3_1 = nn.Sequential(\n",
    "            nn.MaxPool2d(3, 1, 1),\n",
    "            nn.Conv2d(dims[0], dims[6], 1, 1),\n",
    "            MoLU()\n",
    "        )\n",
    "\n",
    "    def forward(self, x):\n",
    "        x1 = self.conv1(x)\n",
    "        x2 = self.conv1_3(x)\n",
    "        x3 = self.conv1_5(x)\n",
    "        x4 = self.conv3_1(x)\n",
    "        x = torch.cat([x1, x2, x3, x4], 1)\n",
    "        return x\n",
    "    \n",
    "class MoLeNet(nn.Module):\n",
    "    def __init__(self, num_classes=11):\n",
    "        super(MoLeNet, self).__init__()\n",
    "        self.num_classes = num_classes\n",
    "        self.layer1 = nn.Sequential(\n",
    "            nn.Conv2d(3, 64, 7, 2, 3),\n",
    "            nn.MaxPool2d(3, 2, 1),\n",
    "            nn.Conv2d(64, 192, 3, 1, 1),\n",
    "            nn.MaxPool2d(3, 2, 1)\n",
    "        )\n",
    "        self.layer2 = nn.Sequential(\n",
    "            Inception(192, 64, 96, 128, 16, 32, 32),\n",
    "            Inception(256, 128, 128, 192, 32, 96, 64),\n",
    "            nn.MaxPool2d(3, 2, 1),\n",
    "            Inception(480, 192, 96, 208, 16, 48, 64)\n",
    "        )\n",
    "        self.layer3 = nn.Sequential(\n",
    "            Inception(512, 160, 112, 224, 24, 64, 64),\n",
    "            Inception(512, 128, 128, 256, 24, 64, 64),\n",
    "            Inception(512, 112, 144, 288, 32, 64, 64),\n",
    "        )\n",
    "        self.layer4 = nn.Sequential(\n",
    "            Inception(528, 256, 160, 320, 32, 128, 128),\n",
    "            nn.MaxPool2d(3, 2, 1),\n",
    "            Inception(832, 256, 160, 320, 32, 128, 128),\n",
    "            Inception(832, 384, 192, 384, 48, 128, 128),\n",
    "            nn.AvgPool2d(7, 1)\n",
    "        )\n",
    "        self.cf1 = nn.Sequential(\n",
    "            nn.AvgPool2d(5, 3),\n",
    "            nn.Conv2d(512, 128, 1),\n",
    "            MoLU(),\n",
    "            nn.Flatten(),\n",
    "            nn.Linear(2048, 1024),\n",
    "            MoLU(),\n",
    "            nn.Dropout(0.7),\n",
    "            nn.Linear(1024, num_classes)\n",
    "        )\n",
    "        self.cf2 = nn.Sequential(\n",
    "            nn.AvgPool2d(5, 3),\n",
    "            nn.Conv2d(528, 128, 1),\n",
    "            MoLU(),\n",
    "            nn.Flatten(),\n",
    "            nn.Linear(2048, 1024),\n",
    "            MoLU(),\n",
    "            nn.Dropout(0.7),\n",
    "            nn.Linear(1024, num_classes)\n",
    "        )\n",
    "        self.dropout = nn.Dropout(0.4)\n",
    "        self.fc = nn.Linear(1024, num_classes)\n",
    "\n",
    "    def forward(self, x):\n",
    "        x = self.layer1(x)\n",
    "        x = self.layer2(x)\n",
    "        x1 = self.cf1(x)\n",
    "        x = self.layer3(x)\n",
    "        x2 = self.cf2(x)\n",
    "        x = self.layer4(x)\n",
    "        x = self.dropout(x)\n",
    "        x = x.view(x.size(0), -1)\n",
    "        x = self.fc(x)\n",
    "        return x, x1, x2"
   ]
  },
  {
   "cell_type": "code",
   "execution_count": 21,
   "metadata": {},
   "outputs": [],
   "source": [
    "class VGG16(nn.Module):\n",
    "    def __init__(self, num_classes=11):\n",
    "        super(VGG16, self).__init__()\n",
    "        self.conv1 = nn.Conv2d(3, 64, 3, 1, 1)\n",
    "        self.conv2 = nn.Conv2d(64, 64, 3, 1, 1)\n",
    "        self.conv3 = nn.Conv2d(64, 128, 3, 1, 1)\n",
    "        self.conv4 = nn.Conv2d(128, 128, 3, 1, 1)\n",
    "        self.conv5 = nn.Conv2d(128, 256, 3, 1, 1)\n",
    "        self.conv6 = nn.Conv2d(256, 256, 3, 1, 1)\n",
    "        self.conv7 = nn.Conv2d(256, 256, 3, 1, 1)\n",
    "        self.conv8 = nn.Conv2d(256, 512, 3, 1, 1)\n",
    "        self.conv9 = nn.Conv2d(512, 512, 3, 1, 1)\n",
    "        self.conv10 = nn.Conv2d(512, 512, 3, 1, 1)\n",
    "        self.conv11 = nn.Conv2d(512, 512, 3, 1, 1)\n",
    "        self.conv12 = nn.Conv2d(512, 512, 3, 1, 1)\n",
    "        self.conv13 = nn.Conv2d(512, 512, 3, 1, 1)\n",
    "        self.fc14 = nn.Linear(32768, 4096)\n",
    "        self.fc15 = nn.Linear(4096, 4096)\n",
    "        self.fc16 = nn.Linear(4096, num_classes)\n",
    "        self.pool = nn.MaxPool2d(2, 2)\n",
    "        self.dropout = nn.Dropout(0.3)\n",
    "    \n",
    "    def forward(self, x):\n",
    "        x = self.conv1(x)\n",
    "        x = self.conv2(x)\n",
    "        x = self.pool(x)\n",
    "        x = self.conv3(x)\n",
    "        x = self.conv4(x)\n",
    "        x = self.pool(x)\n",
    "        x = self.conv5(x)\n",
    "        x = self.conv6(x)\n",
    "        x = self.conv7(x)\n",
    "        x = self.pool(x)\n",
    "        x = self.conv8(x)\n",
    "        x = self.conv9(x)\n",
    "        x = self.conv10(x)\n",
    "        x = self.pool(x)\n",
    "        x = self.conv11(x)\n",
    "        x = self.conv12(x)\n",
    "        x = self.conv13(x)\n",
    "        x = self.pool(x)\n",
    "        x = self.dropout(x)\n",
    "        x = x.view(x.size(0), -1)\n",
    "        x = self.fc14(x)\n",
    "        x = self.fc15(x)\n",
    "        x = self.fc16(x)\n",
    "        return x\n",
    "\n",
    "        "
   ]
  },
  {
   "cell_type": "code",
   "execution_count": 3,
   "metadata": {},
   "outputs": [],
   "source": [
    "class Residual(nn.Module):\n",
    "    def __init__(self, in_, out_):\n",
    "        super().__init__()\n",
    "        self.shortcut1 = nn.Sequential(\n",
    "            nn.Conv2d(in_, out_, 1),\n",
    "            nn.BatchNorm2d(out_)\n",
    "        )\n",
    "        self.shortcut2 = nn.Sequential(\n",
    "            nn.Conv2d(out_, out_, 1),\n",
    "            nn.BatchNorm2d(out_)\n",
    "        )\n",
    "        self.conv1 = nn.Sequential(\n",
    "            nn.Conv2d(in_, out_, 3, 1, 1),\n",
    "            nn.BatchNorm2d(out_),\n",
    "            nn.ReLU(),\n",
    "            nn.Conv2d(out_, out_, 3, 1, 1),\n",
    "        )\n",
    "        self.conv2 = nn.Sequential(\n",
    "            nn.Conv2d(out_, out_, 3, 1, 1),\n",
    "            nn.BatchNorm2d(out_),\n",
    "            nn.ReLU(),\n",
    "            nn.Conv2d(out_, out_, 3, 1, 1),\n",
    "        )\n",
    "    def forward(self, x):\n",
    "        x = self.conv1(x) + self.shortcut1(x)\n",
    "        x = F.relu(x)\n",
    "        x = self.conv2(x) + self.shortcut2(x)\n",
    "        x = F.relu(x)\n",
    "        return x\n",
    "    \n",
    "class ResNet(nn.Module):\n",
    "    def __init__(self, n=11):\n",
    "        super().__init__()\n",
    "        self.layer1 = nn.Sequential(\n",
    "            nn.Conv2d(3, 64, 7, 2, 3),\n",
    "            nn.BatchNorm2d(64),\n",
    "            nn.ReLU(),\n",
    "            nn.MaxPool2d(3, 2, 1)\n",
    "        )\n",
    "        self.layer2 = Residual(64, 64)\n",
    "        self.layer3 = Residual(64, 128)\n",
    "        self.layer4 = Residual(128, 256)\n",
    "        self.layer5 = Residual(256, 512)\n",
    "        self.avgpool = nn.AdaptiveAvgPool2d((1, 1))\n",
    "        self.clf = nn.Linear(512, n)\n",
    "        \n",
    "    def forward(self, x):\n",
    "        x = self.layer1(x)\n",
    "        x = self.layer2(x)\n",
    "        x = self.layer3(x)\n",
    "        x = self.layer4(x)\n",
    "        x = self.layer5(x)\n",
    "        x = self.avgpool(x)\n",
    "        x = x.view(x.size(0), -1)\n",
    "        x = self.clf(x)\n",
    "        return x"
   ]
  },
  {
   "cell_type": "code",
   "execution_count": 43,
   "metadata": {},
   "outputs": [],
   "source": [
    "class ZFNet(nn.Module):\n",
    "    def __init__(self, num_classes=11):\n",
    "        super().__init__()\n",
    "        self.layer1 = nn.Sequential(\n",
    "            nn.Conv2d(3, 96, 7, 2, 1),\n",
    "            nn.ReLU(),\n",
    "            nn.LocalResponseNorm(96),\n",
    "            nn.MaxPool2d(3, 2, 1)\n",
    "        )\n",
    "        self.layer2 = nn.Sequential(\n",
    "            nn.Conv2d(96, 256, 5, 2),\n",
    "            nn.ReLU(),\n",
    "            nn.LocalResponseNorm(256),\n",
    "            nn.MaxPool2d(3, 2, 1)\n",
    "        )\n",
    "        self.layer3 = nn.Sequential(\n",
    "            nn.Conv2d(256, 512, 3, 1, 1),\n",
    "            nn.ReLU(),\n",
    "            nn.Conv2d(512, 1024, 3, 1, 1),\n",
    "            nn.ReLU(),\n",
    "            nn.Conv2d(1024, 512, 3, 1, 1),\n",
    "            nn.ReLU(),\n",
    "            nn.MaxPool2d(3, 2)\n",
    "        )\n",
    "        self.layer4 = nn.Sequential(\n",
    "            nn.Linear(512*6*6, 4096),\n",
    "            nn.ReLU(),\n",
    "            nn.Dropout(0.5),\n",
    "            nn.Linear(4096, 4096),\n",
    "            nn.ReLU(),\n",
    "            nn.Dropout(0.5),\n",
    "            nn.Linear(4096, num_classes)\n",
    "        )\n",
    "    def forward(self, x):\n",
    "        x = self.layer1(x)\n",
    "        x = self.layer2(x)\n",
    "        x = self.layer3(x)\n",
    "        x = x.view(x.size(0), -1)\n",
    "        x = self.layer4(x)\n",
    "        return x"
   ]
  },
  {
   "cell_type": "code",
   "execution_count": 8,
   "metadata": {},
   "outputs": [],
   "source": [
    "class LeNet5(nn.Module):\n",
    "    def __init__(self, num_classes=11):\n",
    "        super(LeNet5, self).__init__()\n",
    "        self.conv = nn.Sequential(\n",
    "            nn.Conv2d(3, 6, 5),\n",
    "            nn.ReLU(),\n",
    "            nn.AvgPool2d(2),\n",
    "            nn.Conv2d(6, 16, 5),\n",
    "            nn.ReLU(),\n",
    "            nn.AvgPool2d(2),\n",
    "            nn.Conv2d(16, 120, 5),\n",
    "        )\n",
    "        self.fc = nn.Sequential(\n",
    "            nn.Linear(120, 84),\n",
    "            nn.ReLU(),\n",
    "            nn.Linear(84, num_classes)\n",
    "        )\n",
    "    def forward(self, x):\n",
    "        x = self.conv(x)\n",
    "        x = x.view(x.size(0), -1)\n",
    "        x = self.fc(x)\n",
    "        return x\n",
    "        "
   ]
  },
  {
   "cell_type": "code",
   "execution_count": null,
   "metadata": {},
   "outputs": [],
   "source": [
    "##### OTHERS\n",
    "class Permute:\n",
    "    def __call__(x: torch.Tensor):\n",
    "        x = x.permute(0, 2, 1)\n",
    "        return x"
   ]
  },
  {
   "cell_type": "code",
   "execution_count": 3,
   "metadata": {},
   "outputs": [],
   "source": [
    "class VisionTransformer(nn.Module):\n",
    "    def __init__(self, num_classes=11):\n",
    "        super().__init__()\n",
    "        self.cls_token = nn.Parameter(torch.randn(1, 1, 768))\n",
    "        self.position = nn.Parameter(torch.randn(1, 197, 768))\n",
    "        self.conv_embed = nn.Conv2d(15, 768, 16, 16)\n",
    "        self.q = nn.Linear(768, 768)\n",
    "        self.k = nn.Linear(768, 768)\n",
    "        self.v = nn.Linear(768, 768)\n",
    "        self.proj = nn.Linear(768, 768)\n",
    "        self.ln = nn.LayerNorm(768)\n",
    "        self.tf_mlp = nn.Sequential(\n",
    "            nn.LayerNorm(768),\n",
    "            nn.Linear(768, 768*2),\n",
    "            nn.GELU(),\n",
    "            nn.Dropout(0.2),\n",
    "            nn.Linear(768*2, 768),\n",
    "            nn.Dropout(0.2),\n",
    "        )\n",
    "        self.clf = nn.Linear(768, num_classes)\n",
    "    \n",
    "    def embedding(self, x):\n",
    "        x = self.conv_embed(x)\n",
    "        x = torch.flatten(x, 2, 3)\n",
    "        x = x.permute(0, 2, 1)  # 1, 196, 768\n",
    "        x = torch.cat([x, self.cls_token], dim=1)\n",
    "        x += self.position \n",
    "        return x  # 1, 197, 768\n",
    "    \n",
    "    def multiHeadAttention(self, x):\n",
    "        q = self.q(x).view(x.size(0), 8, 197, -1)\n",
    "        k = self.k(x).view(x.size(0), 8, 197, -1)\n",
    "        v = self.v(x).view(x.size(0), 8, 197, -1)\n",
    "        A = torch.matmul(q, k.transpose(2, 3))\n",
    "        A = F.softmax(A, dim=-1) / (4 * (6**0.5))\n",
    "        SA = torch.matmul(A, v)\n",
    "        SA = SA.view(SA.size(0), SA.size(2), -1)\n",
    "        SA = self.proj(SA)\n",
    "        return SA\n",
    "    \n",
    "    def transformer(self, x):\n",
    "        res = x\n",
    "        x = self.ln(x)\n",
    "        x = self.multiHeadAttention(x) + res\n",
    "        res = x\n",
    "        x = self.ln(x)\n",
    "        x = self.tf_mlp(x) + res\n",
    "        return x\n",
    "    \n",
    "    def forward(self, x):\n",
    "        x = self.embedding(x)\n",
    "        x = self.transformer(x)\n",
    "        x = torch.mean(x, dim=1)\n",
    "        x = self.ln(x)\n",
    "        x = self.clf(x)\n",
    "        return x"
   ]
  },
  {
   "cell_type": "code",
   "execution_count": 32,
   "metadata": {},
   "outputs": [],
   "source": [
    "sweep_config = {\n",
    "    'method': 'bayes'\n",
    "}\n",
    "\n",
    "metric = {\n",
    "    'name': 'valid_acc',\n",
    "    'goal': 'maximize'\n",
    "}\n",
    "\n",
    "parameters_dict = {\n",
    "    'batch_size': {'values': [4, 8, 16, 32]},\n",
    "    'learning_rate': {\n",
    "        'distribution': 'uniform',\n",
    "        'min': 1e-3,\n",
    "        'max': 1e-2,\n",
    "    },\n",
    "    'optim': {'values': ['Adam', 'SGD', 'Adadelta']}\n",
    "}\n",
    "\n",
    "sweep_config['metric'] = metric\n",
    "sweep_config['parameters'] = parameters_dict\n",
    "\n",
    "transform = transforms.Compose([\n",
    "    transforms.Resize((48, 48)),\n",
    "    #transforms.AutoAugment(),\n",
    "    transforms.ToTensor(),\n",
    "    transforms.Normalize(mean=[0.485, 0.456, 0.406], std=[0.229, 0.224, 0.225]),\n",
    "])\n",
    "\n",
    "traindata = CustomDataset('./data/', train=True, transform=transform)\n",
    "train_len = int(len(traindata)*0.8)\n",
    "valid_len = len(traindata) - train_len\n",
    "traindata, validdata = random_split(traindata, [train_len, valid_len])"
   ]
  },
  {
   "cell_type": "code",
   "execution_count": 33,
   "metadata": {},
   "outputs": [],
   "source": [
    "deivce = 'cpu'\n",
    "def sweep(config=None):\n",
    "    with wandb.init(config=config):\n",
    "        config = wandb.config\n",
    "        train_loader = DataLoader(traindata, batch_size=config['batch_size'], drop_last=True)\n",
    "        valid_loader = DataLoader(validdata, batch_size=config['batch_size'], drop_last=True)\n",
    "\n",
    "        model = CNN().to(device)\n",
    "        loss_fn = nn.CrossEntropyLoss()\n",
    "        if config['optim'] == 'Adam':\n",
    "            optimizer = torch.optim.Adam(model.parameters(), lr=config['learning_rate'])\n",
    "        elif config['optim'] == 'SGD':\n",
    "            optimizer = torch.optim.SGD(model.parameters(), lr=config['learning_rate'], momentum=0.9)\n",
    "        elif config['optim'] == 'Adadelta':\n",
    "            optimizer = torch.optim.Adadelta(model.parameters(), lr=config['learning_rate'], rho=0.9, eps=1e-8)\n",
    "\n",
    "        best_validation_acc = 0.0\n",
    "        for t in range(50):\n",
    "            print(f\"-------------------------- Epoch {t+1} --------------------------\")\n",
    "            train_acc, train_loss = train_loop(model=model,\n",
    "                                            data_loader=train_loader,\n",
    "                                            loss_func=loss_fn,\n",
    "                                            optimizer=optimizer,\n",
    "                                            device=device)\n",
    "            valid_acc, valid_loss = evaluate_loop(model=model,\n",
    "                                                data_loader=valid_loader, \n",
    "                                                loss_func=loss_fn,\n",
    "                                                device=device)\n",
    "            print(f\"Train Accuracy: {100*train_acc:2.5f}%\\t|\\tTrain Avg Loss: {train_loss}\")\n",
    "            print(f\"Valid Accuracy: {100*valid_acc:2.5f}%\\t|\\tValid Avg Loss: {valid_loss}\")\n",
    "            sample_batch, _ = next(iter(train_loader))\n",
    "            sample_img = to_pil_image(sample_batch[0])\n",
    "            sample_img = wandb.Image(\n",
    "                sample_img,\n",
    "                caption=\"sample image\"\n",
    "            )\n",
    "\n",
    "            images = [to_pil_image(image) for image in sample_batch[:5]]\n",
    "\n",
    "            wandb.log({\n",
    "                \"train_acc\": train_acc,\n",
    "                \"train_loss\": train_loss,\n",
    "                \"valid_acc\": valid_acc,\n",
    "                \"valid_loss\": valid_loss,\n",
    "                \"example\": sample_img,\n",
    "                \"examples\": [wandb.Image(image) for image in images],\n",
    "            })\n",
    "\n",
    "            if valid_acc > best_validation_acc:\n",
    "                torch.save(model.state_dict(), './cnn.pth')"
   ]
  },
  {
   "cell_type": "code",
   "execution_count": null,
   "metadata": {},
   "outputs": [],
   "source": [
    "sweep_id = wandb.sweep(sweep_config, project=\"CNN\")\n",
    "wandb.agent(sweep_id, sweep, count=10)"
   ]
  },
  {
   "cell_type": "code",
   "execution_count": 4,
   "metadata": {},
   "outputs": [
    {
     "data": {
      "text/html": [
       "Tracking run with wandb version 0.16.1"
      ],
      "text/plain": [
       "<IPython.core.display.HTML object>"
      ]
     },
     "metadata": {},
     "output_type": "display_data"
    },
    {
     "data": {
      "text/html": [
       "Run data is saved locally in <code>/Users/tt/Documents/Programming Files/2nd grade/ML 2/Assignment/Assignment#3/wandb/run-20231209_190652-r00s07eg</code>"
      ],
      "text/plain": [
       "<IPython.core.display.HTML object>"
      ]
     },
     "metadata": {},
     "output_type": "display_data"
    },
    {
     "data": {
      "text/html": [
       "Syncing run <strong><a href='https://wandb.ai/kdhyu/ResNet/runs/r00s07eg' target=\"_blank\">resnet18</a></strong> to <a href='https://wandb.ai/kdhyu/ResNet' target=\"_blank\">Weights & Biases</a> (<a href='https://wandb.me/run' target=\"_blank\">docs</a>)<br/>"
      ],
      "text/plain": [
       "<IPython.core.display.HTML object>"
      ]
     },
     "metadata": {},
     "output_type": "display_data"
    },
    {
     "data": {
      "text/html": [
       " View project at <a href='https://wandb.ai/kdhyu/ResNet' target=\"_blank\">https://wandb.ai/kdhyu/ResNet</a>"
      ],
      "text/plain": [
       "<IPython.core.display.HTML object>"
      ]
     },
     "metadata": {},
     "output_type": "display_data"
    },
    {
     "data": {
      "text/html": [
       " View run at <a href='https://wandb.ai/kdhyu/ResNet/runs/r00s07eg' target=\"_blank\">https://wandb.ai/kdhyu/ResNet/runs/r00s07eg</a>"
      ],
      "text/plain": [
       "<IPython.core.display.HTML object>"
      ]
     },
     "metadata": {},
     "output_type": "display_data"
    },
    {
     "name": "stdout",
     "output_type": "stream",
     "text": [
      "--------------------------- Epoch 1 ---------------------------\n"
     ]
    },
    {
     "name": "stderr",
     "output_type": "stream",
     "text": [
      "100%|██████████| 78/78 [03:43<00:00,  2.86s/it]\n",
      "100%|██████████| 20/20 [00:28<00:00,  1.40s/it]\n"
     ]
    },
    {
     "name": "stdout",
     "output_type": "stream",
     "text": [
      "Train Accuracy: 8.21256%\t|\tTrain Avg Loss: 2.45734\n",
      "Valid Accuracy: 2.56410%\t|\tValid Avg Loss: 2.40249\n",
      "--------------------------- Epoch 2 ---------------------------\n"
     ]
    },
    {
     "name": "stderr",
     "output_type": "stream",
     "text": [
      "  0%|          | 0/78 [00:03<?, ?it/s]\n"
     ]
    },
    {
     "ename": "KeyboardInterrupt",
     "evalue": "",
     "output_type": "error",
     "traceback": [
      "\u001b[0;31m---------------------------------------------------------------------------\u001b[0m",
      "\u001b[0;31mKeyboardInterrupt\u001b[0m                         Traceback (most recent call last)",
      "\u001b[1;32m/Users/tt/Documents/Programming Files/2nd grade/ML 2/Assignment/Assignment#3/Assignment3.ipynb Cell 25\u001b[0m line \u001b[0;36m3\n\u001b[1;32m     <a href='vscode-notebook-cell:/Users/tt/Documents/Programming%20Files/2nd%20grade/ML%202/Assignment/Assignment%233/Assignment3.ipynb#Y103sZmlsZQ%3D%3D?line=28'>29</a>\u001b[0m \u001b[39mfor\u001b[39;00m t \u001b[39min\u001b[39;00m \u001b[39mrange\u001b[39m(\u001b[39m50\u001b[39m):\n\u001b[1;32m     <a href='vscode-notebook-cell:/Users/tt/Documents/Programming%20Files/2nd%20grade/ML%202/Assignment/Assignment%233/Assignment3.ipynb#Y103sZmlsZQ%3D%3D?line=29'>30</a>\u001b[0m     \u001b[39mprint\u001b[39m(\u001b[39mf\u001b[39m\u001b[39m\"\u001b[39m\u001b[39m--------------------------- Epoch \u001b[39m\u001b[39m{\u001b[39;00mt\u001b[39m+\u001b[39m\u001b[39m1\u001b[39m\u001b[39m}\u001b[39;00m\u001b[39m ---------------------------\u001b[39m\u001b[39m\"\u001b[39m)\n\u001b[0;32m---> <a href='vscode-notebook-cell:/Users/tt/Documents/Programming%20Files/2nd%20grade/ML%202/Assignment/Assignment%233/Assignment3.ipynb#Y103sZmlsZQ%3D%3D?line=30'>31</a>\u001b[0m     train_acc, train_loss \u001b[39m=\u001b[39m train_loop(model\u001b[39m=\u001b[39;49mmodel,\n\u001b[1;32m     <a href='vscode-notebook-cell:/Users/tt/Documents/Programming%20Files/2nd%20grade/ML%202/Assignment/Assignment%233/Assignment3.ipynb#Y103sZmlsZQ%3D%3D?line=31'>32</a>\u001b[0m                                        data_loader\u001b[39m=\u001b[39;49mtrain_loader,\n\u001b[1;32m     <a href='vscode-notebook-cell:/Users/tt/Documents/Programming%20Files/2nd%20grade/ML%202/Assignment/Assignment%233/Assignment3.ipynb#Y103sZmlsZQ%3D%3D?line=32'>33</a>\u001b[0m                                        loss_func\u001b[39m=\u001b[39;49mloss_fn,\n\u001b[1;32m     <a href='vscode-notebook-cell:/Users/tt/Documents/Programming%20Files/2nd%20grade/ML%202/Assignment/Assignment%233/Assignment3.ipynb#Y103sZmlsZQ%3D%3D?line=33'>34</a>\u001b[0m                                        optimizer\u001b[39m=\u001b[39;49moptimizer,\n\u001b[1;32m     <a href='vscode-notebook-cell:/Users/tt/Documents/Programming%20Files/2nd%20grade/ML%202/Assignment/Assignment%233/Assignment3.ipynb#Y103sZmlsZQ%3D%3D?line=34'>35</a>\u001b[0m                                        transform\u001b[39m=\u001b[39;49mtransforms\u001b[39m.\u001b[39;49mRandomPerspective(\u001b[39m0.1\u001b[39;49m, \u001b[39m0.01\u001b[39;49m),\n\u001b[1;32m     <a href='vscode-notebook-cell:/Users/tt/Documents/Programming%20Files/2nd%20grade/ML%202/Assignment/Assignment%233/Assignment3.ipynb#Y103sZmlsZQ%3D%3D?line=35'>36</a>\u001b[0m                                        device\u001b[39m=\u001b[39;49mdevice)\n\u001b[1;32m     <a href='vscode-notebook-cell:/Users/tt/Documents/Programming%20Files/2nd%20grade/ML%202/Assignment/Assignment%233/Assignment3.ipynb#Y103sZmlsZQ%3D%3D?line=36'>37</a>\u001b[0m     valid_acc, valid_loss \u001b[39m=\u001b[39m evaluate_loop(model\u001b[39m=\u001b[39mmodel,\n\u001b[1;32m     <a href='vscode-notebook-cell:/Users/tt/Documents/Programming%20Files/2nd%20grade/ML%202/Assignment/Assignment%233/Assignment3.ipynb#Y103sZmlsZQ%3D%3D?line=37'>38</a>\u001b[0m                                           data_loader\u001b[39m=\u001b[39mvalid_loader, \n\u001b[1;32m     <a href='vscode-notebook-cell:/Users/tt/Documents/Programming%20Files/2nd%20grade/ML%202/Assignment/Assignment%233/Assignment3.ipynb#Y103sZmlsZQ%3D%3D?line=38'>39</a>\u001b[0m                                           loss_func\u001b[39m=\u001b[39mloss_fn,\n\u001b[1;32m     <a href='vscode-notebook-cell:/Users/tt/Documents/Programming%20Files/2nd%20grade/ML%202/Assignment/Assignment%233/Assignment3.ipynb#Y103sZmlsZQ%3D%3D?line=39'>40</a>\u001b[0m                                           device\u001b[39m=\u001b[39mdevice)\n\u001b[1;32m     <a href='vscode-notebook-cell:/Users/tt/Documents/Programming%20Files/2nd%20grade/ML%202/Assignment/Assignment%233/Assignment3.ipynb#Y103sZmlsZQ%3D%3D?line=40'>41</a>\u001b[0m     \u001b[39mprint\u001b[39m(\u001b[39mf\u001b[39m\u001b[39m\"\u001b[39m\u001b[39mTrain Accuracy: \u001b[39m\u001b[39m{\u001b[39;00m\u001b[39m100\u001b[39m\u001b[39m*\u001b[39mtrain_acc\u001b[39m:\u001b[39;00m\u001b[39m2.5f\u001b[39m\u001b[39m}\u001b[39;00m\u001b[39m%\u001b[39m\u001b[39m\\t\u001b[39;00m\u001b[39m|\u001b[39m\u001b[39m\\t\u001b[39;00m\u001b[39mTrain Avg Loss: \u001b[39m\u001b[39m{\u001b[39;00mtrain_loss\u001b[39m:\u001b[39;00m\u001b[39m2.5f\u001b[39m\u001b[39m}\u001b[39;00m\u001b[39m\"\u001b[39m)\n",
      "File \u001b[0;32m~/Documents/Programming Files/2nd grade/ML 2/Assignment/Assignment#3/model_util.py:32\u001b[0m, in \u001b[0;36mtrain_loop\u001b[0;34m(model, data_loader, loss_func, optimizer, device, transform, google, hide_process)\u001b[0m\n\u001b[1;32m     30\u001b[0m \u001b[39melse\u001b[39;00m:\n\u001b[1;32m     31\u001b[0m     loss \u001b[39m=\u001b[39m loss_func(yhat, y)\n\u001b[0;32m---> 32\u001b[0m loss\u001b[39m.\u001b[39;49mbackward()\n\u001b[1;32m     33\u001b[0m optimizer\u001b[39m.\u001b[39mstep()\n\u001b[1;32m     34\u001b[0m loss_tmp \u001b[39m+\u001b[39m\u001b[39m=\u001b[39m loss\u001b[39m.\u001b[39mitem()     \n",
      "File \u001b[0;32m~/miniforge3/envs/ds/lib/python3.8/site-packages/torch/_tensor.py:488\u001b[0m, in \u001b[0;36mTensor.backward\u001b[0;34m(self, gradient, retain_graph, create_graph, inputs)\u001b[0m\n\u001b[1;32m    478\u001b[0m \u001b[39mif\u001b[39;00m has_torch_function_unary(\u001b[39mself\u001b[39m):\n\u001b[1;32m    479\u001b[0m     \u001b[39mreturn\u001b[39;00m handle_torch_function(\n\u001b[1;32m    480\u001b[0m         Tensor\u001b[39m.\u001b[39mbackward,\n\u001b[1;32m    481\u001b[0m         (\u001b[39mself\u001b[39m,),\n\u001b[0;32m   (...)\u001b[0m\n\u001b[1;32m    486\u001b[0m         inputs\u001b[39m=\u001b[39minputs,\n\u001b[1;32m    487\u001b[0m     )\n\u001b[0;32m--> 488\u001b[0m torch\u001b[39m.\u001b[39;49mautograd\u001b[39m.\u001b[39;49mbackward(\n\u001b[1;32m    489\u001b[0m     \u001b[39mself\u001b[39;49m, gradient, retain_graph, create_graph, inputs\u001b[39m=\u001b[39;49minputs\n\u001b[1;32m    490\u001b[0m )\n",
      "File \u001b[0;32m~/miniforge3/envs/ds/lib/python3.8/site-packages/torch/autograd/__init__.py:197\u001b[0m, in \u001b[0;36mbackward\u001b[0;34m(tensors, grad_tensors, retain_graph, create_graph, grad_variables, inputs)\u001b[0m\n\u001b[1;32m    192\u001b[0m     retain_graph \u001b[39m=\u001b[39m create_graph\n\u001b[1;32m    194\u001b[0m \u001b[39m# The reason we repeat same the comment below is that\u001b[39;00m\n\u001b[1;32m    195\u001b[0m \u001b[39m# some Python versions print out the first line of a multi-line function\u001b[39;00m\n\u001b[1;32m    196\u001b[0m \u001b[39m# calls in the traceback and some print out the last line\u001b[39;00m\n\u001b[0;32m--> 197\u001b[0m Variable\u001b[39m.\u001b[39;49m_execution_engine\u001b[39m.\u001b[39;49mrun_backward(  \u001b[39m# Calls into the C++ engine to run the backward pass\u001b[39;49;00m\n\u001b[1;32m    198\u001b[0m     tensors, grad_tensors_, retain_graph, create_graph, inputs,\n\u001b[1;32m    199\u001b[0m     allow_unreachable\u001b[39m=\u001b[39;49m\u001b[39mTrue\u001b[39;49;00m, accumulate_grad\u001b[39m=\u001b[39;49m\u001b[39mTrue\u001b[39;49;00m)\n",
      "\u001b[0;31mKeyboardInterrupt\u001b[0m: "
     ]
    }
   ],
   "source": [
    "wandb.init(\n",
    "    # Set the project where this run will be logged\n",
    "    project=\"ResNet\",\n",
    "    # We pass a run name (otherwise it’ll be randomly assigned, like sunshine-lollypop-10)\n",
    "    name=\"resnet18\"\n",
    ")\n",
    "transform = transforms.Compose([\n",
    "    transforms.Resize((224, 224)),\n",
    "    #transforms.RandomPosterize(2, 1),\n",
    "    transforms.ToTensor(),\n",
    "    transforms.Normalize(mean=[0.485, 0.456, 0.406], std=[0.229, 0.224, 0.225]),\n",
    "])\n",
    "\n",
    "traindata = CustomDataset('./data/', train=True, transform=transform)\n",
    "train_len = int(len(traindata)*0.8)\n",
    "valid_len = len(traindata) - train_len\n",
    "traindata, validdata = random_split(traindata, [train_len, valid_len])\n",
    "#traindata += CustomDataset('./data/', train=True, transform=transform2)\n",
    "\n",
    "device='cpu'\n",
    "\n",
    "train_loader = DataLoader(traindata, shuffle=True, batch_size=8)\n",
    "valid_loader = DataLoader(validdata, shuffle=True, batch_size=8)\n",
    "model = ResNet().to(device)\n",
    "loss_fn = nn.CrossEntropyLoss().to(device)\n",
    "optimizer = torch.optim.Adam(model.parameters(), lr=0.0005, weight_decay=1e-6)\n",
    "\n",
    "best_validation_acc = 0.0\n",
    "for t in range(50):\n",
    "    print(f\"--------------------------- Epoch {t+1} ---------------------------\")\n",
    "    train_acc, train_loss = train_loop(model=model,\n",
    "                                       data_loader=train_loader,\n",
    "                                       loss_func=loss_fn,\n",
    "                                       optimizer=optimizer,\n",
    "                                       transform=transforms.RandomPerspective(0.1, 0.01),\n",
    "                                       device=device)\n",
    "    valid_acc, valid_loss = evaluate_loop(model=model,\n",
    "                                          data_loader=valid_loader, \n",
    "                                          loss_func=loss_fn,\n",
    "                                          device=device)\n",
    "    print(f\"Train Accuracy: {100*train_acc:2.5f}%\\t|\\tTrain Avg Loss: {train_loss:2.5f}\")\n",
    "    print(f\"Valid Accuracy: {100*valid_acc:2.5f}%\\t|\\tValid Avg Loss: {valid_loss:2.5f}\")\n",
    "    sample_batch, _ = next(iter(train_loader)) \n",
    "    #sample_img = to_pil_image(sample_batch[0])\n",
    "    sample_img = to_pil_image(sample_batch[0, :3, :, :])\n",
    "    sample_img = wandb.Image( # single image\n",
    "        sample_img,\n",
    "        caption=\"sample image\"\n",
    "    )\n",
    "\n",
    "    wandb.log({\n",
    "        \"train_acc\": train_acc,\n",
    "        \"valid_acc\": valid_acc,\n",
    "        \"train_loss\": train_loss,\n",
    "        \"valid_loss\": valid_loss,\n",
    "        \"example\": sample_img,\n",
    "    })\n",
    "\n",
    "    if valid_acc > best_validation_acc:\n",
    "        torch.save(model.state_dict(), './resnet.pth')"
   ]
  },
  {
   "cell_type": "code",
   "execution_count": 7,
   "metadata": {},
   "outputs": [
    {
     "data": {
      "text/html": [
       "Finishing last run (ID:t3jpuint) before initializing another..."
      ],
      "text/plain": [
       "<IPython.core.display.HTML object>"
      ]
     },
     "metadata": {},
     "output_type": "display_data"
    },
    {
     "data": {
      "application/vnd.jupyter.widget-view+json": {
       "model_id": "0d13d50ec45a4865b7fba15ac5c4fa38",
       "version_major": 2,
       "version_minor": 0
      },
      "text/plain": [
       "VBox(children=(Label(value='0.088 MB of 0.088 MB uploaded\\r'), FloatProgress(value=1.0, max=1.0)))"
      ]
     },
     "metadata": {},
     "output_type": "display_data"
    },
    {
     "name": "stderr",
     "output_type": "stream",
     "text": [
      "wandb: WARNING Source type is set to 'repo' but some required information is missing from the environment. A job will not be created from this run. See https://docs.wandb.ai/guides/launch/create-job\n"
     ]
    },
    {
     "data": {
      "text/html": [
       "<style>\n",
       "    table.wandb td:nth-child(1) { padding: 0 10px; text-align: left ; width: auto;} td:nth-child(2) {text-align: left ; width: 100%}\n",
       "    .wandb-row { display: flex; flex-direction: row; flex-wrap: wrap; justify-content: flex-start; width: 100% }\n",
       "    .wandb-col { display: flex; flex-direction: column; flex-basis: 100%; flex: 1; padding: 10px; }\n",
       "    </style>\n",
       "<div class=\"wandb-row\"><div class=\"wandb-col\"><h3>Run history:</h3><br/><table class=\"wandb\"><tr><td>train_acc</td><td>▁</td></tr><tr><td>train_loss</td><td>▁</td></tr><tr><td>valid_acc</td><td>▁</td></tr><tr><td>valid_loss</td><td>▁</td></tr></table><br/></div><div class=\"wandb-col\"><h3>Run summary:</h3><br/><table class=\"wandb\"><tr><td>train_acc</td><td>0.11594</td></tr><tr><td>train_loss</td><td>2.82976</td></tr><tr><td>valid_acc</td><td>0.13462</td></tr><tr><td>valid_loss</td><td>2.60938</td></tr></table><br/></div></div>"
      ],
      "text/plain": [
       "<IPython.core.display.HTML object>"
      ]
     },
     "metadata": {},
     "output_type": "display_data"
    },
    {
     "data": {
      "text/html": [
       " View run <strong style=\"color:#cdcd00\">VisionTransformer</strong> at: <a href='https://wandb.ai/kdhyu/ViT/runs/t3jpuint' target=\"_blank\">https://wandb.ai/kdhyu/ViT/runs/t3jpuint</a><br/>Synced 6 W&B file(s), 1 media file(s), 0 artifact file(s) and 0 other file(s)"
      ],
      "text/plain": [
       "<IPython.core.display.HTML object>"
      ]
     },
     "metadata": {},
     "output_type": "display_data"
    },
    {
     "data": {
      "text/html": [
       "Find logs at: <code>./wandb/run-20231210_003425-t3jpuint/logs</code>"
      ],
      "text/plain": [
       "<IPython.core.display.HTML object>"
      ]
     },
     "metadata": {},
     "output_type": "display_data"
    },
    {
     "data": {
      "text/html": [
       "Successfully finished last run (ID:t3jpuint). Initializing new run:<br/>"
      ],
      "text/plain": [
       "<IPython.core.display.HTML object>"
      ]
     },
     "metadata": {},
     "output_type": "display_data"
    },
    {
     "data": {
      "application/vnd.jupyter.widget-view+json": {
       "model_id": "d95c868feb1b47a5a83dd42d2cba4a85",
       "version_major": 2,
       "version_minor": 0
      },
      "text/plain": [
       "VBox(children=(Label(value='Waiting for wandb.init()...\\r'), FloatProgress(value=0.01116781712222203, max=1.0)…"
      ]
     },
     "metadata": {},
     "output_type": "display_data"
    },
    {
     "data": {
      "text/html": [
       "Tracking run with wandb version 0.16.1"
      ],
      "text/plain": [
       "<IPython.core.display.HTML object>"
      ]
     },
     "metadata": {},
     "output_type": "display_data"
    },
    {
     "data": {
      "text/html": [
       "Run data is saved locally in <code>/Users/tt/Documents/Programming Files/2nd grade/ML 2/Assignment/Assignment#3/wandb/run-20231210_003700-k40wb0a9</code>"
      ],
      "text/plain": [
       "<IPython.core.display.HTML object>"
      ]
     },
     "metadata": {},
     "output_type": "display_data"
    },
    {
     "data": {
      "text/html": [
       "Syncing run <strong><a href='https://wandb.ai/kdhyu/ViT/runs/k40wb0a9' target=\"_blank\">VisionTransformer</a></strong> to <a href='https://wandb.ai/kdhyu/ViT' target=\"_blank\">Weights & Biases</a> (<a href='https://wandb.me/run' target=\"_blank\">docs</a>)<br/>"
      ],
      "text/plain": [
       "<IPython.core.display.HTML object>"
      ]
     },
     "metadata": {},
     "output_type": "display_data"
    },
    {
     "data": {
      "text/html": [
       " View project at <a href='https://wandb.ai/kdhyu/ViT' target=\"_blank\">https://wandb.ai/kdhyu/ViT</a>"
      ],
      "text/plain": [
       "<IPython.core.display.HTML object>"
      ]
     },
     "metadata": {},
     "output_type": "display_data"
    },
    {
     "data": {
      "text/html": [
       " View run at <a href='https://wandb.ai/kdhyu/ViT/runs/k40wb0a9' target=\"_blank\">https://wandb.ai/kdhyu/ViT/runs/k40wb0a9</a>"
      ],
      "text/plain": [
       "<IPython.core.display.HTML object>"
      ]
     },
     "metadata": {},
     "output_type": "display_data"
    },
    {
     "name": "stdout",
     "output_type": "stream",
     "text": [
      "--------------------------- Epoch 1 ---------------------------\n"
     ]
    },
    {
     "name": "stderr",
     "output_type": "stream",
     "text": [
      "100%|██████████| 621/621 [01:15<00:00,  8.26it/s]\n",
      "100%|██████████| 156/156 [00:14<00:00, 10.89it/s]\n"
     ]
    },
    {
     "name": "stdout",
     "output_type": "stream",
     "text": [
      "Train Accuracy: 9.33977%\t|\tTrain Avg Loss: 2.92411\n",
      "Valid Accuracy: 6.41026%\t|\tValid Avg Loss: 2.51015\n",
      "--------------------------- Epoch 2 ---------------------------\n"
     ]
    },
    {
     "name": "stderr",
     "output_type": "stream",
     "text": [
      "100%|██████████| 621/621 [01:14<00:00,  8.33it/s]\n",
      "100%|██████████| 156/156 [00:14<00:00, 10.93it/s]\n"
     ]
    },
    {
     "name": "stdout",
     "output_type": "stream",
     "text": [
      "Train Accuracy: 11.59420%\t|\tTrain Avg Loss: 2.48648\n",
      "Valid Accuracy: 9.61538%\t|\tValid Avg Loss: 2.42431\n",
      "--------------------------- Epoch 3 ---------------------------\n"
     ]
    },
    {
     "name": "stderr",
     "output_type": "stream",
     "text": [
      "100%|██████████| 621/621 [01:14<00:00,  8.34it/s]\n",
      "100%|██████████| 156/156 [00:14<00:00, 10.89it/s]\n"
     ]
    },
    {
     "name": "stdout",
     "output_type": "stream",
     "text": [
      "Train Accuracy: 12.72142%\t|\tTrain Avg Loss: 2.42628\n",
      "Valid Accuracy: 16.02564%\t|\tValid Avg Loss: 2.45011\n",
      "--------------------------- Epoch 4 ---------------------------\n"
     ]
    },
    {
     "name": "stderr",
     "output_type": "stream",
     "text": [
      "100%|██████████| 621/621 [01:15<00:00,  8.26it/s]\n",
      "100%|██████████| 156/156 [00:14<00:00, 10.86it/s]\n"
     ]
    },
    {
     "name": "stdout",
     "output_type": "stream",
     "text": [
      "Train Accuracy: 14.00966%\t|\tTrain Avg Loss: 2.38325\n",
      "Valid Accuracy: 16.02564%\t|\tValid Avg Loss: 2.39958\n",
      "--------------------------- Epoch 5 ---------------------------\n"
     ]
    },
    {
     "name": "stderr",
     "output_type": "stream",
     "text": [
      "100%|██████████| 621/621 [01:14<00:00,  8.29it/s]\n",
      "100%|██████████| 156/156 [00:14<00:00, 10.87it/s]\n"
     ]
    },
    {
     "name": "stdout",
     "output_type": "stream",
     "text": [
      "Train Accuracy: 18.84058%\t|\tTrain Avg Loss: 2.30628\n",
      "Valid Accuracy: 21.15385%\t|\tValid Avg Loss: 2.40560\n",
      "--------------------------- Epoch 6 ---------------------------\n"
     ]
    },
    {
     "name": "stderr",
     "output_type": "stream",
     "text": [
      "100%|██████████| 621/621 [01:14<00:00,  8.30it/s]\n",
      "100%|██████████| 156/156 [00:14<00:00, 10.88it/s]\n"
     ]
    },
    {
     "name": "stdout",
     "output_type": "stream",
     "text": [
      "Train Accuracy: 19.48470%\t|\tTrain Avg Loss: 2.28485\n",
      "Valid Accuracy: 21.15385%\t|\tValid Avg Loss: 2.25254\n",
      "--------------------------- Epoch 7 ---------------------------\n"
     ]
    },
    {
     "name": "stderr",
     "output_type": "stream",
     "text": [
      "100%|██████████| 621/621 [01:15<00:00,  8.26it/s]\n",
      "100%|██████████| 156/156 [00:14<00:00, 10.86it/s]\n"
     ]
    },
    {
     "name": "stdout",
     "output_type": "stream",
     "text": [
      "Train Accuracy: 18.35749%\t|\tTrain Avg Loss: 2.22939\n",
      "Valid Accuracy: 20.51282%\t|\tValid Avg Loss: 2.31941\n",
      "--------------------------- Epoch 8 ---------------------------\n"
     ]
    },
    {
     "name": "stderr",
     "output_type": "stream",
     "text": [
      "100%|██████████| 621/621 [01:15<00:00,  8.25it/s]\n",
      "100%|██████████| 156/156 [00:14<00:00, 10.84it/s]\n"
     ]
    },
    {
     "name": "stdout",
     "output_type": "stream",
     "text": [
      "Train Accuracy: 22.22222%\t|\tTrain Avg Loss: 2.16976\n",
      "Valid Accuracy: 20.51282%\t|\tValid Avg Loss: 2.30250\n",
      "--------------------------- Epoch 9 ---------------------------\n"
     ]
    },
    {
     "name": "stderr",
     "output_type": "stream",
     "text": [
      "100%|██████████| 621/621 [01:15<00:00,  8.24it/s]\n",
      "100%|██████████| 156/156 [00:14<00:00, 10.85it/s]\n"
     ]
    },
    {
     "name": "stdout",
     "output_type": "stream",
     "text": [
      "Train Accuracy: 22.86634%\t|\tTrain Avg Loss: 2.13146\n",
      "Valid Accuracy: 23.71795%\t|\tValid Avg Loss: 2.15503\n",
      "--------------------------- Epoch 10 ---------------------------\n"
     ]
    },
    {
     "name": "stderr",
     "output_type": "stream",
     "text": [
      "100%|██████████| 621/621 [01:15<00:00,  8.25it/s]\n",
      "100%|██████████| 156/156 [00:14<00:00, 10.85it/s]\n"
     ]
    },
    {
     "name": "stdout",
     "output_type": "stream",
     "text": [
      "Train Accuracy: 23.83253%\t|\tTrain Avg Loss: 2.07871\n",
      "Valid Accuracy: 19.23077%\t|\tValid Avg Loss: 2.22414\n",
      "--------------------------- Epoch 11 ---------------------------\n"
     ]
    },
    {
     "name": "stderr",
     "output_type": "stream",
     "text": [
      "100%|██████████| 621/621 [01:15<00:00,  8.27it/s]\n",
      "100%|██████████| 156/156 [00:14<00:00, 10.87it/s]\n"
     ]
    },
    {
     "name": "stdout",
     "output_type": "stream",
     "text": [
      "Train Accuracy: 25.76490%\t|\tTrain Avg Loss: 2.05836\n",
      "Valid Accuracy: 20.51282%\t|\tValid Avg Loss: 2.17546\n",
      "--------------------------- Epoch 12 ---------------------------\n"
     ]
    },
    {
     "name": "stderr",
     "output_type": "stream",
     "text": [
      "100%|██████████| 621/621 [01:15<00:00,  8.27it/s]\n",
      "100%|██████████| 156/156 [00:14<00:00, 10.87it/s]\n"
     ]
    },
    {
     "name": "stdout",
     "output_type": "stream",
     "text": [
      "Train Accuracy: 29.46860%\t|\tTrain Avg Loss: 1.95300\n",
      "Valid Accuracy: 26.28205%\t|\tValid Avg Loss: 2.16777\n",
      "--------------------------- Epoch 13 ---------------------------\n"
     ]
    },
    {
     "name": "stderr",
     "output_type": "stream",
     "text": [
      "100%|██████████| 621/621 [01:15<00:00,  8.23it/s]\n",
      "100%|██████████| 156/156 [00:14<00:00, 10.85it/s]\n"
     ]
    },
    {
     "name": "stdout",
     "output_type": "stream",
     "text": [
      "Train Accuracy: 29.62963%\t|\tTrain Avg Loss: 1.91988\n",
      "Valid Accuracy: 30.12821%\t|\tValid Avg Loss: 2.03052\n",
      "--------------------------- Epoch 14 ---------------------------\n"
     ]
    },
    {
     "name": "stderr",
     "output_type": "stream",
     "text": [
      "100%|██████████| 621/621 [01:15<00:00,  8.28it/s]\n",
      "100%|██████████| 156/156 [00:14<00:00, 10.81it/s]\n"
     ]
    },
    {
     "name": "stdout",
     "output_type": "stream",
     "text": [
      "Train Accuracy: 28.98551%\t|\tTrain Avg Loss: 1.97407\n",
      "Valid Accuracy: 24.35897%\t|\tValid Avg Loss: 2.11359\n",
      "--------------------------- Epoch 15 ---------------------------\n"
     ]
    },
    {
     "name": "stderr",
     "output_type": "stream",
     "text": [
      "100%|██████████| 621/621 [01:15<00:00,  8.27it/s]\n",
      "100%|██████████| 156/156 [00:14<00:00, 10.86it/s]\n"
     ]
    },
    {
     "name": "stdout",
     "output_type": "stream",
     "text": [
      "Train Accuracy: 29.30757%\t|\tTrain Avg Loss: 1.93761\n",
      "Valid Accuracy: 24.35897%\t|\tValid Avg Loss: 1.97293\n",
      "--------------------------- Epoch 16 ---------------------------\n"
     ]
    },
    {
     "name": "stderr",
     "output_type": "stream",
     "text": [
      "100%|██████████| 621/621 [01:15<00:00,  8.25it/s]\n",
      "100%|██████████| 156/156 [00:14<00:00, 10.88it/s]\n"
     ]
    },
    {
     "name": "stdout",
     "output_type": "stream",
     "text": [
      "Train Accuracy: 35.42673%\t|\tTrain Avg Loss: 1.84224\n",
      "Valid Accuracy: 32.69231%\t|\tValid Avg Loss: 1.92522\n",
      "--------------------------- Epoch 17 ---------------------------\n"
     ]
    },
    {
     "name": "stderr",
     "output_type": "stream",
     "text": [
      "100%|██████████| 621/621 [01:15<00:00,  8.21it/s]\n",
      "100%|██████████| 156/156 [00:14<00:00, 10.83it/s]\n"
     ]
    },
    {
     "name": "stdout",
     "output_type": "stream",
     "text": [
      "Train Accuracy: 35.90982%\t|\tTrain Avg Loss: 1.79116\n",
      "Valid Accuracy: 32.05128%\t|\tValid Avg Loss: 1.98504\n",
      "--------------------------- Epoch 18 ---------------------------\n"
     ]
    },
    {
     "name": "stderr",
     "output_type": "stream",
     "text": [
      "100%|██████████| 621/621 [01:15<00:00,  8.26it/s]\n",
      "100%|██████████| 156/156 [00:14<00:00, 10.86it/s]\n"
     ]
    },
    {
     "name": "stdout",
     "output_type": "stream",
     "text": [
      "Train Accuracy: 36.87601%\t|\tTrain Avg Loss: 1.77922\n",
      "Valid Accuracy: 33.33333%\t|\tValid Avg Loss: 2.00373\n",
      "--------------------------- Epoch 19 ---------------------------\n"
     ]
    },
    {
     "name": "stderr",
     "output_type": "stream",
     "text": [
      "100%|██████████| 621/621 [01:15<00:00,  8.22it/s]\n",
      "100%|██████████| 156/156 [00:14<00:00, 10.79it/s]\n"
     ]
    },
    {
     "name": "stdout",
     "output_type": "stream",
     "text": [
      "Train Accuracy: 34.78261%\t|\tTrain Avg Loss: 1.79003\n",
      "Valid Accuracy: 32.69231%\t|\tValid Avg Loss: 2.15226\n",
      "--------------------------- Epoch 20 ---------------------------\n"
     ]
    },
    {
     "name": "stderr",
     "output_type": "stream",
     "text": [
      "100%|██████████| 621/621 [01:15<00:00,  8.24it/s]\n",
      "100%|██████████| 156/156 [00:14<00:00, 10.83it/s]\n"
     ]
    },
    {
     "name": "stdout",
     "output_type": "stream",
     "text": [
      "Train Accuracy: 33.65539%\t|\tTrain Avg Loss: 1.82529\n",
      "Valid Accuracy: 28.20513%\t|\tValid Avg Loss: 2.01028\n",
      "--------------------------- Epoch 21 ---------------------------\n"
     ]
    },
    {
     "name": "stderr",
     "output_type": "stream",
     "text": [
      "100%|██████████| 621/621 [01:15<00:00,  8.20it/s]\n",
      "100%|██████████| 156/156 [00:14<00:00, 10.80it/s]\n"
     ]
    },
    {
     "name": "stdout",
     "output_type": "stream",
     "text": [
      "Train Accuracy: 33.01127%\t|\tTrain Avg Loss: 1.83652\n",
      "Valid Accuracy: 32.69231%\t|\tValid Avg Loss: 1.91126\n",
      "--------------------------- Epoch 22 ---------------------------\n"
     ]
    },
    {
     "name": "stderr",
     "output_type": "stream",
     "text": [
      "100%|██████████| 621/621 [01:15<00:00,  8.24it/s]\n",
      "100%|██████████| 156/156 [00:14<00:00, 10.83it/s]\n"
     ]
    },
    {
     "name": "stdout",
     "output_type": "stream",
     "text": [
      "Train Accuracy: 36.87601%\t|\tTrain Avg Loss: 1.76371\n",
      "Valid Accuracy: 30.76923%\t|\tValid Avg Loss: 1.85329\n",
      "--------------------------- Epoch 23 ---------------------------\n"
     ]
    },
    {
     "name": "stderr",
     "output_type": "stream",
     "text": [
      "100%|██████████| 621/621 [01:15<00:00,  8.24it/s]\n",
      "100%|██████████| 156/156 [00:14<00:00, 10.84it/s]\n"
     ]
    },
    {
     "name": "stdout",
     "output_type": "stream",
     "text": [
      "Train Accuracy: 35.90982%\t|\tTrain Avg Loss: 1.74530\n",
      "Valid Accuracy: 37.17949%\t|\tValid Avg Loss: 1.80415\n",
      "--------------------------- Epoch 24 ---------------------------\n"
     ]
    },
    {
     "name": "stderr",
     "output_type": "stream",
     "text": [
      "100%|██████████| 621/621 [01:15<00:00,  8.24it/s]\n",
      "100%|██████████| 156/156 [00:14<00:00, 10.86it/s]\n"
     ]
    },
    {
     "name": "stdout",
     "output_type": "stream",
     "text": [
      "Train Accuracy: 37.35910%\t|\tTrain Avg Loss: 1.72246\n",
      "Valid Accuracy: 30.76923%\t|\tValid Avg Loss: 1.87987\n",
      "--------------------------- Epoch 25 ---------------------------\n"
     ]
    },
    {
     "name": "stderr",
     "output_type": "stream",
     "text": [
      "100%|██████████| 621/621 [01:15<00:00,  8.24it/s]\n",
      "100%|██████████| 156/156 [00:14<00:00, 10.84it/s]\n"
     ]
    },
    {
     "name": "stdout",
     "output_type": "stream",
     "text": [
      "Train Accuracy: 38.48631%\t|\tTrain Avg Loss: 1.66798\n",
      "Valid Accuracy: 32.05128%\t|\tValid Avg Loss: 1.91758\n",
      "--------------------------- Epoch 26 ---------------------------\n"
     ]
    },
    {
     "name": "stderr",
     "output_type": "stream",
     "text": [
      "100%|██████████| 621/621 [01:14<00:00,  8.28it/s]\n",
      "100%|██████████| 156/156 [00:14<00:00, 10.87it/s]\n"
     ]
    },
    {
     "name": "stdout",
     "output_type": "stream",
     "text": [
      "Train Accuracy: 38.80837%\t|\tTrain Avg Loss: 1.66891\n",
      "Valid Accuracy: 30.12821%\t|\tValid Avg Loss: 1.88003\n",
      "--------------------------- Epoch 27 ---------------------------\n"
     ]
    },
    {
     "name": "stderr",
     "output_type": "stream",
     "text": [
      "100%|██████████| 621/621 [01:15<00:00,  8.22it/s]\n",
      "100%|██████████| 156/156 [00:14<00:00, 10.83it/s]\n"
     ]
    },
    {
     "name": "stdout",
     "output_type": "stream",
     "text": [
      "Train Accuracy: 42.83414%\t|\tTrain Avg Loss: 1.59904\n",
      "Valid Accuracy: 28.84615%\t|\tValid Avg Loss: 1.95112\n",
      "--------------------------- Epoch 28 ---------------------------\n"
     ]
    },
    {
     "name": "stderr",
     "output_type": "stream",
     "text": [
      "100%|██████████| 621/621 [01:14<00:00,  8.28it/s]\n",
      "100%|██████████| 156/156 [00:14<00:00, 10.85it/s]\n"
     ]
    },
    {
     "name": "stdout",
     "output_type": "stream",
     "text": [
      "Train Accuracy: 41.54589%\t|\tTrain Avg Loss: 1.58800\n",
      "Valid Accuracy: 35.25641%\t|\tValid Avg Loss: 1.92086\n",
      "--------------------------- Epoch 29 ---------------------------\n"
     ]
    },
    {
     "name": "stderr",
     "output_type": "stream",
     "text": [
      "100%|██████████| 621/621 [01:15<00:00,  8.19it/s]\n",
      "100%|██████████| 156/156 [00:14<00:00, 10.83it/s]\n"
     ]
    },
    {
     "name": "stdout",
     "output_type": "stream",
     "text": [
      "Train Accuracy: 43.15620%\t|\tTrain Avg Loss: 1.56055\n",
      "Valid Accuracy: 40.38462%\t|\tValid Avg Loss: 1.90162\n",
      "--------------------------- Epoch 30 ---------------------------\n"
     ]
    },
    {
     "name": "stderr",
     "output_type": "stream",
     "text": [
      "100%|██████████| 621/621 [01:15<00:00,  8.25it/s]\n",
      "100%|██████████| 156/156 [00:14<00:00, 10.82it/s]\n"
     ]
    },
    {
     "name": "stdout",
     "output_type": "stream",
     "text": [
      "Train Accuracy: 44.60548%\t|\tTrain Avg Loss: 1.51582\n",
      "Valid Accuracy: 39.74359%\t|\tValid Avg Loss: 1.76141\n",
      "--------------------------- Epoch 31 ---------------------------\n"
     ]
    },
    {
     "name": "stderr",
     "output_type": "stream",
     "text": [
      "100%|██████████| 621/621 [01:15<00:00,  8.25it/s]\n",
      "100%|██████████| 156/156 [00:14<00:00, 10.80it/s]\n"
     ]
    },
    {
     "name": "stdout",
     "output_type": "stream",
     "text": [
      "Train Accuracy: 47.98712%\t|\tTrain Avg Loss: 1.44634\n",
      "Valid Accuracy: 43.58974%\t|\tValid Avg Loss: 1.80817\n",
      "--------------------------- Epoch 32 ---------------------------\n"
     ]
    },
    {
     "name": "stderr",
     "output_type": "stream",
     "text": [
      "100%|██████████| 621/621 [01:15<00:00,  8.25it/s]\n",
      "100%|██████████| 156/156 [00:14<00:00, 10.86it/s]\n"
     ]
    },
    {
     "name": "stdout",
     "output_type": "stream",
     "text": [
      "Train Accuracy: 49.27536%\t|\tTrain Avg Loss: 1.41508\n",
      "Valid Accuracy: 44.87179%\t|\tValid Avg Loss: 1.67824\n",
      "--------------------------- Epoch 33 ---------------------------\n"
     ]
    },
    {
     "name": "stderr",
     "output_type": "stream",
     "text": [
      "100%|██████████| 621/621 [01:15<00:00,  8.21it/s]\n",
      "100%|██████████| 156/156 [00:14<00:00, 10.84it/s]\n"
     ]
    },
    {
     "name": "stdout",
     "output_type": "stream",
     "text": [
      "Train Accuracy: 45.57166%\t|\tTrain Avg Loss: 1.54785\n",
      "Valid Accuracy: 40.38462%\t|\tValid Avg Loss: 1.83107\n",
      "--------------------------- Epoch 34 ---------------------------\n"
     ]
    },
    {
     "name": "stderr",
     "output_type": "stream",
     "text": [
      "100%|██████████| 621/621 [01:15<00:00,  8.22it/s]\n",
      "100%|██████████| 156/156 [00:14<00:00, 10.84it/s]\n"
     ]
    },
    {
     "name": "stdout",
     "output_type": "stream",
     "text": [
      "Train Accuracy: 45.57166%\t|\tTrain Avg Loss: 1.49062\n",
      "Valid Accuracy: 40.38462%\t|\tValid Avg Loss: 1.79868\n",
      "--------------------------- Epoch 35 ---------------------------\n"
     ]
    },
    {
     "name": "stderr",
     "output_type": "stream",
     "text": [
      "100%|██████████| 621/621 [01:15<00:00,  8.20it/s]\n",
      "100%|██████████| 156/156 [00:14<00:00, 10.80it/s]\n"
     ]
    },
    {
     "name": "stdout",
     "output_type": "stream",
     "text": [
      "Train Accuracy: 47.50403%\t|\tTrain Avg Loss: 1.43433\n",
      "Valid Accuracy: 35.89744%\t|\tValid Avg Loss: 1.96112\n",
      "--------------------------- Epoch 36 ---------------------------\n"
     ]
    },
    {
     "name": "stderr",
     "output_type": "stream",
     "text": [
      "100%|██████████| 621/621 [01:15<00:00,  8.26it/s]\n",
      "100%|██████████| 156/156 [00:14<00:00, 10.88it/s]\n"
     ]
    },
    {
     "name": "stdout",
     "output_type": "stream",
     "text": [
      "Train Accuracy: 49.59742%\t|\tTrain Avg Loss: 1.39001\n",
      "Valid Accuracy: 40.38462%\t|\tValid Avg Loss: 1.78808\n",
      "--------------------------- Epoch 37 ---------------------------\n"
     ]
    },
    {
     "name": "stderr",
     "output_type": "stream",
     "text": [
      "100%|██████████| 621/621 [01:15<00:00,  8.23it/s]\n",
      "100%|██████████| 156/156 [00:14<00:00, 10.84it/s]\n"
     ]
    },
    {
     "name": "stdout",
     "output_type": "stream",
     "text": [
      "Train Accuracy: 50.24155%\t|\tTrain Avg Loss: 1.37979\n",
      "Valid Accuracy: 48.07692%\t|\tValid Avg Loss: 1.70458\n",
      "--------------------------- Epoch 38 ---------------------------\n"
     ]
    },
    {
     "name": "stderr",
     "output_type": "stream",
     "text": [
      "100%|██████████| 621/621 [01:15<00:00,  8.25it/s]\n",
      "100%|██████████| 156/156 [00:14<00:00, 10.84it/s]\n"
     ]
    },
    {
     "name": "stdout",
     "output_type": "stream",
     "text": [
      "Train Accuracy: 53.14010%\t|\tTrain Avg Loss: 1.34077\n",
      "Valid Accuracy: 42.30769%\t|\tValid Avg Loss: 1.69661\n",
      "--------------------------- Epoch 39 ---------------------------\n"
     ]
    },
    {
     "name": "stderr",
     "output_type": "stream",
     "text": [
      "100%|██████████| 621/621 [01:15<00:00,  8.20it/s]\n",
      "100%|██████████| 156/156 [00:14<00:00, 10.83it/s]\n"
     ]
    },
    {
     "name": "stdout",
     "output_type": "stream",
     "text": [
      "Train Accuracy: 54.75040%\t|\tTrain Avg Loss: 1.29956\n",
      "Valid Accuracy: 39.74359%\t|\tValid Avg Loss: 1.89247\n",
      "--------------------------- Epoch 40 ---------------------------\n"
     ]
    },
    {
     "name": "stderr",
     "output_type": "stream",
     "text": [
      "100%|██████████| 621/621 [01:15<00:00,  8.24it/s]\n",
      "100%|██████████| 156/156 [00:14<00:00, 10.85it/s]\n"
     ]
    },
    {
     "name": "stdout",
     "output_type": "stream",
     "text": [
      "Train Accuracy: 54.10628%\t|\tTrain Avg Loss: 1.31501\n",
      "Valid Accuracy: 48.07692%\t|\tValid Avg Loss: 1.60612\n",
      "--------------------------- Epoch 41 ---------------------------\n"
     ]
    },
    {
     "name": "stderr",
     "output_type": "stream",
     "text": [
      "100%|██████████| 621/621 [01:15<00:00,  8.21it/s]\n",
      "100%|██████████| 156/156 [00:14<00:00, 10.81it/s]\n"
     ]
    },
    {
     "name": "stdout",
     "output_type": "stream",
     "text": [
      "Train Accuracy: 56.52174%\t|\tTrain Avg Loss: 1.22991\n",
      "Valid Accuracy: 44.23077%\t|\tValid Avg Loss: 1.63079\n",
      "--------------------------- Epoch 42 ---------------------------\n"
     ]
    },
    {
     "name": "stderr",
     "output_type": "stream",
     "text": [
      "100%|██████████| 621/621 [01:15<00:00,  8.19it/s]\n",
      "100%|██████████| 156/156 [00:14<00:00, 10.82it/s]\n"
     ]
    },
    {
     "name": "stdout",
     "output_type": "stream",
     "text": [
      "Train Accuracy: 54.42834%\t|\tTrain Avg Loss: 1.25896\n",
      "Valid Accuracy: 36.53846%\t|\tValid Avg Loss: 1.92250\n",
      "--------------------------- Epoch 43 ---------------------------\n"
     ]
    },
    {
     "name": "stderr",
     "output_type": "stream",
     "text": [
      "100%|██████████| 621/621 [01:15<00:00,  8.24it/s]\n",
      "100%|██████████| 156/156 [00:14<00:00, 10.82it/s]\n"
     ]
    },
    {
     "name": "stdout",
     "output_type": "stream",
     "text": [
      "Train Accuracy: 52.65700%\t|\tTrain Avg Loss: 1.33617\n",
      "Valid Accuracy: 48.07692%\t|\tValid Avg Loss: 1.59367\n",
      "--------------------------- Epoch 44 ---------------------------\n"
     ]
    },
    {
     "name": "stderr",
     "output_type": "stream",
     "text": [
      "100%|██████████| 621/621 [01:15<00:00,  8.24it/s]\n",
      "100%|██████████| 156/156 [00:14<00:00, 10.86it/s]\n"
     ]
    },
    {
     "name": "stdout",
     "output_type": "stream",
     "text": [
      "Train Accuracy: 56.52174%\t|\tTrain Avg Loss: 1.24621\n",
      "Valid Accuracy: 44.23077%\t|\tValid Avg Loss: 1.68889\n",
      "--------------------------- Epoch 45 ---------------------------\n"
     ]
    },
    {
     "name": "stderr",
     "output_type": "stream",
     "text": [
      "100%|██████████| 621/621 [01:15<00:00,  8.24it/s]\n",
      "100%|██████████| 156/156 [00:14<00:00, 10.84it/s]\n"
     ]
    },
    {
     "name": "stdout",
     "output_type": "stream",
     "text": [
      "Train Accuracy: 53.94525%\t|\tTrain Avg Loss: 1.24004\n",
      "Valid Accuracy: 42.94872%\t|\tValid Avg Loss: 1.73879\n",
      "--------------------------- Epoch 46 ---------------------------\n"
     ]
    },
    {
     "name": "stderr",
     "output_type": "stream",
     "text": [
      "100%|██████████| 621/621 [01:15<00:00,  8.20it/s]\n",
      "100%|██████████| 156/156 [00:14<00:00, 10.80it/s]\n"
     ]
    },
    {
     "name": "stdout",
     "output_type": "stream",
     "text": [
      "Train Accuracy: 54.58937%\t|\tTrain Avg Loss: 1.22278\n",
      "Valid Accuracy: 45.51282%\t|\tValid Avg Loss: 1.65521\n",
      "--------------------------- Epoch 47 ---------------------------\n"
     ]
    },
    {
     "name": "stderr",
     "output_type": "stream",
     "text": [
      "100%|██████████| 621/621 [01:15<00:00,  8.24it/s]\n",
      "100%|██████████| 156/156 [00:14<00:00, 10.86it/s]\n"
     ]
    },
    {
     "name": "stdout",
     "output_type": "stream",
     "text": [
      "Train Accuracy: 58.13205%\t|\tTrain Avg Loss: 1.25483\n",
      "Valid Accuracy: 44.87179%\t|\tValid Avg Loss: 1.85037\n",
      "--------------------------- Epoch 48 ---------------------------\n"
     ]
    },
    {
     "name": "stderr",
     "output_type": "stream",
     "text": [
      "100%|██████████| 621/621 [01:15<00:00,  8.21it/s]\n",
      "100%|██████████| 156/156 [00:14<00:00, 10.77it/s]\n"
     ]
    },
    {
     "name": "stdout",
     "output_type": "stream",
     "text": [
      "Train Accuracy: 56.52174%\t|\tTrain Avg Loss: 1.22475\n",
      "Valid Accuracy: 50.64103%\t|\tValid Avg Loss: 1.56851\n",
      "--------------------------- Epoch 49 ---------------------------\n"
     ]
    },
    {
     "name": "stderr",
     "output_type": "stream",
     "text": [
      "100%|██████████| 621/621 [01:16<00:00,  8.16it/s]\n",
      "100%|██████████| 156/156 [00:14<00:00, 10.78it/s]\n"
     ]
    },
    {
     "name": "stdout",
     "output_type": "stream",
     "text": [
      "Train Accuracy: 58.93720%\t|\tTrain Avg Loss: 1.12859\n",
      "Valid Accuracy: 48.71795%\t|\tValid Avg Loss: 1.75092\n",
      "--------------------------- Epoch 50 ---------------------------\n"
     ]
    },
    {
     "name": "stderr",
     "output_type": "stream",
     "text": [
      "100%|██████████| 621/621 [01:15<00:00,  8.24it/s]\n",
      "100%|██████████| 156/156 [00:14<00:00, 10.83it/s]\n"
     ]
    },
    {
     "name": "stdout",
     "output_type": "stream",
     "text": [
      "Train Accuracy: 60.06441%\t|\tTrain Avg Loss: 1.13248\n",
      "Valid Accuracy: 48.71795%\t|\tValid Avg Loss: 1.64442\n",
      "--------------------------- Epoch 51 ---------------------------\n"
     ]
    },
    {
     "name": "stderr",
     "output_type": "stream",
     "text": [
      "100%|██████████| 621/621 [01:15<00:00,  8.19it/s]\n",
      "100%|██████████| 156/156 [00:14<00:00, 10.79it/s]\n"
     ]
    },
    {
     "name": "stdout",
     "output_type": "stream",
     "text": [
      "Train Accuracy: 56.36071%\t|\tTrain Avg Loss: 1.24323\n",
      "Valid Accuracy: 49.35897%\t|\tValid Avg Loss: 1.69530\n",
      "--------------------------- Epoch 52 ---------------------------\n"
     ]
    },
    {
     "name": "stderr",
     "output_type": "stream",
     "text": [
      "100%|██████████| 621/621 [01:15<00:00,  8.18it/s]\n",
      "100%|██████████| 156/156 [00:14<00:00, 10.78it/s]\n"
     ]
    },
    {
     "name": "stdout",
     "output_type": "stream",
     "text": [
      "Train Accuracy: 56.68277%\t|\tTrain Avg Loss: 1.20989\n",
      "Valid Accuracy: 46.15385%\t|\tValid Avg Loss: 1.69965\n",
      "--------------------------- Epoch 53 ---------------------------\n"
     ]
    },
    {
     "name": "stderr",
     "output_type": "stream",
     "text": [
      "100%|██████████| 621/621 [01:16<00:00,  8.14it/s]\n",
      "100%|██████████| 156/156 [00:14<00:00, 10.77it/s]\n"
     ]
    },
    {
     "name": "stdout",
     "output_type": "stream",
     "text": [
      "Train Accuracy: 56.52174%\t|\tTrain Avg Loss: 1.19697\n",
      "Valid Accuracy: 49.35897%\t|\tValid Avg Loss: 1.52146\n",
      "--------------------------- Epoch 54 ---------------------------\n"
     ]
    },
    {
     "name": "stderr",
     "output_type": "stream",
     "text": [
      "100%|██████████| 621/621 [01:15<00:00,  8.23it/s]\n",
      "100%|██████████| 156/156 [00:14<00:00, 10.79it/s]\n"
     ]
    },
    {
     "name": "stdout",
     "output_type": "stream",
     "text": [
      "Train Accuracy: 55.23349%\t|\tTrain Avg Loss: 1.23005\n",
      "Valid Accuracy: 50.64103%\t|\tValid Avg Loss: 1.70012\n",
      "--------------------------- Epoch 55 ---------------------------\n"
     ]
    },
    {
     "name": "stderr",
     "output_type": "stream",
     "text": [
      "100%|██████████| 621/621 [01:15<00:00,  8.21it/s]\n",
      "100%|██████████| 156/156 [00:14<00:00, 10.82it/s]\n"
     ]
    },
    {
     "name": "stdout",
     "output_type": "stream",
     "text": [
      "Train Accuracy: 58.93720%\t|\tTrain Avg Loss: 1.16928\n",
      "Valid Accuracy: 51.92308%\t|\tValid Avg Loss: 1.56954\n",
      "--------------------------- Epoch 56 ---------------------------\n"
     ]
    },
    {
     "name": "stderr",
     "output_type": "stream",
     "text": [
      "100%|██████████| 621/621 [01:15<00:00,  8.21it/s]\n",
      "100%|██████████| 156/156 [00:14<00:00, 10.82it/s]\n"
     ]
    },
    {
     "name": "stdout",
     "output_type": "stream",
     "text": [
      "Train Accuracy: 57.64895%\t|\tTrain Avg Loss: 1.18672\n",
      "Valid Accuracy: 50.00000%\t|\tValid Avg Loss: 1.65219\n",
      "--------------------------- Epoch 57 ---------------------------\n"
     ]
    },
    {
     "name": "stderr",
     "output_type": "stream",
     "text": [
      "100%|██████████| 621/621 [01:15<00:00,  8.21it/s]\n",
      "100%|██████████| 156/156 [00:14<00:00, 10.83it/s]\n"
     ]
    },
    {
     "name": "stdout",
     "output_type": "stream",
     "text": [
      "Train Accuracy: 58.61514%\t|\tTrain Avg Loss: 1.15914\n",
      "Valid Accuracy: 50.64103%\t|\tValid Avg Loss: 1.70280\n",
      "--------------------------- Epoch 58 ---------------------------\n"
     ]
    },
    {
     "name": "stderr",
     "output_type": "stream",
     "text": [
      "100%|██████████| 621/621 [01:15<00:00,  8.20it/s]\n",
      "100%|██████████| 156/156 [00:14<00:00, 10.81it/s]\n"
     ]
    },
    {
     "name": "stdout",
     "output_type": "stream",
     "text": [
      "Train Accuracy: 54.42834%\t|\tTrain Avg Loss: 1.21743\n",
      "Valid Accuracy: 41.66667%\t|\tValid Avg Loss: 1.77428\n",
      "--------------------------- Epoch 59 ---------------------------\n"
     ]
    },
    {
     "name": "stderr",
     "output_type": "stream",
     "text": [
      "100%|██████████| 621/621 [01:15<00:00,  8.21it/s]\n",
      "100%|██████████| 156/156 [00:14<00:00, 10.79it/s]\n"
     ]
    },
    {
     "name": "stdout",
     "output_type": "stream",
     "text": [
      "Train Accuracy: 56.68277%\t|\tTrain Avg Loss: 1.25180\n",
      "Valid Accuracy: 40.38462%\t|\tValid Avg Loss: 1.84886\n",
      "--------------------------- Epoch 60 ---------------------------\n"
     ]
    },
    {
     "name": "stderr",
     "output_type": "stream",
     "text": [
      "100%|██████████| 621/621 [01:16<00:00,  8.16it/s]\n",
      "100%|██████████| 156/156 [00:14<00:00, 10.76it/s]\n"
     ]
    },
    {
     "name": "stdout",
     "output_type": "stream",
     "text": [
      "Train Accuracy: 59.58132%\t|\tTrain Avg Loss: 1.17571\n",
      "Valid Accuracy: 54.48718%\t|\tValid Avg Loss: 1.60155\n",
      "--------------------------- Epoch 61 ---------------------------\n"
     ]
    },
    {
     "name": "stderr",
     "output_type": "stream",
     "text": [
      "100%|██████████| 621/621 [01:15<00:00,  8.19it/s]\n",
      "100%|██████████| 156/156 [00:14<00:00, 10.78it/s]\n"
     ]
    },
    {
     "name": "stdout",
     "output_type": "stream",
     "text": [
      "Train Accuracy: 56.84380%\t|\tTrain Avg Loss: 1.14591\n",
      "Valid Accuracy: 46.15385%\t|\tValid Avg Loss: 1.69747\n",
      "--------------------------- Epoch 62 ---------------------------\n"
     ]
    },
    {
     "name": "stderr",
     "output_type": "stream",
     "text": [
      "100%|██████████| 621/621 [01:15<00:00,  8.21it/s]\n",
      "100%|██████████| 156/156 [00:14<00:00, 10.76it/s]\n"
     ]
    },
    {
     "name": "stdout",
     "output_type": "stream",
     "text": [
      "Train Accuracy: 61.35266%\t|\tTrain Avg Loss: 1.08315\n",
      "Valid Accuracy: 42.94872%\t|\tValid Avg Loss: 2.02250\n",
      "--------------------------- Epoch 63 ---------------------------\n"
     ]
    },
    {
     "name": "stderr",
     "output_type": "stream",
     "text": [
      "100%|██████████| 621/621 [01:15<00:00,  8.24it/s]\n",
      "100%|██████████| 156/156 [00:14<00:00, 10.83it/s]\n"
     ]
    },
    {
     "name": "stdout",
     "output_type": "stream",
     "text": [
      "Train Accuracy: 55.87762%\t|\tTrain Avg Loss: 1.22828\n",
      "Valid Accuracy: 46.79487%\t|\tValid Avg Loss: 1.60453\n",
      "--------------------------- Epoch 64 ---------------------------\n"
     ]
    },
    {
     "name": "stderr",
     "output_type": "stream",
     "text": [
      "100%|██████████| 621/621 [01:15<00:00,  8.17it/s]\n",
      "100%|██████████| 156/156 [00:14<00:00, 10.78it/s]\n"
     ]
    },
    {
     "name": "stdout",
     "output_type": "stream",
     "text": [
      "Train Accuracy: 58.93720%\t|\tTrain Avg Loss: 1.15305\n",
      "Valid Accuracy: 50.00000%\t|\tValid Avg Loss: 1.56202\n",
      "--------------------------- Epoch 65 ---------------------------\n"
     ]
    },
    {
     "name": "stderr",
     "output_type": "stream",
     "text": [
      "100%|██████████| 621/621 [01:15<00:00,  8.23it/s]\n",
      "100%|██████████| 156/156 [00:14<00:00, 10.81it/s]\n"
     ]
    },
    {
     "name": "stdout",
     "output_type": "stream",
     "text": [
      "Train Accuracy: 59.09823%\t|\tTrain Avg Loss: 1.13040\n",
      "Valid Accuracy: 41.66667%\t|\tValid Avg Loss: 1.72859\n",
      "--------------------------- Epoch 66 ---------------------------\n"
     ]
    },
    {
     "name": "stderr",
     "output_type": "stream",
     "text": [
      "100%|██████████| 621/621 [01:15<00:00,  8.22it/s]\n",
      "100%|██████████| 156/156 [00:14<00:00, 10.77it/s]\n"
     ]
    },
    {
     "name": "stdout",
     "output_type": "stream",
     "text": [
      "Train Accuracy: 59.42029%\t|\tTrain Avg Loss: 1.07349\n",
      "Valid Accuracy: 47.43590%\t|\tValid Avg Loss: 1.65909\n",
      "--------------------------- Epoch 67 ---------------------------\n"
     ]
    },
    {
     "name": "stderr",
     "output_type": "stream",
     "text": [
      "100%|██████████| 621/621 [01:15<00:00,  8.17it/s]\n",
      "100%|██████████| 156/156 [00:14<00:00, 10.79it/s]\n"
     ]
    },
    {
     "name": "stdout",
     "output_type": "stream",
     "text": [
      "Train Accuracy: 62.31884%\t|\tTrain Avg Loss: 1.02214\n",
      "Valid Accuracy: 49.35897%\t|\tValid Avg Loss: 1.58865\n",
      "--------------------------- Epoch 68 ---------------------------\n"
     ]
    },
    {
     "name": "stderr",
     "output_type": "stream",
     "text": [
      "100%|██████████| 621/621 [01:15<00:00,  8.23it/s]\n",
      "100%|██████████| 156/156 [00:14<00:00, 10.79it/s]\n"
     ]
    },
    {
     "name": "stdout",
     "output_type": "stream",
     "text": [
      "Train Accuracy: 63.28502%\t|\tTrain Avg Loss: 1.01702\n",
      "Valid Accuracy: 46.79487%\t|\tValid Avg Loss: 1.78489\n",
      "--------------------------- Epoch 69 ---------------------------\n"
     ]
    },
    {
     "name": "stderr",
     "output_type": "stream",
     "text": [
      "100%|██████████| 621/621 [01:15<00:00,  8.25it/s]\n",
      "100%|██████████| 156/156 [00:14<00:00, 10.83it/s]\n"
     ]
    },
    {
     "name": "stdout",
     "output_type": "stream",
     "text": [
      "Train Accuracy: 61.03060%\t|\tTrain Avg Loss: 1.01104\n",
      "Valid Accuracy: 46.79487%\t|\tValid Avg Loss: 1.57094\n",
      "--------------------------- Epoch 70 ---------------------------\n"
     ]
    },
    {
     "name": "stderr",
     "output_type": "stream",
     "text": [
      "100%|██████████| 621/621 [01:15<00:00,  8.21it/s]\n",
      "100%|██████████| 156/156 [00:14<00:00, 10.82it/s]\n"
     ]
    },
    {
     "name": "stdout",
     "output_type": "stream",
     "text": [
      "Train Accuracy: 63.44605%\t|\tTrain Avg Loss: 0.98122\n",
      "Valid Accuracy: 43.58974%\t|\tValid Avg Loss: 1.91034\n",
      "--------------------------- Epoch 71 ---------------------------\n"
     ]
    },
    {
     "name": "stderr",
     "output_type": "stream",
     "text": [
      "100%|██████████| 621/621 [01:15<00:00,  8.22it/s]\n",
      "100%|██████████| 156/156 [00:14<00:00, 10.85it/s]\n"
     ]
    },
    {
     "name": "stdout",
     "output_type": "stream",
     "text": [
      "Train Accuracy: 61.35266%\t|\tTrain Avg Loss: 1.09733\n",
      "Valid Accuracy: 55.12821%\t|\tValid Avg Loss: 1.58836\n",
      "--------------------------- Epoch 72 ---------------------------\n"
     ]
    },
    {
     "name": "stderr",
     "output_type": "stream",
     "text": [
      "100%|██████████| 621/621 [01:15<00:00,  8.18it/s]\n",
      "100%|██████████| 156/156 [00:14<00:00, 10.81it/s]\n"
     ]
    },
    {
     "name": "stdout",
     "output_type": "stream",
     "text": [
      "Train Accuracy: 62.15781%\t|\tTrain Avg Loss: 1.00846\n",
      "Valid Accuracy: 54.48718%\t|\tValid Avg Loss: 1.54336\n",
      "--------------------------- Epoch 73 ---------------------------\n"
     ]
    },
    {
     "name": "stderr",
     "output_type": "stream",
     "text": [
      "100%|██████████| 621/621 [01:15<00:00,  8.22it/s]\n",
      "100%|██████████| 156/156 [00:14<00:00, 10.83it/s]\n"
     ]
    },
    {
     "name": "stdout",
     "output_type": "stream",
     "text": [
      "Train Accuracy: 65.05636%\t|\tTrain Avg Loss: 1.00749\n",
      "Valid Accuracy: 48.07692%\t|\tValid Avg Loss: 1.64719\n",
      "--------------------------- Epoch 74 ---------------------------\n"
     ]
    },
    {
     "name": "stderr",
     "output_type": "stream",
     "text": [
      "100%|██████████| 621/621 [01:15<00:00,  8.21it/s]\n",
      "100%|██████████| 156/156 [00:14<00:00, 10.82it/s]\n"
     ]
    },
    {
     "name": "stdout",
     "output_type": "stream",
     "text": [
      "Train Accuracy: 65.21739%\t|\tTrain Avg Loss: 0.96683\n",
      "Valid Accuracy: 52.56410%\t|\tValid Avg Loss: 1.59988\n",
      "--------------------------- Epoch 75 ---------------------------\n"
     ]
    },
    {
     "name": "stderr",
     "output_type": "stream",
     "text": [
      "100%|██████████| 621/621 [01:14<00:00,  8.29it/s]\n",
      "100%|██████████| 156/156 [00:14<00:00, 10.87it/s]\n"
     ]
    },
    {
     "name": "stdout",
     "output_type": "stream",
     "text": [
      "Train Accuracy: 65.21739%\t|\tTrain Avg Loss: 0.94246\n",
      "Valid Accuracy: 42.30769%\t|\tValid Avg Loss: 1.86763\n",
      "--------------------------- Epoch 76 ---------------------------\n"
     ]
    },
    {
     "name": "stderr",
     "output_type": "stream",
     "text": [
      "100%|██████████| 621/621 [01:14<00:00,  8.35it/s]\n",
      "100%|██████████| 156/156 [00:14<00:00, 10.96it/s]\n"
     ]
    },
    {
     "name": "stdout",
     "output_type": "stream",
     "text": [
      "Train Accuracy: 65.05636%\t|\tTrain Avg Loss: 0.92478\n",
      "Valid Accuracy: 51.28205%\t|\tValid Avg Loss: 2.02345\n",
      "--------------------------- Epoch 77 ---------------------------\n"
     ]
    },
    {
     "name": "stderr",
     "output_type": "stream",
     "text": [
      "100%|██████████| 621/621 [01:14<00:00,  8.34it/s]\n",
      "100%|██████████| 156/156 [00:14<00:00, 10.89it/s]\n"
     ]
    },
    {
     "name": "stdout",
     "output_type": "stream",
     "text": [
      "Train Accuracy: 64.57327%\t|\tTrain Avg Loss: 0.98679\n",
      "Valid Accuracy: 47.43590%\t|\tValid Avg Loss: 1.78952\n",
      "--------------------------- Epoch 78 ---------------------------\n"
     ]
    },
    {
     "name": "stderr",
     "output_type": "stream",
     "text": [
      "100%|██████████| 621/621 [01:14<00:00,  8.29it/s]\n",
      "100%|██████████| 156/156 [00:14<00:00, 10.89it/s]\n"
     ]
    },
    {
     "name": "stdout",
     "output_type": "stream",
     "text": [
      "Train Accuracy: 56.03865%\t|\tTrain Avg Loss: 1.18788\n",
      "Valid Accuracy: 53.20513%\t|\tValid Avg Loss: 1.53849\n",
      "--------------------------- Epoch 79 ---------------------------\n"
     ]
    },
    {
     "name": "stderr",
     "output_type": "stream",
     "text": [
      "100%|██████████| 621/621 [01:13<00:00,  8.44it/s]\n",
      "100%|██████████| 156/156 [00:14<00:00, 10.95it/s]\n"
     ]
    },
    {
     "name": "stdout",
     "output_type": "stream",
     "text": [
      "Train Accuracy: 63.12399%\t|\tTrain Avg Loss: 0.99861\n",
      "Valid Accuracy: 43.58974%\t|\tValid Avg Loss: 1.90123\n",
      "--------------------------- Epoch 80 ---------------------------\n"
     ]
    },
    {
     "name": "stderr",
     "output_type": "stream",
     "text": [
      "100%|██████████| 621/621 [01:14<00:00,  8.35it/s]\n",
      "100%|██████████| 156/156 [00:14<00:00, 10.93it/s]\n"
     ]
    },
    {
     "name": "stdout",
     "output_type": "stream",
     "text": [
      "Train Accuracy: 66.98873%\t|\tTrain Avg Loss: 0.89455\n",
      "Valid Accuracy: 51.28205%\t|\tValid Avg Loss: 1.57508\n",
      "--------------------------- Epoch 81 ---------------------------\n"
     ]
    },
    {
     "name": "stderr",
     "output_type": "stream",
     "text": [
      "100%|██████████| 621/621 [01:14<00:00,  8.36it/s]\n",
      "100%|██████████| 156/156 [00:14<00:00, 10.95it/s]\n"
     ]
    },
    {
     "name": "stdout",
     "output_type": "stream",
     "text": [
      "Train Accuracy: 69.08213%\t|\tTrain Avg Loss: 0.85979\n",
      "Valid Accuracy: 48.07692%\t|\tValid Avg Loss: 1.90536\n",
      "--------------------------- Epoch 82 ---------------------------\n"
     ]
    },
    {
     "name": "stderr",
     "output_type": "stream",
     "text": [
      "100%|██████████| 621/621 [01:14<00:00,  8.33it/s]\n",
      "100%|██████████| 156/156 [00:14<00:00, 10.89it/s]\n"
     ]
    },
    {
     "name": "stdout",
     "output_type": "stream",
     "text": [
      "Train Accuracy: 66.18357%\t|\tTrain Avg Loss: 0.91696\n",
      "Valid Accuracy: 42.30769%\t|\tValid Avg Loss: 2.00357\n",
      "--------------------------- Epoch 83 ---------------------------\n"
     ]
    },
    {
     "name": "stderr",
     "output_type": "stream",
     "text": [
      "100%|██████████| 621/621 [01:14<00:00,  8.29it/s]\n",
      "100%|██████████| 156/156 [00:14<00:00, 10.93it/s]\n"
     ]
    },
    {
     "name": "stdout",
     "output_type": "stream",
     "text": [
      "Train Accuracy: 67.95491%\t|\tTrain Avg Loss: 0.85047\n",
      "Valid Accuracy: 51.92308%\t|\tValid Avg Loss: 1.70135\n",
      "--------------------------- Epoch 84 ---------------------------\n"
     ]
    },
    {
     "name": "stderr",
     "output_type": "stream",
     "text": [
      "100%|██████████| 621/621 [01:14<00:00,  8.36it/s]\n",
      "100%|██████████| 156/156 [00:14<00:00, 10.97it/s]\n"
     ]
    },
    {
     "name": "stdout",
     "output_type": "stream",
     "text": [
      "Train Accuracy: 63.92915%\t|\tTrain Avg Loss: 0.90151\n",
      "Valid Accuracy: 55.12821%\t|\tValid Avg Loss: 1.51293\n",
      "--------------------------- Epoch 85 ---------------------------\n"
     ]
    },
    {
     "name": "stderr",
     "output_type": "stream",
     "text": [
      "100%|██████████| 621/621 [01:14<00:00,  8.29it/s]\n",
      "100%|██████████| 156/156 [00:14<00:00, 10.87it/s]\n"
     ]
    },
    {
     "name": "stdout",
     "output_type": "stream",
     "text": [
      "Train Accuracy: 67.31079%\t|\tTrain Avg Loss: 0.90983\n",
      "Valid Accuracy: 46.79487%\t|\tValid Avg Loss: 1.70340\n",
      "--------------------------- Epoch 86 ---------------------------\n"
     ]
    },
    {
     "name": "stderr",
     "output_type": "stream",
     "text": [
      "100%|██████████| 621/621 [01:14<00:00,  8.32it/s]\n",
      "100%|██████████| 156/156 [00:14<00:00, 10.94it/s]\n"
     ]
    },
    {
     "name": "stdout",
     "output_type": "stream",
     "text": [
      "Train Accuracy: 69.88728%\t|\tTrain Avg Loss: 0.80922\n",
      "Valid Accuracy: 55.12821%\t|\tValid Avg Loss: 1.54500\n",
      "--------------------------- Epoch 87 ---------------------------\n"
     ]
    },
    {
     "name": "stderr",
     "output_type": "stream",
     "text": [
      "100%|██████████| 621/621 [01:14<00:00,  8.32it/s]\n",
      "100%|██████████| 156/156 [00:14<00:00, 10.92it/s]\n"
     ]
    },
    {
     "name": "stdout",
     "output_type": "stream",
     "text": [
      "Train Accuracy: 68.43800%\t|\tTrain Avg Loss: 0.84670\n",
      "Valid Accuracy: 51.92308%\t|\tValid Avg Loss: 1.76344\n",
      "--------------------------- Epoch 88 ---------------------------\n"
     ]
    },
    {
     "name": "stderr",
     "output_type": "stream",
     "text": [
      "100%|██████████| 621/621 [01:14<00:00,  8.31it/s]\n",
      "100%|██████████| 156/156 [00:14<00:00, 10.92it/s]\n"
     ]
    },
    {
     "name": "stdout",
     "output_type": "stream",
     "text": [
      "Train Accuracy: 67.79388%\t|\tTrain Avg Loss: 0.92846\n",
      "Valid Accuracy: 55.76923%\t|\tValid Avg Loss: 1.38713\n",
      "--------------------------- Epoch 89 ---------------------------\n"
     ]
    },
    {
     "name": "stderr",
     "output_type": "stream",
     "text": [
      "100%|██████████| 621/621 [01:14<00:00,  8.34it/s]\n",
      "100%|██████████| 156/156 [00:14<00:00, 10.94it/s]\n"
     ]
    },
    {
     "name": "stdout",
     "output_type": "stream",
     "text": [
      "Train Accuracy: 68.76006%\t|\tTrain Avg Loss: 0.87711\n",
      "Valid Accuracy: 53.20513%\t|\tValid Avg Loss: 1.71757\n",
      "--------------------------- Epoch 90 ---------------------------\n"
     ]
    },
    {
     "name": "stderr",
     "output_type": "stream",
     "text": [
      "100%|██████████| 621/621 [01:14<00:00,  8.31it/s]\n",
      "100%|██████████| 156/156 [00:14<00:00, 10.90it/s]\n"
     ]
    },
    {
     "name": "stdout",
     "output_type": "stream",
     "text": [
      "Train Accuracy: 66.50564%\t|\tTrain Avg Loss: 0.86018\n",
      "Valid Accuracy: 55.76923%\t|\tValid Avg Loss: 1.70191\n",
      "--------------------------- Epoch 91 ---------------------------\n"
     ]
    },
    {
     "name": "stderr",
     "output_type": "stream",
     "text": [
      "100%|██████████| 621/621 [01:15<00:00,  8.27it/s]\n",
      "100%|██████████| 156/156 [00:14<00:00, 10.89it/s]\n"
     ]
    },
    {
     "name": "stdout",
     "output_type": "stream",
     "text": [
      "Train Accuracy: 72.62480%\t|\tTrain Avg Loss: 0.73295\n",
      "Valid Accuracy: 51.28205%\t|\tValid Avg Loss: 1.75467\n",
      "--------------------------- Epoch 92 ---------------------------\n"
     ]
    },
    {
     "name": "stderr",
     "output_type": "stream",
     "text": [
      "100%|██████████| 621/621 [01:14<00:00,  8.34it/s]\n",
      "100%|██████████| 156/156 [00:14<00:00, 10.92it/s]\n"
     ]
    },
    {
     "name": "stdout",
     "output_type": "stream",
     "text": [
      "Train Accuracy: 70.20934%\t|\tTrain Avg Loss: 0.79580\n",
      "Valid Accuracy: 60.89744%\t|\tValid Avg Loss: 1.50669\n",
      "--------------------------- Epoch 93 ---------------------------\n"
     ]
    },
    {
     "name": "stderr",
     "output_type": "stream",
     "text": [
      "100%|██████████| 621/621 [01:14<00:00,  8.39it/s]\n",
      "100%|██████████| 156/156 [00:14<00:00, 10.98it/s]\n"
     ]
    },
    {
     "name": "stdout",
     "output_type": "stream",
     "text": [
      "Train Accuracy: 71.65862%\t|\tTrain Avg Loss: 0.76360\n",
      "Valid Accuracy: 58.33333%\t|\tValid Avg Loss: 1.62195\n",
      "--------------------------- Epoch 94 ---------------------------\n"
     ]
    },
    {
     "name": "stderr",
     "output_type": "stream",
     "text": [
      "100%|██████████| 621/621 [01:14<00:00,  8.36it/s]\n",
      "100%|██████████| 156/156 [00:14<00:00, 10.96it/s]\n"
     ]
    },
    {
     "name": "stdout",
     "output_type": "stream",
     "text": [
      "Train Accuracy: 71.01449%\t|\tTrain Avg Loss: 0.79033\n",
      "Valid Accuracy: 58.33333%\t|\tValid Avg Loss: 1.60686\n",
      "--------------------------- Epoch 95 ---------------------------\n"
     ]
    },
    {
     "name": "stderr",
     "output_type": "stream",
     "text": [
      "100%|██████████| 621/621 [01:14<00:00,  8.38it/s]\n",
      "100%|██████████| 156/156 [00:14<00:00, 10.95it/s]\n"
     ]
    },
    {
     "name": "stdout",
     "output_type": "stream",
     "text": [
      "Train Accuracy: 71.33655%\t|\tTrain Avg Loss: 0.73006\n",
      "Valid Accuracy: 55.12821%\t|\tValid Avg Loss: 1.63595\n",
      "--------------------------- Epoch 96 ---------------------------\n"
     ]
    },
    {
     "name": "stderr",
     "output_type": "stream",
     "text": [
      "100%|██████████| 621/621 [01:14<00:00,  8.34it/s]\n",
      "100%|██████████| 156/156 [00:14<00:00, 10.95it/s]\n"
     ]
    },
    {
     "name": "stdout",
     "output_type": "stream",
     "text": [
      "Train Accuracy: 72.78583%\t|\tTrain Avg Loss: 0.71254\n",
      "Valid Accuracy: 53.84615%\t|\tValid Avg Loss: 2.05094\n",
      "--------------------------- Epoch 97 ---------------------------\n"
     ]
    },
    {
     "name": "stderr",
     "output_type": "stream",
     "text": [
      "100%|██████████| 621/621 [01:14<00:00,  8.34it/s]\n",
      "100%|██████████| 156/156 [00:14<00:00, 10.92it/s]\n"
     ]
    },
    {
     "name": "stdout",
     "output_type": "stream",
     "text": [
      "Train Accuracy: 68.43800%\t|\tTrain Avg Loss: 0.85140\n",
      "Valid Accuracy: 57.69231%\t|\tValid Avg Loss: 1.51708\n",
      "--------------------------- Epoch 98 ---------------------------\n"
     ]
    },
    {
     "name": "stderr",
     "output_type": "stream",
     "text": [
      "100%|██████████| 621/621 [01:14<00:00,  8.32it/s]\n",
      "100%|██████████| 156/156 [00:14<00:00, 10.92it/s]\n"
     ]
    },
    {
     "name": "stdout",
     "output_type": "stream",
     "text": [
      "Train Accuracy: 72.94686%\t|\tTrain Avg Loss: 0.73367\n",
      "Valid Accuracy: 58.97436%\t|\tValid Avg Loss: 1.69283\n",
      "--------------------------- Epoch 99 ---------------------------\n"
     ]
    },
    {
     "name": "stderr",
     "output_type": "stream",
     "text": [
      "100%|██████████| 621/621 [01:14<00:00,  8.34it/s]\n",
      "100%|██████████| 156/156 [00:14<00:00, 10.91it/s]\n"
     ]
    },
    {
     "name": "stdout",
     "output_type": "stream",
     "text": [
      "Train Accuracy: 74.87923%\t|\tTrain Avg Loss: 0.67817\n",
      "Valid Accuracy: 56.41026%\t|\tValid Avg Loss: 1.68482\n",
      "--------------------------- Epoch 100 ---------------------------\n"
     ]
    },
    {
     "name": "stderr",
     "output_type": "stream",
     "text": [
      "100%|██████████| 621/621 [01:14<00:00,  8.29it/s]\n",
      "100%|██████████| 156/156 [00:14<00:00, 10.87it/s]\n"
     ]
    },
    {
     "name": "stdout",
     "output_type": "stream",
     "text": [
      "Train Accuracy: 73.91304%\t|\tTrain Avg Loss: 0.69598\n",
      "Valid Accuracy: 58.97436%\t|\tValid Avg Loss: 1.52650\n"
     ]
    },
    {
     "data": {
      "text/html": [
       "Finishing last run (ID:k40wb0a9) before initializing another..."
      ],
      "text/plain": [
       "<IPython.core.display.HTML object>"
      ]
     },
     "metadata": {},
     "output_type": "display_data"
    },
    {
     "name": "stderr",
     "output_type": "stream",
     "text": [
      "wandb: WARNING Source type is set to 'repo' but some required information is missing from the environment. A job will not be created from this run. See https://docs.wandb.ai/guides/launch/create-job\n"
     ]
    },
    {
     "data": {
      "application/vnd.jupyter.widget-view+json": {
       "model_id": "8e2f4d58d5184c85be9d0daffed014ab",
       "version_major": 2,
       "version_minor": 0
      },
      "text/plain": [
       "VBox(children=(Label(value='7.226 MB of 7.226 MB uploaded\\r'), FloatProgress(value=1.0, max=1.0)))"
      ]
     },
     "metadata": {},
     "output_type": "display_data"
    },
    {
     "data": {
      "text/html": [
       "<style>\n",
       "    table.wandb td:nth-child(1) { padding: 0 10px; text-align: left ; width: auto;} td:nth-child(2) {text-align: left ; width: 100%}\n",
       "    .wandb-row { display: flex; flex-direction: row; flex-wrap: wrap; justify-content: flex-start; width: 100% }\n",
       "    .wandb-col { display: flex; flex-direction: column; flex-basis: 100%; flex: 1; padding: 10px; }\n",
       "    </style>\n",
       "<div class=\"wandb-row\"><div class=\"wandb-col\"><h3>Run history:</h3><br/><table class=\"wandb\"><tr><td>train_acc</td><td>▁▁▂▂▃▃▄▄▄▄▄▄▅▅▅▆▆▆▆▆▆▆▆▆▆▆▇▇▇▇▇▇▇▇▇▇██▇█</td></tr><tr><td>train_loss</td><td>█▆▆▆▅▅▅▄▅▄▄▄▃▃▃▃▃▃▃▂▃▃▃▃▂▂▂▂▂▂▂▂▂▂▁▂▁▁▁▁</td></tr><tr><td>valid_acc</td><td>▁▂▃▃▃▄▄▄▄▅▄▅▆▅▅▅▆▆▆▆▇▇▇▅▆▇▇▆▇▇▆▆▆▇▇▇████</td></tr><tr><td>valid_loss</td><td>██▆▇▆▅▄▄▄▃▄▄▃▃▃▄▂▂▂▃▂▂▂▃▂▁▂▁▁▂▃▄▄▁▃▂▁▂▁▁</td></tr></table><br/></div><div class=\"wandb-col\"><h3>Run summary:</h3><br/><table class=\"wandb\"><tr><td>train_acc</td><td>0.73913</td></tr><tr><td>train_loss</td><td>0.69598</td></tr><tr><td>valid_acc</td><td>0.58974</td></tr><tr><td>valid_loss</td><td>1.5265</td></tr></table><br/></div></div>"
      ],
      "text/plain": [
       "<IPython.core.display.HTML object>"
      ]
     },
     "metadata": {},
     "output_type": "display_data"
    },
    {
     "data": {
      "text/html": [
       " View run <strong style=\"color:#cdcd00\">VisionTransformer</strong> at: <a href='https://wandb.ai/kdhyu/ViT/runs/k40wb0a9' target=\"_blank\">https://wandb.ai/kdhyu/ViT/runs/k40wb0a9</a><br/>Synced 6 W&B file(s), 100 media file(s), 0 artifact file(s) and 0 other file(s)"
      ],
      "text/plain": [
       "<IPython.core.display.HTML object>"
      ]
     },
     "metadata": {},
     "output_type": "display_data"
    },
    {
     "data": {
      "text/html": [
       "Find logs at: <code>./wandb/run-20231210_003700-k40wb0a9/logs</code>"
      ],
      "text/plain": [
       "<IPython.core.display.HTML object>"
      ]
     },
     "metadata": {},
     "output_type": "display_data"
    },
    {
     "data": {
      "text/html": [
       "Successfully finished last run (ID:k40wb0a9). Initializing new run:<br/>"
      ],
      "text/plain": [
       "<IPython.core.display.HTML object>"
      ]
     },
     "metadata": {},
     "output_type": "display_data"
    },
    {
     "data": {
      "application/vnd.jupyter.widget-view+json": {
       "model_id": "257cdd00ff5640faa9ce5dbf09148a39",
       "version_major": 2,
       "version_minor": 0
      },
      "text/plain": [
       "VBox(children=(Label(value='Waiting for wandb.init()...\\r'), FloatProgress(value=0.011135450466665336, max=1.0…"
      ]
     },
     "metadata": {},
     "output_type": "display_data"
    },
    {
     "data": {
      "text/html": [
       "Tracking run with wandb version 0.16.1"
      ],
      "text/plain": [
       "<IPython.core.display.HTML object>"
      ]
     },
     "metadata": {},
     "output_type": "display_data"
    },
    {
     "data": {
      "text/html": [
       "Run data is saved locally in <code>/Users/tt/Documents/Programming Files/2nd grade/ML 2/Assignment/Assignment#3/wandb/run-20231210_030645-mq28muhz</code>"
      ],
      "text/plain": [
       "<IPython.core.display.HTML object>"
      ]
     },
     "metadata": {},
     "output_type": "display_data"
    },
    {
     "data": {
      "text/html": [
       "Syncing run <strong><a href='https://wandb.ai/kdhyu/GoogLeNet/runs/mq28muhz' target=\"_blank\">googlenet</a></strong> to <a href='https://wandb.ai/kdhyu/GoogLeNet' target=\"_blank\">Weights & Biases</a> (<a href='https://wandb.me/run' target=\"_blank\">docs</a>)<br/>"
      ],
      "text/plain": [
       "<IPython.core.display.HTML object>"
      ]
     },
     "metadata": {},
     "output_type": "display_data"
    },
    {
     "data": {
      "text/html": [
       " View project at <a href='https://wandb.ai/kdhyu/GoogLeNet' target=\"_blank\">https://wandb.ai/kdhyu/GoogLeNet</a>"
      ],
      "text/plain": [
       "<IPython.core.display.HTML object>"
      ]
     },
     "metadata": {},
     "output_type": "display_data"
    },
    {
     "data": {
      "text/html": [
       " View run at <a href='https://wandb.ai/kdhyu/GoogLeNet/runs/mq28muhz' target=\"_blank\">https://wandb.ai/kdhyu/GoogLeNet/runs/mq28muhz</a>"
      ],
      "text/plain": [
       "<IPython.core.display.HTML object>"
      ]
     },
     "metadata": {},
     "output_type": "display_data"
    },
    {
     "name": "stdout",
     "output_type": "stream",
     "text": [
      "--------------------------- Epoch 1 ---------------------------\n"
     ]
    },
    {
     "name": "stderr",
     "output_type": "stream",
     "text": [
      "  0%|          | 0/39 [00:01<?, ?it/s]\n"
     ]
    },
    {
     "ename": "TypeError",
     "evalue": "Variable data has to be a tensor, but got list",
     "output_type": "error",
     "traceback": [
      "\u001b[0;31m---------------------------------------------------------------------------\u001b[0m",
      "\u001b[0;31mTypeError\u001b[0m                                 Traceback (most recent call last)",
      "\u001b[1;32m/Users/tt/Documents/Programming Files/2nd grade/ML 2/Assignment/Assignment#3/Assignment3.ipynb Cell 26\u001b[0m line \u001b[0;36m9\n\u001b[1;32m     <a href='vscode-notebook-cell:/Users/tt/Documents/Programming%20Files/2nd%20grade/ML%202/Assignment/Assignment%233/Assignment3.ipynb#X53sZmlsZQ%3D%3D?line=92'>93</a>\u001b[0m \u001b[39mfor\u001b[39;00m t \u001b[39min\u001b[39;00m \u001b[39mrange\u001b[39m(\u001b[39m100\u001b[39m):\n\u001b[1;32m     <a href='vscode-notebook-cell:/Users/tt/Documents/Programming%20Files/2nd%20grade/ML%202/Assignment/Assignment%233/Assignment3.ipynb#X53sZmlsZQ%3D%3D?line=93'>94</a>\u001b[0m     \u001b[39mprint\u001b[39m(\u001b[39mf\u001b[39m\u001b[39m\"\u001b[39m\u001b[39m--------------------------- Epoch \u001b[39m\u001b[39m{\u001b[39;00mt\u001b[39m+\u001b[39m\u001b[39m1\u001b[39m\u001b[39m}\u001b[39;00m\u001b[39m ---------------------------\u001b[39m\u001b[39m\"\u001b[39m)\n\u001b[0;32m---> <a href='vscode-notebook-cell:/Users/tt/Documents/Programming%20Files/2nd%20grade/ML%202/Assignment/Assignment%233/Assignment3.ipynb#X53sZmlsZQ%3D%3D?line=94'>95</a>\u001b[0m     train_acc, train_loss \u001b[39m=\u001b[39m train_loop(model\u001b[39m=\u001b[39;49mmodel,\n\u001b[1;32m     <a href='vscode-notebook-cell:/Users/tt/Documents/Programming%20Files/2nd%20grade/ML%202/Assignment/Assignment%233/Assignment3.ipynb#X53sZmlsZQ%3D%3D?line=95'>96</a>\u001b[0m                                        data_loader\u001b[39m=\u001b[39;49mtrain_loader,\n\u001b[1;32m     <a href='vscode-notebook-cell:/Users/tt/Documents/Programming%20Files/2nd%20grade/ML%202/Assignment/Assignment%233/Assignment3.ipynb#X53sZmlsZQ%3D%3D?line=96'>97</a>\u001b[0m                                        loss_func\u001b[39m=\u001b[39;49mloss_fn,\n\u001b[1;32m     <a href='vscode-notebook-cell:/Users/tt/Documents/Programming%20Files/2nd%20grade/ML%202/Assignment/Assignment%233/Assignment3.ipynb#X53sZmlsZQ%3D%3D?line=97'>98</a>\u001b[0m                                        optimizer\u001b[39m=\u001b[39;49moptimizer,\n\u001b[1;32m     <a href='vscode-notebook-cell:/Users/tt/Documents/Programming%20Files/2nd%20grade/ML%202/Assignment/Assignment%233/Assignment3.ipynb#X53sZmlsZQ%3D%3D?line=98'>99</a>\u001b[0m                                        transform\u001b[39m=\u001b[39;49mtransforms\u001b[39m.\u001b[39;49mRandomPerspective(\u001b[39m0.2\u001b[39;49m),\n\u001b[1;32m    <a href='vscode-notebook-cell:/Users/tt/Documents/Programming%20Files/2nd%20grade/ML%202/Assignment/Assignment%233/Assignment3.ipynb#X53sZmlsZQ%3D%3D?line=99'>100</a>\u001b[0m                                        google\u001b[39m=\u001b[39;49m\u001b[39mTrue\u001b[39;49;00m,\n\u001b[1;32m    <a href='vscode-notebook-cell:/Users/tt/Documents/Programming%20Files/2nd%20grade/ML%202/Assignment/Assignment%233/Assignment3.ipynb#X53sZmlsZQ%3D%3D?line=100'>101</a>\u001b[0m                                        device\u001b[39m=\u001b[39;49mdevice)\n\u001b[1;32m    <a href='vscode-notebook-cell:/Users/tt/Documents/Programming%20Files/2nd%20grade/ML%202/Assignment/Assignment%233/Assignment3.ipynb#X53sZmlsZQ%3D%3D?line=101'>102</a>\u001b[0m     valid_acc, valid_loss \u001b[39m=\u001b[39m evaluate_loop(model\u001b[39m=\u001b[39mmodel,\n\u001b[1;32m    <a href='vscode-notebook-cell:/Users/tt/Documents/Programming%20Files/2nd%20grade/ML%202/Assignment/Assignment%233/Assignment3.ipynb#X53sZmlsZQ%3D%3D?line=102'>103</a>\u001b[0m                                           data_loader\u001b[39m=\u001b[39mvalid_loader, \n\u001b[1;32m    <a href='vscode-notebook-cell:/Users/tt/Documents/Programming%20Files/2nd%20grade/ML%202/Assignment/Assignment%233/Assignment3.ipynb#X53sZmlsZQ%3D%3D?line=103'>104</a>\u001b[0m                                           loss_func\u001b[39m=\u001b[39mloss_fn,\n\u001b[1;32m    <a href='vscode-notebook-cell:/Users/tt/Documents/Programming%20Files/2nd%20grade/ML%202/Assignment/Assignment%233/Assignment3.ipynb#X53sZmlsZQ%3D%3D?line=104'>105</a>\u001b[0m                                           google\u001b[39m=\u001b[39m\u001b[39mTrue\u001b[39;00m,\n\u001b[1;32m    <a href='vscode-notebook-cell:/Users/tt/Documents/Programming%20Files/2nd%20grade/ML%202/Assignment/Assignment%233/Assignment3.ipynb#X53sZmlsZQ%3D%3D?line=105'>106</a>\u001b[0m                                           device\u001b[39m=\u001b[39mdevice)\n\u001b[1;32m    <a href='vscode-notebook-cell:/Users/tt/Documents/Programming%20Files/2nd%20grade/ML%202/Assignment/Assignment%233/Assignment3.ipynb#X53sZmlsZQ%3D%3D?line=106'>107</a>\u001b[0m     \u001b[39mprint\u001b[39m(\u001b[39mf\u001b[39m\u001b[39m\"\u001b[39m\u001b[39mTrain Accuracy: \u001b[39m\u001b[39m{\u001b[39;00m\u001b[39m100\u001b[39m\u001b[39m*\u001b[39mtrain_acc\u001b[39m:\u001b[39;00m\u001b[39m2.5f\u001b[39m\u001b[39m}\u001b[39;00m\u001b[39m%\u001b[39m\u001b[39m\\t\u001b[39;00m\u001b[39m|\u001b[39m\u001b[39m\\t\u001b[39;00m\u001b[39mTrain Avg Loss: \u001b[39m\u001b[39m{\u001b[39;00mtrain_loss\u001b[39m:\u001b[39;00m\u001b[39m2.5f\u001b[39m\u001b[39m}\u001b[39;00m\u001b[39m\"\u001b[39m)\n",
      "File \u001b[0;32m~/Documents/Programming Files/2nd grade/ML 2/Assignment/Assignment#3/model_util.py:23\u001b[0m, in \u001b[0;36mtrain_loop\u001b[0;34m(model, data_loader, loss_func, optimizer, device, transform, google, hide_process)\u001b[0m\n\u001b[1;32m     21\u001b[0m acc_tmp \u001b[39m=\u001b[39m \u001b[39m0\u001b[39m\n\u001b[1;32m     22\u001b[0m \u001b[39mfor\u001b[39;00m x, y \u001b[39min\u001b[39;00m tqdm(data_loader, disable\u001b[39m=\u001b[39mhide_process):\n\u001b[0;32m---> 23\u001b[0m     x, y \u001b[39m=\u001b[39m Variable(x)\u001b[39m.\u001b[39mto(device), Variable(y)\u001b[39m.\u001b[39mto(device)\n\u001b[1;32m     24\u001b[0m     \u001b[39mif\u001b[39;00m transform:\n\u001b[1;32m     25\u001b[0m         x \u001b[39m=\u001b[39m transform(x)\n",
      "\u001b[0;31mTypeError\u001b[0m: Variable data has to be a tensor, but got list"
     ]
    }
   ],
   "source": [
    "wandb.init(\n",
    "    # Set the project where this run will be logged\n",
    "    project=\"ViT\",\n",
    "    # We pass a run name (otherwise it’ll be randomly assigned, like sunshine-lollypop-10)\n",
    "    name=\"VisionTransformer\"\n",
    ")\n",
    "\n",
    "transform = transforms.Compose([\n",
    "    transforms.Resize((240, 240)),\n",
    "    #transforms.CenterCrop(224),\n",
    "    #transforms.RandomPosterize(4, 1),\n",
    "    transforms.ToTensor(),\n",
    "    transforms.RandomAdjustSharpness(2),\n",
    "    transforms.Normalize(mean=[0.485, 0.456, 0.406], std=[0.229, 0.224, 0.225]),\n",
    "    transforms.FiveCrop(224),\n",
    "    transforms.Lambda(lambda x: torch.cat(x)),\n",
    "])\n",
    "\n",
    "traindata = CustomDataset('./data/', train=True, transform=transform)\n",
    "train_len = int(len(traindata)*0.8)\n",
    "valid_len = len(traindata) - train_len\n",
    "traindata, validdata = random_split(traindata, [train_len, valid_len])\n",
    "\n",
    "device='cpu'\n",
    "\n",
    "train_loader = DataLoader(traindata, shuffle=True, batch_size=1)\n",
    "valid_loader = DataLoader(validdata, shuffle=True, batch_size=1)\n",
    "model = VisionTransformer()#.to(device)\n",
    "loss_fn = nn.CrossEntropyLoss()\n",
    "optimizer = torch.optim.Adam(model.parameters(), lr=0.0003, weight_decay=1e-6)\n",
    "\n",
    "best_validation_acc = 0.0\n",
    "for t in range(100):\n",
    "    print(f\"--------------------------- Epoch {t+1} ---------------------------\")\n",
    "    train_acc, train_loss = train_loop(model=model,\n",
    "                                       data_loader=train_loader,\n",
    "                                       loss_func=loss_fn,\n",
    "                                       optimizer=optimizer,\n",
    "                                       device=device)\n",
    "    valid_acc, valid_loss = evaluate_loop(model=model,\n",
    "                                          data_loader=valid_loader, \n",
    "                                          loss_func=loss_fn,\n",
    "                                          device=device)\n",
    "    print(f\"Train Accuracy: {100*train_acc:2.5f}%\\t|\\tTrain Avg Loss: {train_loss:2.5f}\")\n",
    "    print(f\"Valid Accuracy: {100*valid_acc:2.5f}%\\t|\\tValid Avg Loss: {valid_loss:2.5f}\")\n",
    "    sample_batch, _ = next(iter(train_loader)) \n",
    "    sample_img = to_pil_image(sample_batch[0, :3, :, :])\n",
    "    sample_img = wandb.Image( # single image\n",
    "        sample_img,\n",
    "        caption=\"sample image\"\n",
    "    )\n",
    "\n",
    "    wandb.log({\n",
    "        \"train_acc\": train_acc,\n",
    "        \"valid_acc\": valid_acc,\n",
    "        \"train_loss\": train_loss,\n",
    "        \"valid_loss\": valid_loss,\n",
    "        \"example\": sample_img,\n",
    "    })\n",
    "\n",
    "    if valid_acc > best_validation_acc:\n",
    "        torch.save(model.state_dict(), './vit.pth')"
   ]
  },
  {
   "cell_type": "code",
   "execution_count": 7,
   "metadata": {},
   "outputs": [
    {
     "data": {
      "text/html": [
       "Finishing last run (ID:vpzj1dkn) before initializing another..."
      ],
      "text/plain": [
       "<IPython.core.display.HTML object>"
      ]
     },
     "metadata": {},
     "output_type": "display_data"
    },
    {
     "name": "stderr",
     "output_type": "stream",
     "text": [
      "wandb: WARNING Source type is set to 'repo' but some required information is missing from the environment. A job will not be created from this run. See https://docs.wandb.ai/guides/launch/create-job\n"
     ]
    },
    {
     "data": {
      "application/vnd.jupyter.widget-view+json": {
       "model_id": "d5718aa413e34ea795bbb0537d0db4d4",
       "version_major": 2,
       "version_minor": 0
      },
      "text/plain": [
       "VBox(children=(Label(value='0.173 MB of 0.195 MB uploaded\\r'), FloatProgress(value=0.8895601006491282, max=1.0…"
      ]
     },
     "metadata": {},
     "output_type": "display_data"
    },
    {
     "data": {
      "text/html": [
       "<style>\n",
       "    table.wandb td:nth-child(1) { padding: 0 10px; text-align: left ; width: auto;} td:nth-child(2) {text-align: left ; width: 100%}\n",
       "    .wandb-row { display: flex; flex-direction: row; flex-wrap: wrap; justify-content: flex-start; width: 100% }\n",
       "    .wandb-col { display: flex; flex-direction: column; flex-basis: 100%; flex: 1; padding: 10px; }\n",
       "    </style>\n",
       "<div class=\"wandb-row\"><div class=\"wandb-col\"><h3>Run history:</h3><br/><table class=\"wandb\"><tr><td>train_acc</td><td>█▁▃</td></tr><tr><td>train_loss</td><td>█▇▁</td></tr><tr><td>valid_acc</td><td>▁▁▁</td></tr><tr><td>valid_loss</td><td>▁▂█</td></tr></table><br/></div><div class=\"wandb-col\"><h3>Run summary:</h3><br/><table class=\"wandb\"><tr><td>train_acc</td><td>0.08052</td></tr><tr><td>train_loss</td><td>60.8919</td></tr><tr><td>valid_acc</td><td>0.0641</td></tr><tr><td>valid_loss</td><td>37.45723</td></tr></table><br/></div></div>"
      ],
      "text/plain": [
       "<IPython.core.display.HTML object>"
      ]
     },
     "metadata": {},
     "output_type": "display_data"
    },
    {
     "data": {
      "text/html": [
       " View run <strong style=\"color:#cdcd00\">googlenet</strong> at: <a href='https://wandb.ai/kdhyu/GoogLeNet/runs/vpzj1dkn' target=\"_blank\">https://wandb.ai/kdhyu/GoogLeNet/runs/vpzj1dkn</a><br/>Synced 6 W&B file(s), 3 media file(s), 0 artifact file(s) and 0 other file(s)"
      ],
      "text/plain": [
       "<IPython.core.display.HTML object>"
      ]
     },
     "metadata": {},
     "output_type": "display_data"
    },
    {
     "data": {
      "text/html": [
       "Find logs at: <code>./wandb/run-20231210_134637-vpzj1dkn/logs</code>"
      ],
      "text/plain": [
       "<IPython.core.display.HTML object>"
      ]
     },
     "metadata": {},
     "output_type": "display_data"
    },
    {
     "data": {
      "text/html": [
       "Successfully finished last run (ID:vpzj1dkn). Initializing new run:<br/>"
      ],
      "text/plain": [
       "<IPython.core.display.HTML object>"
      ]
     },
     "metadata": {},
     "output_type": "display_data"
    },
    {
     "data": {
      "application/vnd.jupyter.widget-view+json": {
       "model_id": "2eabba8e10844fb4971c60093cac945c",
       "version_major": 2,
       "version_minor": 0
      },
      "text/plain": [
       "VBox(children=(Label(value='Waiting for wandb.init()...\\r'), FloatProgress(value=0.011167647222221907, max=1.0…"
      ]
     },
     "metadata": {},
     "output_type": "display_data"
    },
    {
     "data": {
      "text/html": [
       "Tracking run with wandb version 0.16.1"
      ],
      "text/plain": [
       "<IPython.core.display.HTML object>"
      ]
     },
     "metadata": {},
     "output_type": "display_data"
    },
    {
     "data": {
      "text/html": [
       "Run data is saved locally in <code>/Users/tt/Documents/Programming Files/2nd grade/ML 2/Assignment/Assignment#3/wandb/run-20231210_135450-iy5ztrf0</code>"
      ],
      "text/plain": [
       "<IPython.core.display.HTML object>"
      ]
     },
     "metadata": {},
     "output_type": "display_data"
    },
    {
     "data": {
      "text/html": [
       "Syncing run <strong><a href='https://wandb.ai/kdhyu/GoogLeNet/runs/iy5ztrf0' target=\"_blank\">googlenet</a></strong> to <a href='https://wandb.ai/kdhyu/GoogLeNet' target=\"_blank\">Weights & Biases</a> (<a href='https://wandb.me/run' target=\"_blank\">docs</a>)<br/>"
      ],
      "text/plain": [
       "<IPython.core.display.HTML object>"
      ]
     },
     "metadata": {},
     "output_type": "display_data"
    },
    {
     "data": {
      "text/html": [
       " View project at <a href='https://wandb.ai/kdhyu/GoogLeNet' target=\"_blank\">https://wandb.ai/kdhyu/GoogLeNet</a>"
      ],
      "text/plain": [
       "<IPython.core.display.HTML object>"
      ]
     },
     "metadata": {},
     "output_type": "display_data"
    },
    {
     "data": {
      "text/html": [
       " View run at <a href='https://wandb.ai/kdhyu/GoogLeNet/runs/iy5ztrf0' target=\"_blank\">https://wandb.ai/kdhyu/GoogLeNet/runs/iy5ztrf0</a>"
      ],
      "text/plain": [
       "<IPython.core.display.HTML object>"
      ]
     },
     "metadata": {},
     "output_type": "display_data"
    },
    {
     "name": "stdout",
     "output_type": "stream",
     "text": [
      "--------------------------- Epoch 1 ---------------------------\n"
     ]
    },
    {
     "name": "stderr",
     "output_type": "stream",
     "text": [
      "100%|██████████| 39/39 [01:47<00:00,  2.76s/it]\n",
      "100%|██████████| 10/10 [00:20<00:00,  2.06s/it]\n"
     ]
    },
    {
     "name": "stdout",
     "output_type": "stream",
     "text": [
      "Train Accuracy: 9.17874%\t|\tTrain Avg Loss: 3.83898\n",
      "Valid Accuracy: 4.48718%\t|\tValid Avg Loss: 2.40074\n",
      "--------------------------- Epoch 2 ---------------------------\n"
     ]
    },
    {
     "name": "stderr",
     "output_type": "stream",
     "text": [
      "100%|██████████| 39/39 [01:48<00:00,  2.79s/it]\n",
      "100%|██████████| 10/10 [00:22<00:00,  2.24s/it]\n"
     ]
    },
    {
     "name": "stdout",
     "output_type": "stream",
     "text": [
      "Train Accuracy: 10.30596%\t|\tTrain Avg Loss: 3.83654\n",
      "Valid Accuracy: 4.48718%\t|\tValid Avg Loss: 2.40183\n",
      "--------------------------- Epoch 3 ---------------------------\n"
     ]
    },
    {
     "name": "stderr",
     "output_type": "stream",
     "text": [
      "100%|██████████| 39/39 [01:48<00:00,  2.79s/it]\n",
      "100%|██████████| 10/10 [00:21<00:00,  2.12s/it]\n"
     ]
    },
    {
     "name": "stdout",
     "output_type": "stream",
     "text": [
      "Train Accuracy: 10.14493%\t|\tTrain Avg Loss: 3.83137\n",
      "Valid Accuracy: 4.48718%\t|\tValid Avg Loss: 2.40414\n",
      "--------------------------- Epoch 4 ---------------------------\n"
     ]
    },
    {
     "name": "stderr",
     "output_type": "stream",
     "text": [
      "100%|██████████| 39/39 [01:49<00:00,  2.82s/it]\n",
      "100%|██████████| 10/10 [00:20<00:00,  2.10s/it]\n"
     ]
    },
    {
     "name": "stdout",
     "output_type": "stream",
     "text": [
      "Train Accuracy: 10.14493%\t|\tTrain Avg Loss: 3.80358\n",
      "Valid Accuracy: 4.48718%\t|\tValid Avg Loss: 2.40707\n",
      "--------------------------- Epoch 5 ---------------------------\n"
     ]
    },
    {
     "name": "stderr",
     "output_type": "stream",
     "text": [
      "100%|██████████| 39/39 [01:44<00:00,  2.68s/it]\n",
      "100%|██████████| 10/10 [00:21<00:00,  2.11s/it]\n"
     ]
    },
    {
     "name": "stdout",
     "output_type": "stream",
     "text": [
      "Train Accuracy: 10.14493%\t|\tTrain Avg Loss: 3.76275\n",
      "Valid Accuracy: 4.48718%\t|\tValid Avg Loss: 2.40994\n",
      "--------------------------- Epoch 6 ---------------------------\n"
     ]
    },
    {
     "name": "stderr",
     "output_type": "stream",
     "text": [
      "100%|██████████| 39/39 [01:47<00:00,  2.77s/it]\n",
      "100%|██████████| 10/10 [00:21<00:00,  2.16s/it]\n"
     ]
    },
    {
     "name": "stdout",
     "output_type": "stream",
     "text": [
      "Train Accuracy: 12.72142%\t|\tTrain Avg Loss: 3.67758\n",
      "Valid Accuracy: 10.25641%\t|\tValid Avg Loss: 2.38732\n",
      "--------------------------- Epoch 7 ---------------------------\n"
     ]
    },
    {
     "name": "stderr",
     "output_type": "stream",
     "text": [
      "100%|██████████| 39/39 [01:46<00:00,  2.74s/it]\n",
      "100%|██████████| 10/10 [00:21<00:00,  2.11s/it]\n"
     ]
    },
    {
     "name": "stdout",
     "output_type": "stream",
     "text": [
      "Train Accuracy: 13.36554%\t|\tTrain Avg Loss: 3.60242\n",
      "Valid Accuracy: 12.82051%\t|\tValid Avg Loss: 2.32312\n",
      "--------------------------- Epoch 8 ---------------------------\n"
     ]
    },
    {
     "name": "stderr",
     "output_type": "stream",
     "text": [
      "100%|██████████| 39/39 [01:49<00:00,  2.80s/it]\n",
      "100%|██████████| 10/10 [00:22<00:00,  2.22s/it]\n"
     ]
    },
    {
     "name": "stdout",
     "output_type": "stream",
     "text": [
      "Train Accuracy: 13.04348%\t|\tTrain Avg Loss: 3.50299\n",
      "Valid Accuracy: 7.05128%\t|\tValid Avg Loss: 2.35369\n",
      "--------------------------- Epoch 9 ---------------------------\n"
     ]
    },
    {
     "name": "stderr",
     "output_type": "stream",
     "text": [
      "100%|██████████| 39/39 [01:48<00:00,  2.78s/it]\n",
      "100%|██████████| 10/10 [00:22<00:00,  2.22s/it]\n"
     ]
    },
    {
     "name": "stdout",
     "output_type": "stream",
     "text": [
      "Train Accuracy: 16.58615%\t|\tTrain Avg Loss: 3.40165\n",
      "Valid Accuracy: 10.89744%\t|\tValid Avg Loss: 2.22087\n",
      "--------------------------- Epoch 10 ---------------------------\n"
     ]
    },
    {
     "name": "stderr",
     "output_type": "stream",
     "text": [
      "100%|██████████| 39/39 [01:50<00:00,  2.85s/it]\n",
      "100%|██████████| 10/10 [00:21<00:00,  2.19s/it]\n"
     ]
    },
    {
     "name": "stdout",
     "output_type": "stream",
     "text": [
      "Train Accuracy: 18.03543%\t|\tTrain Avg Loss: 3.18653\n",
      "Valid Accuracy: 18.58974%\t|\tValid Avg Loss: 2.04567\n",
      "--------------------------- Epoch 11 ---------------------------\n"
     ]
    },
    {
     "name": "stderr",
     "output_type": "stream",
     "text": [
      "100%|██████████| 39/39 [01:48<00:00,  2.79s/it]\n",
      "100%|██████████| 10/10 [00:21<00:00,  2.17s/it]\n"
     ]
    },
    {
     "name": "stdout",
     "output_type": "stream",
     "text": [
      "Train Accuracy: 17.39130%\t|\tTrain Avg Loss: 3.05616\n",
      "Valid Accuracy: 22.43590%\t|\tValid Avg Loss: 1.92682\n",
      "--------------------------- Epoch 12 ---------------------------\n"
     ]
    },
    {
     "name": "stderr",
     "output_type": "stream",
     "text": [
      "100%|██████████| 39/39 [01:47<00:00,  2.76s/it]\n",
      "100%|██████████| 10/10 [00:21<00:00,  2.12s/it]\n"
     ]
    },
    {
     "name": "stdout",
     "output_type": "stream",
     "text": [
      "Train Accuracy: 17.23027%\t|\tTrain Avg Loss: 3.07763\n",
      "Valid Accuracy: 19.87179%\t|\tValid Avg Loss: 2.08163\n",
      "--------------------------- Epoch 13 ---------------------------\n"
     ]
    },
    {
     "name": "stderr",
     "output_type": "stream",
     "text": [
      "100%|██████████| 39/39 [01:47<00:00,  2.75s/it]\n",
      "100%|██████████| 10/10 [00:21<00:00,  2.17s/it]\n"
     ]
    },
    {
     "name": "stdout",
     "output_type": "stream",
     "text": [
      "Train Accuracy: 23.51047%\t|\tTrain Avg Loss: 2.84681\n",
      "Valid Accuracy: 22.43590%\t|\tValid Avg Loss: 1.99321\n",
      "--------------------------- Epoch 14 ---------------------------\n"
     ]
    },
    {
     "name": "stderr",
     "output_type": "stream",
     "text": [
      "100%|██████████| 39/39 [01:46<00:00,  2.72s/it]\n",
      "100%|██████████| 10/10 [00:21<00:00,  2.14s/it]\n"
     ]
    },
    {
     "name": "stdout",
     "output_type": "stream",
     "text": [
      "Train Accuracy: 26.08696%\t|\tTrain Avg Loss: 2.69252\n",
      "Valid Accuracy: 32.69231%\t|\tValid Avg Loss: 1.75118\n",
      "--------------------------- Epoch 15 ---------------------------\n"
     ]
    },
    {
     "name": "stderr",
     "output_type": "stream",
     "text": [
      "100%|██████████| 39/39 [01:48<00:00,  2.78s/it]\n",
      "100%|██████████| 10/10 [00:21<00:00,  2.11s/it]\n"
     ]
    },
    {
     "name": "stdout",
     "output_type": "stream",
     "text": [
      "Train Accuracy: 31.56200%\t|\tTrain Avg Loss: 2.49321\n",
      "Valid Accuracy: 18.58974%\t|\tValid Avg Loss: 1.91338\n",
      "--------------------------- Epoch 16 ---------------------------\n"
     ]
    },
    {
     "name": "stderr",
     "output_type": "stream",
     "text": [
      "100%|██████████| 39/39 [01:45<00:00,  2.70s/it]\n",
      "100%|██████████| 10/10 [00:21<00:00,  2.10s/it]\n"
     ]
    },
    {
     "name": "stdout",
     "output_type": "stream",
     "text": [
      "Train Accuracy: 31.88406%\t|\tTrain Avg Loss: 2.42968\n",
      "Valid Accuracy: 34.61538%\t|\tValid Avg Loss: 1.70540\n",
      "--------------------------- Epoch 17 ---------------------------\n"
     ]
    },
    {
     "name": "stderr",
     "output_type": "stream",
     "text": [
      "100%|██████████| 39/39 [01:49<00:00,  2.82s/it]\n",
      "100%|██████████| 10/10 [00:22<00:00,  2.22s/it]\n"
     ]
    },
    {
     "name": "stdout",
     "output_type": "stream",
     "text": [
      "Train Accuracy: 34.94364%\t|\tTrain Avg Loss: 2.37522\n",
      "Valid Accuracy: 30.76923%\t|\tValid Avg Loss: 1.68627\n",
      "--------------------------- Epoch 18 ---------------------------\n"
     ]
    },
    {
     "name": "stderr",
     "output_type": "stream",
     "text": [
      "100%|██████████| 39/39 [01:49<00:00,  2.80s/it]\n",
      "100%|██████████| 10/10 [00:22<00:00,  2.20s/it]\n"
     ]
    },
    {
     "name": "stdout",
     "output_type": "stream",
     "text": [
      "Train Accuracy: 34.78261%\t|\tTrain Avg Loss: 2.28368\n",
      "Valid Accuracy: 37.17949%\t|\tValid Avg Loss: 1.57388\n",
      "--------------------------- Epoch 19 ---------------------------\n"
     ]
    },
    {
     "name": "stderr",
     "output_type": "stream",
     "text": [
      "100%|██████████| 39/39 [01:47<00:00,  2.76s/it]\n",
      "100%|██████████| 10/10 [00:21<00:00,  2.16s/it]\n"
     ]
    },
    {
     "name": "stdout",
     "output_type": "stream",
     "text": [
      "Train Accuracy: 36.23188%\t|\tTrain Avg Loss: 2.23597\n",
      "Valid Accuracy: 42.94872%\t|\tValid Avg Loss: 1.54129\n",
      "--------------------------- Epoch 20 ---------------------------\n"
     ]
    },
    {
     "name": "stderr",
     "output_type": "stream",
     "text": [
      "100%|██████████| 39/39 [01:46<00:00,  2.73s/it]\n",
      "100%|██████████| 10/10 [00:21<00:00,  2.12s/it]\n"
     ]
    },
    {
     "name": "stdout",
     "output_type": "stream",
     "text": [
      "Train Accuracy: 38.64734%\t|\tTrain Avg Loss: 2.14550\n",
      "Valid Accuracy: 37.82051%\t|\tValid Avg Loss: 1.44728\n",
      "--------------------------- Epoch 21 ---------------------------\n"
     ]
    },
    {
     "name": "stderr",
     "output_type": "stream",
     "text": [
      "100%|██████████| 39/39 [01:46<00:00,  2.73s/it]\n",
      "100%|██████████| 10/10 [00:21<00:00,  2.15s/it]\n"
     ]
    },
    {
     "name": "stdout",
     "output_type": "stream",
     "text": [
      "Train Accuracy: 44.44444%\t|\tTrain Avg Loss: 2.01187\n",
      "Valid Accuracy: 39.10256%\t|\tValid Avg Loss: 1.43385\n",
      "--------------------------- Epoch 22 ---------------------------\n"
     ]
    },
    {
     "name": "stderr",
     "output_type": "stream",
     "text": [
      "100%|██████████| 39/39 [01:47<00:00,  2.76s/it]\n",
      "100%|██████████| 10/10 [00:21<00:00,  2.19s/it]\n"
     ]
    },
    {
     "name": "stdout",
     "output_type": "stream",
     "text": [
      "Train Accuracy: 47.50403%\t|\tTrain Avg Loss: 1.87515\n",
      "Valid Accuracy: 42.30769%\t|\tValid Avg Loss: 1.36099\n",
      "--------------------------- Epoch 23 ---------------------------\n"
     ]
    },
    {
     "name": "stderr",
     "output_type": "stream",
     "text": [
      "100%|██████████| 39/39 [01:46<00:00,  2.73s/it]\n",
      "100%|██████████| 10/10 [00:21<00:00,  2.11s/it]\n"
     ]
    },
    {
     "name": "stdout",
     "output_type": "stream",
     "text": [
      "Train Accuracy: 44.76651%\t|\tTrain Avg Loss: 1.81958\n",
      "Valid Accuracy: 50.00000%\t|\tValid Avg Loss: 1.42344\n",
      "--------------------------- Epoch 24 ---------------------------\n"
     ]
    },
    {
     "name": "stderr",
     "output_type": "stream",
     "text": [
      "100%|██████████| 39/39 [01:45<00:00,  2.69s/it]\n",
      "100%|██████████| 10/10 [00:21<00:00,  2.14s/it]\n"
     ]
    },
    {
     "name": "stdout",
     "output_type": "stream",
     "text": [
      "Train Accuracy: 46.53784%\t|\tTrain Avg Loss: 1.88620\n",
      "Valid Accuracy: 37.82051%\t|\tValid Avg Loss: 1.46994\n",
      "--------------------------- Epoch 25 ---------------------------\n"
     ]
    },
    {
     "name": "stderr",
     "output_type": "stream",
     "text": [
      "100%|██████████| 39/39 [01:45<00:00,  2.71s/it]\n",
      "100%|██████████| 10/10 [00:21<00:00,  2.15s/it]\n"
     ]
    },
    {
     "name": "stdout",
     "output_type": "stream",
     "text": [
      "Train Accuracy: 45.08857%\t|\tTrain Avg Loss: 1.75359\n",
      "Valid Accuracy: 48.71795%\t|\tValid Avg Loss: 1.28895\n",
      "--------------------------- Epoch 26 ---------------------------\n"
     ]
    },
    {
     "name": "stderr",
     "output_type": "stream",
     "text": [
      "100%|██████████| 39/39 [01:45<00:00,  2.70s/it]\n",
      "100%|██████████| 10/10 [00:21<00:00,  2.17s/it]\n"
     ]
    },
    {
     "name": "stdout",
     "output_type": "stream",
     "text": [
      "Train Accuracy: 47.34300%\t|\tTrain Avg Loss: 1.75484\n",
      "Valid Accuracy: 42.30769%\t|\tValid Avg Loss: 1.32578\n",
      "--------------------------- Epoch 27 ---------------------------\n"
     ]
    },
    {
     "name": "stderr",
     "output_type": "stream",
     "text": [
      "100%|██████████| 39/39 [01:48<00:00,  2.79s/it]\n",
      "100%|██████████| 10/10 [00:21<00:00,  2.18s/it]\n"
     ]
    },
    {
     "name": "stdout",
     "output_type": "stream",
     "text": [
      "Train Accuracy: 50.40258%\t|\tTrain Avg Loss: 1.73695\n",
      "Valid Accuracy: 51.92308%\t|\tValid Avg Loss: 1.21435\n",
      "--------------------------- Epoch 28 ---------------------------\n"
     ]
    },
    {
     "name": "stderr",
     "output_type": "stream",
     "text": [
      "100%|██████████| 39/39 [01:48<00:00,  2.79s/it]\n",
      "100%|██████████| 10/10 [00:21<00:00,  2.13s/it]\n"
     ]
    },
    {
     "name": "stdout",
     "output_type": "stream",
     "text": [
      "Train Accuracy: 51.36876%\t|\tTrain Avg Loss: 1.65407\n",
      "Valid Accuracy: 53.84615%\t|\tValid Avg Loss: 1.19635\n",
      "--------------------------- Epoch 29 ---------------------------\n"
     ]
    },
    {
     "name": "stderr",
     "output_type": "stream",
     "text": [
      "100%|██████████| 39/39 [01:50<00:00,  2.84s/it]\n",
      "100%|██████████| 10/10 [00:21<00:00,  2.19s/it]\n"
     ]
    },
    {
     "name": "stdout",
     "output_type": "stream",
     "text": [
      "Train Accuracy: 56.36071%\t|\tTrain Avg Loss: 1.47846\n",
      "Valid Accuracy: 53.20513%\t|\tValid Avg Loss: 1.08527\n",
      "--------------------------- Epoch 30 ---------------------------\n"
     ]
    },
    {
     "name": "stderr",
     "output_type": "stream",
     "text": [
      "100%|██████████| 39/39 [01:49<00:00,  2.80s/it]\n",
      "100%|██████████| 10/10 [00:21<00:00,  2.18s/it]\n"
     ]
    },
    {
     "name": "stdout",
     "output_type": "stream",
     "text": [
      "Train Accuracy: 58.45411%\t|\tTrain Avg Loss: 1.42796\n",
      "Valid Accuracy: 57.69231%\t|\tValid Avg Loss: 1.10357\n",
      "--------------------------- Epoch 31 ---------------------------\n"
     ]
    },
    {
     "name": "stderr",
     "output_type": "stream",
     "text": [
      "100%|██████████| 39/39 [01:48<00:00,  2.78s/it]\n",
      "100%|██████████| 10/10 [00:21<00:00,  2.12s/it]\n"
     ]
    },
    {
     "name": "stdout",
     "output_type": "stream",
     "text": [
      "Train Accuracy: 57.64895%\t|\tTrain Avg Loss: 1.45486\n",
      "Valid Accuracy: 60.89744%\t|\tValid Avg Loss: 1.02221\n",
      "--------------------------- Epoch 32 ---------------------------\n"
     ]
    },
    {
     "name": "stderr",
     "output_type": "stream",
     "text": [
      "100%|██████████| 39/39 [01:44<00:00,  2.69s/it]\n",
      "100%|██████████| 10/10 [00:21<00:00,  2.12s/it]\n"
     ]
    },
    {
     "name": "stdout",
     "output_type": "stream",
     "text": [
      "Train Accuracy: 61.35266%\t|\tTrain Avg Loss: 1.36382\n",
      "Valid Accuracy: 46.79487%\t|\tValid Avg Loss: 1.27946\n",
      "--------------------------- Epoch 33 ---------------------------\n"
     ]
    },
    {
     "name": "stderr",
     "output_type": "stream",
     "text": [
      "100%|██████████| 39/39 [01:48<00:00,  2.78s/it]\n",
      "100%|██████████| 10/10 [00:21<00:00,  2.16s/it]\n"
     ]
    },
    {
     "name": "stdout",
     "output_type": "stream",
     "text": [
      "Train Accuracy: 61.67472%\t|\tTrain Avg Loss: 1.37581\n",
      "Valid Accuracy: 60.25641%\t|\tValid Avg Loss: 0.97998\n",
      "--------------------------- Epoch 34 ---------------------------\n"
     ]
    },
    {
     "name": "stderr",
     "output_type": "stream",
     "text": [
      "100%|██████████| 39/39 [01:49<00:00,  2.82s/it]\n",
      "100%|██████████| 10/10 [00:21<00:00,  2.19s/it]\n"
     ]
    },
    {
     "name": "stdout",
     "output_type": "stream",
     "text": [
      "Train Accuracy: 67.14976%\t|\tTrain Avg Loss: 1.19847\n",
      "Valid Accuracy: 44.23077%\t|\tValid Avg Loss: 1.33956\n",
      "--------------------------- Epoch 35 ---------------------------\n"
     ]
    },
    {
     "name": "stderr",
     "output_type": "stream",
     "text": [
      "100%|██████████| 39/39 [01:46<00:00,  2.73s/it]\n",
      "100%|██████████| 10/10 [00:20<00:00,  2.10s/it]\n"
     ]
    },
    {
     "name": "stdout",
     "output_type": "stream",
     "text": [
      "Train Accuracy: 62.15781%\t|\tTrain Avg Loss: 1.29031\n",
      "Valid Accuracy: 51.92308%\t|\tValid Avg Loss: 1.15131\n",
      "--------------------------- Epoch 36 ---------------------------\n"
     ]
    },
    {
     "name": "stderr",
     "output_type": "stream",
     "text": [
      "100%|██████████| 39/39 [01:45<00:00,  2.70s/it]\n",
      "100%|██████████| 10/10 [00:20<00:00,  2.09s/it]\n"
     ]
    },
    {
     "name": "stdout",
     "output_type": "stream",
     "text": [
      "Train Accuracy: 64.09018%\t|\tTrain Avg Loss: 1.21477\n",
      "Valid Accuracy: 56.41026%\t|\tValid Avg Loss: 1.39544\n",
      "--------------------------- Epoch 37 ---------------------------\n"
     ]
    },
    {
     "name": "stderr",
     "output_type": "stream",
     "text": [
      "100%|██████████| 39/39 [01:44<00:00,  2.69s/it]\n",
      "100%|██████████| 10/10 [00:21<00:00,  2.11s/it]\n"
     ]
    },
    {
     "name": "stdout",
     "output_type": "stream",
     "text": [
      "Train Accuracy: 63.76812%\t|\tTrain Avg Loss: 1.18955\n",
      "Valid Accuracy: 60.25641%\t|\tValid Avg Loss: 0.94832\n",
      "--------------------------- Epoch 38 ---------------------------\n"
     ]
    },
    {
     "name": "stderr",
     "output_type": "stream",
     "text": [
      "100%|██████████| 39/39 [01:44<00:00,  2.68s/it]\n",
      "100%|██████████| 10/10 [00:20<00:00,  2.09s/it]\n"
     ]
    },
    {
     "name": "stdout",
     "output_type": "stream",
     "text": [
      "Train Accuracy: 69.40419%\t|\tTrain Avg Loss: 0.99646\n",
      "Valid Accuracy: 67.94872%\t|\tValid Avg Loss: 1.06476\n",
      "--------------------------- Epoch 39 ---------------------------\n"
     ]
    },
    {
     "name": "stderr",
     "output_type": "stream",
     "text": [
      "100%|██████████| 39/39 [01:44<00:00,  2.68s/it]\n",
      "100%|██████████| 10/10 [00:21<00:00,  2.12s/it]\n"
     ]
    },
    {
     "name": "stdout",
     "output_type": "stream",
     "text": [
      "Train Accuracy: 76.00644%\t|\tTrain Avg Loss: 0.93086\n",
      "Valid Accuracy: 62.17949%\t|\tValid Avg Loss: 1.07460\n",
      "--------------------------- Epoch 40 ---------------------------\n"
     ]
    },
    {
     "name": "stderr",
     "output_type": "stream",
     "text": [
      "100%|██████████| 39/39 [01:44<00:00,  2.67s/it]\n",
      "100%|██████████| 10/10 [00:20<00:00,  2.09s/it]\n"
     ]
    },
    {
     "name": "stdout",
     "output_type": "stream",
     "text": [
      "Train Accuracy: 74.87923%\t|\tTrain Avg Loss: 0.89903\n",
      "Valid Accuracy: 58.33333%\t|\tValid Avg Loss: 1.48064\n",
      "--------------------------- Epoch 41 ---------------------------\n"
     ]
    },
    {
     "name": "stderr",
     "output_type": "stream",
     "text": [
      "100%|██████████| 39/39 [01:45<00:00,  2.69s/it]\n",
      "100%|██████████| 10/10 [00:21<00:00,  2.13s/it]\n"
     ]
    },
    {
     "name": "stdout",
     "output_type": "stream",
     "text": [
      "Train Accuracy: 71.33655%\t|\tTrain Avg Loss: 0.99186\n",
      "Valid Accuracy: 66.02564%\t|\tValid Avg Loss: 0.98572\n",
      "--------------------------- Epoch 42 ---------------------------\n"
     ]
    },
    {
     "name": "stderr",
     "output_type": "stream",
     "text": [
      "100%|██████████| 39/39 [01:46<00:00,  2.74s/it]\n",
      "100%|██████████| 10/10 [00:21<00:00,  2.14s/it]\n"
     ]
    },
    {
     "name": "stdout",
     "output_type": "stream",
     "text": [
      "Train Accuracy: 76.00644%\t|\tTrain Avg Loss: 0.79859\n",
      "Valid Accuracy: 65.38462%\t|\tValid Avg Loss: 1.25025\n",
      "--------------------------- Epoch 43 ---------------------------\n"
     ]
    },
    {
     "name": "stderr",
     "output_type": "stream",
     "text": [
      "100%|██████████| 39/39 [01:46<00:00,  2.72s/it]\n",
      "100%|██████████| 10/10 [00:21<00:00,  2.13s/it]\n"
     ]
    },
    {
     "name": "stdout",
     "output_type": "stream",
     "text": [
      "Train Accuracy: 79.22705%\t|\tTrain Avg Loss: 0.77664\n",
      "Valid Accuracy: 69.23077%\t|\tValid Avg Loss: 0.96073\n",
      "--------------------------- Epoch 44 ---------------------------\n"
     ]
    },
    {
     "name": "stderr",
     "output_type": "stream",
     "text": [
      "100%|██████████| 39/39 [01:45<00:00,  2.70s/it]\n",
      "100%|██████████| 10/10 [00:21<00:00,  2.11s/it]\n"
     ]
    },
    {
     "name": "stdout",
     "output_type": "stream",
     "text": [
      "Train Accuracy: 82.12560%\t|\tTrain Avg Loss: 0.67632\n",
      "Valid Accuracy: 66.02564%\t|\tValid Avg Loss: 1.07922\n",
      "--------------------------- Epoch 45 ---------------------------\n"
     ]
    },
    {
     "name": "stderr",
     "output_type": "stream",
     "text": [
      "100%|██████████| 39/39 [01:46<00:00,  2.74s/it]\n",
      "100%|██████████| 10/10 [00:21<00:00,  2.15s/it]\n"
     ]
    },
    {
     "name": "stdout",
     "output_type": "stream",
     "text": [
      "Train Accuracy: 77.93881%\t|\tTrain Avg Loss: 0.81113\n",
      "Valid Accuracy: 71.15385%\t|\tValid Avg Loss: 0.93809\n",
      "--------------------------- Epoch 46 ---------------------------\n"
     ]
    },
    {
     "name": "stderr",
     "output_type": "stream",
     "text": [
      "100%|██████████| 39/39 [01:47<00:00,  2.76s/it]\n",
      "100%|██████████| 10/10 [00:21<00:00,  2.11s/it]\n"
     ]
    },
    {
     "name": "stdout",
     "output_type": "stream",
     "text": [
      "Train Accuracy: 79.87118%\t|\tTrain Avg Loss: 0.76160\n",
      "Valid Accuracy: 73.07692%\t|\tValid Avg Loss: 0.88454\n",
      "--------------------------- Epoch 47 ---------------------------\n"
     ]
    },
    {
     "name": "stderr",
     "output_type": "stream",
     "text": [
      "100%|██████████| 39/39 [01:45<00:00,  2.71s/it]\n",
      "100%|██████████| 10/10 [00:21<00:00,  2.11s/it]\n"
     ]
    },
    {
     "name": "stdout",
     "output_type": "stream",
     "text": [
      "Train Accuracy: 85.18519%\t|\tTrain Avg Loss: 0.60416\n",
      "Valid Accuracy: 70.51282%\t|\tValid Avg Loss: 1.00074\n",
      "--------------------------- Epoch 48 ---------------------------\n"
     ]
    },
    {
     "name": "stderr",
     "output_type": "stream",
     "text": [
      "100%|██████████| 39/39 [01:48<00:00,  2.77s/it]\n",
      "100%|██████████| 10/10 [00:21<00:00,  2.16s/it]\n"
     ]
    },
    {
     "name": "stdout",
     "output_type": "stream",
     "text": [
      "Train Accuracy: 82.76973%\t|\tTrain Avg Loss: 0.69530\n",
      "Valid Accuracy: 71.15385%\t|\tValid Avg Loss: 0.91881\n",
      "--------------------------- Epoch 49 ---------------------------\n"
     ]
    },
    {
     "name": "stderr",
     "output_type": "stream",
     "text": [
      "100%|██████████| 39/39 [01:46<00:00,  2.72s/it]\n",
      "100%|██████████| 10/10 [00:22<00:00,  2.27s/it]\n"
     ]
    },
    {
     "name": "stdout",
     "output_type": "stream",
     "text": [
      "Train Accuracy: 81.80354%\t|\tTrain Avg Loss: 0.69946\n",
      "Valid Accuracy: 63.46154%\t|\tValid Avg Loss: 1.03879\n",
      "--------------------------- Epoch 50 ---------------------------\n"
     ]
    },
    {
     "name": "stderr",
     "output_type": "stream",
     "text": [
      "100%|██████████| 39/39 [01:48<00:00,  2.78s/it]\n",
      "100%|██████████| 10/10 [00:21<00:00,  2.10s/it]\n"
     ]
    },
    {
     "name": "stdout",
     "output_type": "stream",
     "text": [
      "Train Accuracy: 83.41385%\t|\tTrain Avg Loss: 0.65685\n",
      "Valid Accuracy: 76.28205%\t|\tValid Avg Loss: 0.92255\n",
      "--------------------------- Epoch 51 ---------------------------\n"
     ]
    },
    {
     "name": "stderr",
     "output_type": "stream",
     "text": [
      "100%|██████████| 39/39 [01:48<00:00,  2.79s/it]\n",
      "100%|██████████| 10/10 [00:21<00:00,  2.13s/it]\n"
     ]
    },
    {
     "name": "stdout",
     "output_type": "stream",
     "text": [
      "Train Accuracy: 89.04992%\t|\tTrain Avg Loss: 0.52525\n",
      "Valid Accuracy: 72.43590%\t|\tValid Avg Loss: 0.89340\n",
      "--------------------------- Epoch 52 ---------------------------\n"
     ]
    },
    {
     "name": "stderr",
     "output_type": "stream",
     "text": [
      "100%|██████████| 39/39 [01:47<00:00,  2.75s/it]\n",
      "100%|██████████| 10/10 [00:21<00:00,  2.12s/it]\n"
     ]
    },
    {
     "name": "stdout",
     "output_type": "stream",
     "text": [
      "Train Accuracy: 88.56683%\t|\tTrain Avg Loss: 0.48098\n",
      "Valid Accuracy: 69.87179%\t|\tValid Avg Loss: 1.13320\n",
      "--------------------------- Epoch 53 ---------------------------\n"
     ]
    },
    {
     "name": "stderr",
     "output_type": "stream",
     "text": [
      "100%|██████████| 39/39 [01:46<00:00,  2.73s/it]\n",
      "100%|██████████| 10/10 [00:21<00:00,  2.12s/it]\n"
     ]
    },
    {
     "name": "stdout",
     "output_type": "stream",
     "text": [
      "Train Accuracy: 87.43961%\t|\tTrain Avg Loss: 0.52773\n",
      "Valid Accuracy: 65.38462%\t|\tValid Avg Loss: 1.08709\n",
      "--------------------------- Epoch 54 ---------------------------\n"
     ]
    },
    {
     "name": "stderr",
     "output_type": "stream",
     "text": [
      "100%|██████████| 39/39 [01:48<00:00,  2.78s/it]\n",
      "100%|██████████| 10/10 [00:21<00:00,  2.11s/it]\n"
     ]
    },
    {
     "name": "stdout",
     "output_type": "stream",
     "text": [
      "Train Accuracy: 86.15137%\t|\tTrain Avg Loss: 0.51796\n",
      "Valid Accuracy: 73.71795%\t|\tValid Avg Loss: 0.77628\n",
      "--------------------------- Epoch 55 ---------------------------\n"
     ]
    },
    {
     "name": "stderr",
     "output_type": "stream",
     "text": [
      "100%|██████████| 39/39 [01:50<00:00,  2.82s/it]\n",
      "100%|██████████| 10/10 [00:21<00:00,  2.19s/it]\n"
     ]
    },
    {
     "name": "stdout",
     "output_type": "stream",
     "text": [
      "Train Accuracy: 85.66828%\t|\tTrain Avg Loss: 0.51537\n",
      "Valid Accuracy: 63.46154%\t|\tValid Avg Loss: 1.38605\n",
      "--------------------------- Epoch 56 ---------------------------\n"
     ]
    },
    {
     "name": "stderr",
     "output_type": "stream",
     "text": [
      "100%|██████████| 39/39 [01:49<00:00,  2.80s/it]\n",
      "100%|██████████| 10/10 [00:21<00:00,  2.15s/it]\n"
     ]
    },
    {
     "name": "stdout",
     "output_type": "stream",
     "text": [
      "Train Accuracy: 86.63446%\t|\tTrain Avg Loss: 0.62093\n",
      "Valid Accuracy: 75.00000%\t|\tValid Avg Loss: 0.73115\n",
      "--------------------------- Epoch 57 ---------------------------\n"
     ]
    },
    {
     "name": "stderr",
     "output_type": "stream",
     "text": [
      "100%|██████████| 39/39 [01:46<00:00,  2.73s/it]\n",
      "100%|██████████| 10/10 [00:20<00:00,  2.10s/it]\n"
     ]
    },
    {
     "name": "stdout",
     "output_type": "stream",
     "text": [
      "Train Accuracy: 87.60064%\t|\tTrain Avg Loss: 0.51242\n",
      "Valid Accuracy: 74.35897%\t|\tValid Avg Loss: 0.81513\n",
      "--------------------------- Epoch 58 ---------------------------\n"
     ]
    },
    {
     "name": "stderr",
     "output_type": "stream",
     "text": [
      "100%|██████████| 39/39 [01:46<00:00,  2.73s/it]\n",
      "100%|██████████| 10/10 [00:21<00:00,  2.13s/it]\n"
     ]
    },
    {
     "name": "stdout",
     "output_type": "stream",
     "text": [
      "Train Accuracy: 89.04992%\t|\tTrain Avg Loss: 0.44611\n",
      "Valid Accuracy: 79.48718%\t|\tValid Avg Loss: 0.66560\n",
      "--------------------------- Epoch 59 ---------------------------\n"
     ]
    },
    {
     "name": "stderr",
     "output_type": "stream",
     "text": [
      "100%|██████████| 39/39 [01:45<00:00,  2.70s/it]\n",
      "100%|██████████| 10/10 [00:20<00:00,  2.08s/it]\n"
     ]
    },
    {
     "name": "stdout",
     "output_type": "stream",
     "text": [
      "Train Accuracy: 89.69404%\t|\tTrain Avg Loss: 0.47056\n",
      "Valid Accuracy: 75.00000%\t|\tValid Avg Loss: 0.93828\n",
      "--------------------------- Epoch 60 ---------------------------\n"
     ]
    },
    {
     "name": "stderr",
     "output_type": "stream",
     "text": [
      "100%|██████████| 39/39 [01:44<00:00,  2.67s/it]\n",
      "100%|██████████| 10/10 [00:20<00:00,  2.08s/it]\n"
     ]
    },
    {
     "name": "stdout",
     "output_type": "stream",
     "text": [
      "Train Accuracy: 93.07568%\t|\tTrain Avg Loss: 0.34696\n",
      "Valid Accuracy: 82.69231%\t|\tValid Avg Loss: 0.89292\n",
      "--------------------------- Epoch 61 ---------------------------\n"
     ]
    },
    {
     "name": "stderr",
     "output_type": "stream",
     "text": [
      "100%|██████████| 39/39 [01:44<00:00,  2.68s/it]\n",
      "100%|██████████| 10/10 [00:21<00:00,  2.15s/it]\n"
     ]
    },
    {
     "name": "stdout",
     "output_type": "stream",
     "text": [
      "Train Accuracy: 91.78744%\t|\tTrain Avg Loss: 0.36723\n",
      "Valid Accuracy: 71.79487%\t|\tValid Avg Loss: 1.31448\n",
      "--------------------------- Epoch 62 ---------------------------\n"
     ]
    },
    {
     "name": "stderr",
     "output_type": "stream",
     "text": [
      "100%|██████████| 39/39 [01:46<00:00,  2.72s/it]\n",
      "100%|██████████| 10/10 [00:21<00:00,  2.11s/it]\n"
     ]
    },
    {
     "name": "stdout",
     "output_type": "stream",
     "text": [
      "Train Accuracy: 86.95652%\t|\tTrain Avg Loss: 0.50839\n",
      "Valid Accuracy: 75.64103%\t|\tValid Avg Loss: 0.87894\n",
      "--------------------------- Epoch 63 ---------------------------\n"
     ]
    },
    {
     "name": "stderr",
     "output_type": "stream",
     "text": [
      "100%|██████████| 39/39 [01:49<00:00,  2.80s/it]\n",
      "100%|██████████| 10/10 [00:21<00:00,  2.14s/it]\n"
     ]
    },
    {
     "name": "stdout",
     "output_type": "stream",
     "text": [
      "Train Accuracy: 92.43156%\t|\tTrain Avg Loss: 0.34424\n",
      "Valid Accuracy: 75.64103%\t|\tValid Avg Loss: 0.87774\n",
      "--------------------------- Epoch 64 ---------------------------\n"
     ]
    },
    {
     "name": "stderr",
     "output_type": "stream",
     "text": [
      "100%|██████████| 39/39 [01:46<00:00,  2.72s/it]\n",
      "100%|██████████| 10/10 [00:21<00:00,  2.19s/it]\n"
     ]
    },
    {
     "name": "stdout",
     "output_type": "stream",
     "text": [
      "Train Accuracy: 94.04187%\t|\tTrain Avg Loss: 0.29908\n",
      "Valid Accuracy: 75.64103%\t|\tValid Avg Loss: 0.91700\n",
      "--------------------------- Epoch 65 ---------------------------\n"
     ]
    },
    {
     "name": "stderr",
     "output_type": "stream",
     "text": [
      "100%|██████████| 39/39 [01:47<00:00,  2.77s/it]\n",
      "100%|██████████| 10/10 [00:21<00:00,  2.15s/it]\n"
     ]
    },
    {
     "name": "stdout",
     "output_type": "stream",
     "text": [
      "Train Accuracy: 93.07568%\t|\tTrain Avg Loss: 0.30024\n",
      "Valid Accuracy: 82.69231%\t|\tValid Avg Loss: 0.85826\n",
      "--------------------------- Epoch 66 ---------------------------\n"
     ]
    },
    {
     "name": "stderr",
     "output_type": "stream",
     "text": [
      "100%|██████████| 39/39 [01:45<00:00,  2.71s/it]\n",
      "100%|██████████| 10/10 [00:20<00:00,  2.09s/it]\n"
     ]
    },
    {
     "name": "stdout",
     "output_type": "stream",
     "text": [
      "Train Accuracy: 92.91465%\t|\tTrain Avg Loss: 0.30927\n",
      "Valid Accuracy: 81.41026%\t|\tValid Avg Loss: 0.61803\n",
      "--------------------------- Epoch 67 ---------------------------\n"
     ]
    },
    {
     "name": "stderr",
     "output_type": "stream",
     "text": [
      "100%|██████████| 39/39 [01:44<00:00,  2.67s/it]\n",
      "100%|██████████| 10/10 [00:20<00:00,  2.10s/it]\n"
     ]
    },
    {
     "name": "stdout",
     "output_type": "stream",
     "text": [
      "Train Accuracy: 92.75362%\t|\tTrain Avg Loss: 0.30271\n",
      "Valid Accuracy: 77.56410%\t|\tValid Avg Loss: 0.87499\n",
      "--------------------------- Epoch 68 ---------------------------\n"
     ]
    },
    {
     "name": "stderr",
     "output_type": "stream",
     "text": [
      "100%|██████████| 39/39 [01:44<00:00,  2.69s/it]\n",
      "100%|██████████| 10/10 [00:20<00:00,  2.09s/it]\n"
     ]
    },
    {
     "name": "stdout",
     "output_type": "stream",
     "text": [
      "Train Accuracy: 92.43156%\t|\tTrain Avg Loss: 0.38855\n",
      "Valid Accuracy: 74.35897%\t|\tValid Avg Loss: 0.85190\n",
      "--------------------------- Epoch 69 ---------------------------\n"
     ]
    },
    {
     "name": "stderr",
     "output_type": "stream",
     "text": [
      "100%|██████████| 39/39 [01:43<00:00,  2.65s/it]\n",
      "100%|██████████| 10/10 [00:20<00:00,  2.08s/it]\n"
     ]
    },
    {
     "name": "stdout",
     "output_type": "stream",
     "text": [
      "Train Accuracy: 91.30435%\t|\tTrain Avg Loss: 0.36605\n",
      "Valid Accuracy: 77.56410%\t|\tValid Avg Loss: 0.71160\n",
      "--------------------------- Epoch 70 ---------------------------\n"
     ]
    },
    {
     "name": "stderr",
     "output_type": "stream",
     "text": [
      "100%|██████████| 39/39 [01:43<00:00,  2.65s/it]\n",
      "100%|██████████| 10/10 [00:20<00:00,  2.09s/it]\n"
     ]
    },
    {
     "name": "stdout",
     "output_type": "stream",
     "text": [
      "Train Accuracy: 95.81320%\t|\tTrain Avg Loss: 0.20055\n",
      "Valid Accuracy: 81.41026%\t|\tValid Avg Loss: 0.74800\n",
      "--------------------------- Epoch 71 ---------------------------\n"
     ]
    },
    {
     "name": "stderr",
     "output_type": "stream",
     "text": [
      "100%|██████████| 39/39 [01:43<00:00,  2.66s/it]\n",
      "100%|██████████| 10/10 [00:21<00:00,  2.11s/it]\n"
     ]
    },
    {
     "name": "stdout",
     "output_type": "stream",
     "text": [
      "Train Accuracy: 90.17713%\t|\tTrain Avg Loss: 0.44215\n",
      "Valid Accuracy: 74.35897%\t|\tValid Avg Loss: 0.80030\n",
      "--------------------------- Epoch 72 ---------------------------\n"
     ]
    },
    {
     "name": "stderr",
     "output_type": "stream",
     "text": [
      "100%|██████████| 39/39 [01:43<00:00,  2.66s/it]\n",
      "100%|██████████| 10/10 [00:20<00:00,  2.09s/it]\n"
     ]
    },
    {
     "name": "stdout",
     "output_type": "stream",
     "text": [
      "Train Accuracy: 91.78744%\t|\tTrain Avg Loss: 0.35690\n",
      "Valid Accuracy: 82.69231%\t|\tValid Avg Loss: 0.64663\n",
      "--------------------------- Epoch 73 ---------------------------\n"
     ]
    },
    {
     "name": "stderr",
     "output_type": "stream",
     "text": [
      "100%|██████████| 39/39 [01:44<00:00,  2.67s/it]\n",
      "100%|██████████| 10/10 [00:20<00:00,  2.09s/it]\n"
     ]
    },
    {
     "name": "stdout",
     "output_type": "stream",
     "text": [
      "Train Accuracy: 95.49114%\t|\tTrain Avg Loss: 0.22298\n",
      "Valid Accuracy: 77.56410%\t|\tValid Avg Loss: 0.83869\n",
      "--------------------------- Epoch 74 ---------------------------\n"
     ]
    },
    {
     "name": "stderr",
     "output_type": "stream",
     "text": [
      "100%|██████████| 39/39 [01:43<00:00,  2.66s/it]\n",
      "100%|██████████| 10/10 [00:20<00:00,  2.08s/it]\n"
     ]
    },
    {
     "name": "stdout",
     "output_type": "stream",
     "text": [
      "Train Accuracy: 95.16908%\t|\tTrain Avg Loss: 0.21745\n",
      "Valid Accuracy: 74.35897%\t|\tValid Avg Loss: 1.34904\n",
      "--------------------------- Epoch 75 ---------------------------\n"
     ]
    },
    {
     "name": "stderr",
     "output_type": "stream",
     "text": [
      "100%|██████████| 39/39 [01:43<00:00,  2.67s/it]\n",
      "100%|██████████| 10/10 [00:20<00:00,  2.08s/it]\n"
     ]
    },
    {
     "name": "stdout",
     "output_type": "stream",
     "text": [
      "Train Accuracy: 94.36393%\t|\tTrain Avg Loss: 0.30636\n",
      "Valid Accuracy: 71.79487%\t|\tValid Avg Loss: 1.08619\n",
      "--------------------------- Epoch 76 ---------------------------\n"
     ]
    },
    {
     "name": "stderr",
     "output_type": "stream",
     "text": [
      "100%|██████████| 39/39 [01:43<00:00,  2.66s/it]\n",
      "100%|██████████| 10/10 [00:20<00:00,  2.08s/it]\n"
     ]
    },
    {
     "name": "stdout",
     "output_type": "stream",
     "text": [
      "Train Accuracy: 90.66023%\t|\tTrain Avg Loss: 0.39577\n",
      "Valid Accuracy: 76.28205%\t|\tValid Avg Loss: 0.96207\n",
      "--------------------------- Epoch 77 ---------------------------\n"
     ]
    },
    {
     "name": "stderr",
     "output_type": "stream",
     "text": [
      "100%|██████████| 39/39 [01:43<00:00,  2.65s/it]\n",
      "100%|██████████| 10/10 [00:20<00:00,  2.08s/it]\n"
     ]
    },
    {
     "name": "stdout",
     "output_type": "stream",
     "text": [
      "Train Accuracy: 94.20290%\t|\tTrain Avg Loss: 0.29286\n",
      "Valid Accuracy: 73.71795%\t|\tValid Avg Loss: 1.10235\n",
      "--------------------------- Epoch 78 ---------------------------\n"
     ]
    },
    {
     "name": "stderr",
     "output_type": "stream",
     "text": [
      "100%|██████████| 39/39 [01:43<00:00,  2.66s/it]\n",
      "100%|██████████| 10/10 [00:22<00:00,  2.21s/it]\n"
     ]
    },
    {
     "name": "stdout",
     "output_type": "stream",
     "text": [
      "Train Accuracy: 96.13527%\t|\tTrain Avg Loss: 0.23250\n",
      "Valid Accuracy: 78.84615%\t|\tValid Avg Loss: 0.79290\n",
      "--------------------------- Epoch 79 ---------------------------\n"
     ]
    },
    {
     "name": "stderr",
     "output_type": "stream",
     "text": [
      "100%|██████████| 39/39 [01:44<00:00,  2.68s/it]\n",
      "100%|██████████| 10/10 [00:20<00:00,  2.09s/it]\n"
     ]
    },
    {
     "name": "stdout",
     "output_type": "stream",
     "text": [
      "Train Accuracy: 96.77939%\t|\tTrain Avg Loss: 0.15068\n",
      "Valid Accuracy: 75.00000%\t|\tValid Avg Loss: 0.98051\n",
      "--------------------------- Epoch 80 ---------------------------\n"
     ]
    },
    {
     "name": "stderr",
     "output_type": "stream",
     "text": [
      "100%|██████████| 39/39 [01:44<00:00,  2.69s/it]\n",
      "100%|██████████| 10/10 [00:20<00:00,  2.08s/it]\n"
     ]
    },
    {
     "name": "stdout",
     "output_type": "stream",
     "text": [
      "Train Accuracy: 94.68599%\t|\tTrain Avg Loss: 0.25403\n",
      "Valid Accuracy: 77.56410%\t|\tValid Avg Loss: 0.92239\n",
      "--------------------------- Epoch 81 ---------------------------\n"
     ]
    },
    {
     "name": "stderr",
     "output_type": "stream",
     "text": [
      "100%|██████████| 39/39 [01:43<00:00,  2.66s/it]\n",
      "100%|██████████| 10/10 [00:20<00:00,  2.09s/it]\n"
     ]
    },
    {
     "name": "stdout",
     "output_type": "stream",
     "text": [
      "Train Accuracy: 92.75362%\t|\tTrain Avg Loss: 0.36420\n",
      "Valid Accuracy: 76.92308%\t|\tValid Avg Loss: 1.03518\n",
      "--------------------------- Epoch 82 ---------------------------\n"
     ]
    },
    {
     "name": "stderr",
     "output_type": "stream",
     "text": [
      "100%|██████████| 39/39 [01:44<00:00,  2.68s/it]\n",
      "100%|██████████| 10/10 [00:20<00:00,  2.08s/it]\n"
     ]
    },
    {
     "name": "stdout",
     "output_type": "stream",
     "text": [
      "Train Accuracy: 95.49114%\t|\tTrain Avg Loss: 0.23838\n",
      "Valid Accuracy: 81.41026%\t|\tValid Avg Loss: 0.70578\n",
      "--------------------------- Epoch 83 ---------------------------\n"
     ]
    },
    {
     "name": "stderr",
     "output_type": "stream",
     "text": [
      "100%|██████████| 39/39 [01:44<00:00,  2.67s/it]\n",
      "100%|██████████| 10/10 [00:22<00:00,  2.29s/it]\n"
     ]
    },
    {
     "name": "stdout",
     "output_type": "stream",
     "text": [
      "Train Accuracy: 93.39775%\t|\tTrain Avg Loss: 0.39134\n",
      "Valid Accuracy: 77.56410%\t|\tValid Avg Loss: 0.83084\n",
      "--------------------------- Epoch 84 ---------------------------\n"
     ]
    },
    {
     "name": "stderr",
     "output_type": "stream",
     "text": [
      "100%|██████████| 39/39 [01:46<00:00,  2.73s/it]\n",
      "100%|██████████| 10/10 [00:20<00:00,  2.10s/it]\n"
     ]
    },
    {
     "name": "stdout",
     "output_type": "stream",
     "text": [
      "Train Accuracy: 96.94042%\t|\tTrain Avg Loss: 0.19991\n",
      "Valid Accuracy: 78.20513%\t|\tValid Avg Loss: 0.90994\n",
      "--------------------------- Epoch 85 ---------------------------\n"
     ]
    },
    {
     "name": "stderr",
     "output_type": "stream",
     "text": [
      "100%|██████████| 39/39 [01:46<00:00,  2.73s/it]\n",
      "100%|██████████| 10/10 [00:21<00:00,  2.19s/it]\n"
     ]
    },
    {
     "name": "stdout",
     "output_type": "stream",
     "text": [
      "Train Accuracy: 97.10145%\t|\tTrain Avg Loss: 0.16223\n",
      "Valid Accuracy: 76.28205%\t|\tValid Avg Loss: 1.13223\n",
      "--------------------------- Epoch 86 ---------------------------\n"
     ]
    },
    {
     "name": "stderr",
     "output_type": "stream",
     "text": [
      "100%|██████████| 39/39 [01:46<00:00,  2.72s/it]\n",
      "100%|██████████| 10/10 [00:21<00:00,  2.15s/it]\n"
     ]
    },
    {
     "name": "stdout",
     "output_type": "stream",
     "text": [
      "Train Accuracy: 93.88084%\t|\tTrain Avg Loss: 0.31883\n",
      "Valid Accuracy: 80.12821%\t|\tValid Avg Loss: 0.82388\n",
      "--------------------------- Epoch 87 ---------------------------\n"
     ]
    },
    {
     "name": "stderr",
     "output_type": "stream",
     "text": [
      "100%|██████████| 39/39 [01:44<00:00,  2.68s/it]\n",
      "100%|██████████| 10/10 [00:21<00:00,  2.10s/it]\n"
     ]
    },
    {
     "name": "stdout",
     "output_type": "stream",
     "text": [
      "Train Accuracy: 95.49114%\t|\tTrain Avg Loss: 0.24392\n",
      "Valid Accuracy: 76.28205%\t|\tValid Avg Loss: 0.99350\n",
      "--------------------------- Epoch 88 ---------------------------\n"
     ]
    },
    {
     "name": "stderr",
     "output_type": "stream",
     "text": [
      "100%|██████████| 39/39 [01:44<00:00,  2.68s/it]\n",
      "100%|██████████| 10/10 [00:21<00:00,  2.10s/it]\n"
     ]
    },
    {
     "name": "stdout",
     "output_type": "stream",
     "text": [
      "Train Accuracy: 96.13527%\t|\tTrain Avg Loss: 0.19130\n",
      "Valid Accuracy: 80.12821%\t|\tValid Avg Loss: 0.90760\n",
      "--------------------------- Epoch 89 ---------------------------\n"
     ]
    },
    {
     "name": "stderr",
     "output_type": "stream",
     "text": [
      "100%|██████████| 39/39 [01:44<00:00,  2.68s/it]\n",
      "100%|██████████| 10/10 [00:21<00:00,  2.15s/it]\n"
     ]
    },
    {
     "name": "stdout",
     "output_type": "stream",
     "text": [
      "Train Accuracy: 97.26248%\t|\tTrain Avg Loss: 0.17363\n",
      "Valid Accuracy: 79.48718%\t|\tValid Avg Loss: 1.14281\n",
      "--------------------------- Epoch 90 ---------------------------\n"
     ]
    },
    {
     "name": "stderr",
     "output_type": "stream",
     "text": [
      "100%|██████████| 39/39 [01:48<00:00,  2.77s/it]\n",
      "100%|██████████| 10/10 [00:21<00:00,  2.14s/it]\n"
     ]
    },
    {
     "name": "stdout",
     "output_type": "stream",
     "text": [
      "Train Accuracy: 97.10145%\t|\tTrain Avg Loss: 0.15875\n",
      "Valid Accuracy: 80.12821%\t|\tValid Avg Loss: 0.87040\n",
      "--------------------------- Epoch 91 ---------------------------\n"
     ]
    },
    {
     "name": "stderr",
     "output_type": "stream",
     "text": [
      "100%|██████████| 39/39 [01:46<00:00,  2.73s/it]\n",
      "100%|██████████| 10/10 [00:20<00:00,  2.09s/it]\n"
     ]
    },
    {
     "name": "stdout",
     "output_type": "stream",
     "text": [
      "Train Accuracy: 95.33011%\t|\tTrain Avg Loss: 0.26881\n",
      "Valid Accuracy: 75.64103%\t|\tValid Avg Loss: 1.02063\n",
      "--------------------------- Epoch 92 ---------------------------\n"
     ]
    },
    {
     "name": "stderr",
     "output_type": "stream",
     "text": [
      "100%|██████████| 39/39 [01:45<00:00,  2.71s/it]\n",
      "100%|██████████| 10/10 [00:21<00:00,  2.10s/it]\n"
     ]
    },
    {
     "name": "stdout",
     "output_type": "stream",
     "text": [
      "Train Accuracy: 95.81320%\t|\tTrain Avg Loss: 0.22077\n",
      "Valid Accuracy: 80.12821%\t|\tValid Avg Loss: 0.73603\n",
      "--------------------------- Epoch 93 ---------------------------\n"
     ]
    },
    {
     "name": "stderr",
     "output_type": "stream",
     "text": [
      "100%|██████████| 39/39 [01:44<00:00,  2.67s/it]\n",
      "100%|██████████| 10/10 [00:20<00:00,  2.10s/it]\n"
     ]
    },
    {
     "name": "stdout",
     "output_type": "stream",
     "text": [
      "Train Accuracy: 96.77939%\t|\tTrain Avg Loss: 0.16699\n",
      "Valid Accuracy: 78.84615%\t|\tValid Avg Loss: 0.82065\n",
      "--------------------------- Epoch 94 ---------------------------\n"
     ]
    },
    {
     "name": "stderr",
     "output_type": "stream",
     "text": [
      "100%|██████████| 39/39 [01:44<00:00,  2.67s/it]\n",
      "100%|██████████| 10/10 [00:20<00:00,  2.09s/it]\n"
     ]
    },
    {
     "name": "stdout",
     "output_type": "stream",
     "text": [
      "Train Accuracy: 96.94042%\t|\tTrain Avg Loss: 0.14774\n",
      "Valid Accuracy: 78.20513%\t|\tValid Avg Loss: 0.87144\n",
      "--------------------------- Epoch 95 ---------------------------\n"
     ]
    },
    {
     "name": "stderr",
     "output_type": "stream",
     "text": [
      "100%|██████████| 39/39 [01:43<00:00,  2.66s/it]\n",
      "100%|██████████| 10/10 [00:20<00:00,  2.08s/it]\n"
     ]
    },
    {
     "name": "stdout",
     "output_type": "stream",
     "text": [
      "Train Accuracy: 97.58454%\t|\tTrain Avg Loss: 0.11938\n",
      "Valid Accuracy: 80.76923%\t|\tValid Avg Loss: 0.97692\n",
      "--------------------------- Epoch 96 ---------------------------\n"
     ]
    },
    {
     "name": "stderr",
     "output_type": "stream",
     "text": [
      "100%|██████████| 39/39 [01:44<00:00,  2.67s/it]\n",
      "100%|██████████| 10/10 [00:20<00:00,  2.10s/it]\n"
     ]
    },
    {
     "name": "stdout",
     "output_type": "stream",
     "text": [
      "Train Accuracy: 95.97424%\t|\tTrain Avg Loss: 0.20653\n",
      "Valid Accuracy: 78.84615%\t|\tValid Avg Loss: 0.93031\n",
      "--------------------------- Epoch 97 ---------------------------\n"
     ]
    },
    {
     "name": "stderr",
     "output_type": "stream",
     "text": [
      "100%|██████████| 39/39 [01:44<00:00,  2.67s/it]\n",
      "100%|██████████| 10/10 [00:21<00:00,  2.10s/it]\n"
     ]
    },
    {
     "name": "stdout",
     "output_type": "stream",
     "text": [
      "Train Accuracy: 92.59259%\t|\tTrain Avg Loss: 0.33267\n",
      "Valid Accuracy: 82.69231%\t|\tValid Avg Loss: 0.73164\n",
      "--------------------------- Epoch 98 ---------------------------\n"
     ]
    },
    {
     "name": "stderr",
     "output_type": "stream",
     "text": [
      "100%|██████████| 39/39 [01:43<00:00,  2.66s/it]\n",
      "100%|██████████| 10/10 [00:21<00:00,  2.16s/it]\n"
     ]
    },
    {
     "name": "stdout",
     "output_type": "stream",
     "text": [
      "Train Accuracy: 96.13527%\t|\tTrain Avg Loss: 0.19546\n",
      "Valid Accuracy: 80.12821%\t|\tValid Avg Loss: 0.80800\n",
      "--------------------------- Epoch 99 ---------------------------\n"
     ]
    },
    {
     "name": "stderr",
     "output_type": "stream",
     "text": [
      "100%|██████████| 39/39 [01:46<00:00,  2.74s/it]\n",
      "100%|██████████| 10/10 [00:22<00:00,  2.24s/it]\n"
     ]
    },
    {
     "name": "stdout",
     "output_type": "stream",
     "text": [
      "Train Accuracy: 96.94042%\t|\tTrain Avg Loss: 0.14384\n",
      "Valid Accuracy: 82.69231%\t|\tValid Avg Loss: 0.76771\n",
      "--------------------------- Epoch 100 ---------------------------\n"
     ]
    },
    {
     "name": "stderr",
     "output_type": "stream",
     "text": [
      "100%|██████████| 39/39 [01:49<00:00,  2.81s/it]\n",
      "100%|██████████| 10/10 [00:21<00:00,  2.12s/it]\n"
     ]
    },
    {
     "name": "stdout",
     "output_type": "stream",
     "text": [
      "Train Accuracy: 98.06763%\t|\tTrain Avg Loss: 0.13637\n",
      "Valid Accuracy: 82.05128%\t|\tValid Avg Loss: 0.85213\n"
     ]
    }
   ],
   "source": [
    "wandb.init(\n",
    "    # Set the project where this run will be logged\n",
    "    project=\"GoogLeNet\",\n",
    "    # We pass a run name (otherwise it’ll be randomly assigned, like sunshine-lollypop-10)\n",
    "    name=\"googlenet\"\n",
    ")\n",
    "\n",
    "transform = transforms.Compose([\n",
    "    transforms.Resize((224, 224)),\n",
    "    transforms.ToTensor(),\n",
    "    transforms.Normalize(mean=[0.485, 0.456, 0.406], std=[0.229, 0.224, 0.225]),\n",
    "])\n",
    "\n",
    "traindata = CustomDataset('./data/', train=True, transform=transform)\n",
    "train_len = int(len(traindata)*0.8)\n",
    "valid_len = len(traindata) - train_len\n",
    "traindata, validdata = random_split(traindata, [train_len, valid_len])\n",
    "\n",
    "device='cpu'\n",
    "\n",
    "train_loader = DataLoader(traindata, shuffle=True, batch_size=16)\n",
    "valid_loader = DataLoader(validdata, shuffle=True, batch_size=16)\n",
    "model = GoogLeNet()#.to(device)\n",
    "loss_fn = nn.CrossEntropyLoss()\n",
    "optimizer = torch.optim.Adam(model.parameters(), lr=0.0002, weight_decay=1e-6)\n",
    "\n",
    "best_validation_acc = 0.0\n",
    "for t in range(100):\n",
    "    print(f\"--------------------------- Epoch {t+1} ---------------------------\")\n",
    "    train_acc, train_loss = train_loop(model=model,\n",
    "                                       data_loader=train_loader,\n",
    "                                       loss_func=loss_fn,\n",
    "                                       optimizer=optimizer,\n",
    "                                       transform=transforms.RandomPerspective(0.2),\n",
    "                                       google=True,\n",
    "                                       device=device)\n",
    "    valid_acc, valid_loss = evaluate_loop(model=model,\n",
    "                                          data_loader=valid_loader, \n",
    "                                          loss_func=loss_fn,\n",
    "                                          device=device)\n",
    "    print(f\"Train Accuracy: {100*train_acc:2.5f}%\\t|\\tTrain Avg Loss: {train_loss:2.5f}\")\n",
    "    print(f\"Valid Accuracy: {100*valid_acc:2.5f}%\\t|\\tValid Avg Loss: {valid_loss:2.5f}\")\n",
    "    sample_batch, _ = next(iter(train_loader)) \n",
    "    sample_img = to_pil_image(sample_batch[0, :3, :, :])\n",
    "    sample_img = wandb.Image( # single image\n",
    "        sample_img,\n",
    "        caption=\"sample image\"\n",
    "    )\n",
    "\n",
    "    wandb.log({\n",
    "        \"train_acc\": train_acc,\n",
    "        \"valid_acc\": valid_acc,\n",
    "        \"train_loss\": train_loss,\n",
    "        \"valid_loss\": valid_loss,\n",
    "        \"example\": sample_img,\n",
    "    })\n",
    "\n",
    "    if valid_acc > best_validation_acc:\n",
    "        best_validation_acc = valid_acc\n",
    "        torch.save(model.state_dict(), './googlenet.pth')"
   ]
  },
  {
   "cell_type": "code",
   "execution_count": 9,
   "metadata": {},
   "outputs": [
    {
     "name": "stderr",
     "output_type": "stream",
     "text": [
      "100%|██████████| 10/10 [00:20<00:00,  2.07s/it]\n"
     ]
    },
    {
     "name": "stdout",
     "output_type": "stream",
     "text": [
      "FINAL : Valid Accuracy: 82.05128%\t|\tValid Avg Loss: 0.85261\n"
     ]
    },
    {
     "name": "stderr",
     "output_type": "stream",
     "text": [
      "100%|██████████| 10/10 [00:20<00:00,  2.07s/it]"
     ]
    },
    {
     "name": "stdout",
     "output_type": "stream",
     "text": [
      "BEST : Valid Accuracy: 82.69231%\t|\tValid Avg Loss: 0.84879\n"
     ]
    },
    {
     "name": "stderr",
     "output_type": "stream",
     "text": [
      "\n"
     ]
    }
   ],
   "source": [
    "transform = transforms.Compose([\n",
    "    transforms.Resize((224, 224)),\n",
    "    transforms.ToTensor(),\n",
    "    transforms.Normalize(mean=[0.485, 0.456, 0.406], std=[0.229, 0.224, 0.225]),\n",
    "])\n",
    "model_origin = model\n",
    "#model_.load_state_dict(torch.load('./googlenet.pth'))\n",
    "\n",
    "valid_acc, valid_loss = evaluate_loop(model=model_origin,\n",
    "                                      data_loader=valid_loader, \n",
    "                                      loss_func=loss_fn,\n",
    "                                      device=device)\n",
    "print(f\"FINAL : Valid Accuracy: {100*valid_acc:2.5f}%\\t|\\tValid Avg Loss: {valid_loss:2.5f}\")\n",
    "\n",
    "model_best = model\n",
    "model_best.load_state_dict(torch.load('./googlenet.pth'))\n",
    "valid_acc, valid_loss = evaluate_loop(model=model_best,\n",
    "                                      data_loader=valid_loader, \n",
    "                                      loss_func=loss_fn,\n",
    "                                      device=device)\n",
    "print(f\"BEST : Valid Accuracy: {100*valid_acc:2.5f}%\\t|\\tValid Avg Loss: {valid_loss:2.5f}\")\n",
    "\n"
   ]
  },
  {
   "cell_type": "code",
   "execution_count": null,
   "metadata": {},
   "outputs": [],
   "source": [
    "testdata = CustomDataset('./data/', train=False, transform=transform)\n",
    "test_loader = DataLoader(testdata)\n",
    "\n",
    "test_predict(model=model_best,\n",
    "             test_loader=test_loader,\n",
    "             path='./',\n",
    "             file_name='googlenet_.csv',\n",
    "             device='cpu')"
   ]
  },
  {
   "cell_type": "code",
   "execution_count": null,
   "metadata": {},
   "outputs": [],
   "source": [
    "wandb.init(\n",
    "    # Set the project where this run will be logged\n",
    "    project=\"GoogLeNet\",\n",
    "    # We pass a run name (otherwise it’ll be randomly assigned, like sunshine-lollypop-10)\n",
    "    name=\"googlenet\"\n",
    ")\n",
    "transform = transforms.Compose([\n",
    "    transforms.Resize((224, 224)),\n",
    "    transforms.RandomPosterize(3, 1),\n",
    "    transforms.ToTensor(),\n",
    "    transforms.Normalize(mean=[0.485, 0.456, 0.406], std=[0.229, 0.224, 0.225]),\n",
    "])\n",
    "\n",
    "traindata = CustomDataset('./data/', train=True, transform=transform)\n",
    "train_len = int(len(traindata)*0.8)\n",
    "valid_len = len(traindata) - train_len\n",
    "traindata, validdata = random_split(traindata, [train_len, valid_len])\n",
    "#traindata += CustomDataset('./data/', train=True, transform=transform2)\n",
    "\n",
    "device='cpu'\n",
    "\n",
    "train_loader = DataLoader(traindata, shuffle=True, batch_size=16)\n",
    "valid_loader = DataLoader(validdata, shuffle=True, batch_size=16)\n",
    "model = GoogLeNet()#.to(device)\n",
    "loss_fn = nn.CrossEntropyLoss()\n",
    "optimizer = torch.optim.NAdam(model.parameters(), lr=0.0005, weight_decay=1e-6)\n",
    "\n",
    "best_validation_acc = 0.0\n",
    "for t in range(100):\n",
    "    print(f\"--------------------------- Epoch {t+1} ---------------------------\")\n",
    "    train_acc, train_loss = train_loop(model=model,\n",
    "                                       data_loader=train_loader,\n",
    "                                       loss_func=loss_fn,\n",
    "                                       optimizer=optimizer,\n",
    "                                       google=True,\n",
    "                                       transform=transforms.RandomPerspective(0.1, 0.01),\n",
    "                                       device=device)\n",
    "    valid_acc, valid_loss = evaluate_loop(model=model,\n",
    "                                          data_loader=valid_loader, \n",
    "                                          google=True,\n",
    "                                          loss_func=loss_fn,\n",
    "                                          device=device)\n",
    "    print(f\"Train Accuracy: {100*train_acc:2.5f}%\\t|\\tTrain Avg Loss: {train_loss:2.5f}\")\n",
    "    print(f\"Valid Accuracy: {100*valid_acc:2.5f}%\\t|\\tValid Avg Loss: {valid_loss:2.5f}\")\n",
    "    sample_batch, _ = next(iter(train_loader)) \n",
    "    #sample_img = to_pil_image(sample_batch[0])\n",
    "    sample_img = to_pil_image(sample_batch[0, :3, :, :])\n",
    "    sample_img = wandb.Image( # single image\n",
    "        sample_img,\n",
    "        caption=\"sample image\"\n",
    "    )\n",
    "\n",
    "    wandb.log({\n",
    "        \"train_acc\": train_acc,\n",
    "        \"valid_acc\": valid_acc,\n",
    "        \"train_loss\": train_loss,\n",
    "        \"valid_loss\": valid_loss,\n",
    "        \"example\": sample_img,\n",
    "    })\n",
    "\n",
    "    if valid_acc > best_validation_acc:\n",
    "        torch.save(model.state_dict(), './googlenet.pth')"
   ]
  },
  {
   "cell_type": "code",
   "execution_count": 6,
   "metadata": {},
   "outputs": [
    {
     "name": "stderr",
     "output_type": "stream",
     "text": [
      "100%|██████████| 330/330 [00:34<00:00,  9.50it/s]"
     ]
    },
    {
     "name": "stdout",
     "output_type": "stream",
     "text": [
      "Model Prediction was saved at ./vit.csv\n"
     ]
    },
    {
     "name": "stderr",
     "output_type": "stream",
     "text": [
      "\n"
     ]
    }
   ],
   "source": [
    "transform = transforms.Compose([\n",
    "    transforms.Resize((240, 240)),\n",
    "    #transforms.CenterCrop(224),\n",
    "    #transforms.RandomPosterize(4, 1),\n",
    "    transforms.ToTensor(),\n",
    "    transforms.Normalize(mean=[0.485, 0.456, 0.406], std=[0.229, 0.224, 0.225]),\n",
    "    transforms.FiveCrop(224),\n",
    "    transforms.Lambda(lambda x: torch.cat(x)),\n",
    "])\n",
    "\n",
    "testset = CustomDataset('./data/', train=False, transform=transform)\n",
    "test_loader = DataLoader(testset)\n",
    "\n",
    "model_ = VisionTransformer()\n",
    "model_.load_state_dict(torch.load('./vit.pth'))\n",
    "test_predict(model=model_,\n",
    "             test_loader=test_loader,\n",
    "             path='./',\n",
    "             file_name='vit.csv',\n",
    "             device='cpu')"
   ]
  }
 ],
 "metadata": {
  "kernelspec": {
   "display_name": "ds",
   "language": "python",
   "name": "python3"
  },
  "language_info": {
   "codemirror_mode": {
    "name": "ipython",
    "version": 3
   },
   "file_extension": ".py",
   "mimetype": "text/x-python",
   "name": "python",
   "nbconvert_exporter": "python",
   "pygments_lexer": "ipython3",
   "version": "3.8.13"
  }
 },
 "nbformat": 4,
 "nbformat_minor": 2
}
