{
 "cells": [
  {
   "cell_type": "markdown",
   "metadata": {},
   "source": [
    "# SOI1010 Machine Learning II - Assignment #2"
   ]
  },
  {
   "cell_type": "markdown",
   "metadata": {},
   "source": [
    "The submission should include a code (both link to the colab and .py format) and a report that has answers to the questions and results. Use PyTorch (or TensorFlow/JAX). Also, minimize the use of numpy. There will be mark deductions if numpy is used when PyTorch is preferable or should be used. Marks will be deducted if the submission does not include the requested files. DO NOT use other libraries, such as scikit-learn/sklearn, to use a model (kNN in this case) you are supposed to implement. Using sklearn or any other third library or already built-in functions that you are asked to implement will result in 0 mark. So, please don’t ask “Can I use this library/numpy/etc.?” Also, if an assignment asks you to implement some model, that means you shouldn’t use the built-in implementation from any library for that model in the first place."
   ]
  },
  {
   "cell_type": "markdown",
   "metadata": {},
   "source": [
    "### Problem #2 [Bonus/Optional]: Multiclass Classification via soft-margin SVM on CIFAR10"
   ]
  },
  {
   "cell_type": "markdown",
   "metadata": {},
   "source": [
    "##### a) Perform multiclass classification using soft-margin SVM on the whole dataset."
   ]
  },
  {
   "cell_type": "code",
   "execution_count": 113,
   "metadata": {},
   "outputs": [
    {
     "name": "stdout",
     "output_type": "stream",
     "text": [
      "Now using mps\n"
     ]
    }
   ],
   "source": [
    "import torch\n",
    "from torch import nn\n",
    "from torch.utils.data import random_split, DataLoader\n",
    "from torch.autograd import Variable\n",
    "from torchvision import transforms, datasets\n",
    "import matplotlib.pyplot as plt\n",
    "from tqdm import tqdm\n",
    "import numpy as np\n",
    "\n",
    "device = (\n",
    "    'cuda'\n",
    "    if torch.cuda.is_available()\n",
    "    else 'mps'\n",
    "    if torch.backends.mps.is_available()\n",
    "    else 'cpu'\n",
    ")\n",
    "print(f\"Now using {device}\")"
   ]
  },
  {
   "cell_type": "code",
   "execution_count": 114,
   "metadata": {},
   "outputs": [
    {
     "name": "stdout",
     "output_type": "stream",
     "text": [
      "Train Data : 45000\n",
      "Valid Data : 5000\n",
      "\n",
      "Shape of X [N, C, H, W]: torch.Size([64, 3, 32, 32])\n",
      "Shape of y: torch.Size([64]), torch.int64\n"
     ]
    }
   ],
   "source": [
    "transform = transforms.Compose(\n",
    "    [transforms.ToTensor(),\n",
    "     transforms.Normalize((0.5, 0.5, 0.5), (0.5, 0.5, 0.5))])\n",
    "\n",
    "trainset = datasets.CIFAR10(root='./data', train=True,\n",
    "                            transform=transform)\n",
    "testset = datasets.CIFAR10(root='./data', train=False,\n",
    "                            transform=transform)\n",
    "\n",
    "traindata, validdata = random_split(trainset, [int(len(trainset)*.9), int(len(trainset)*.1)])\n",
    "train_loader = DataLoader(traindata, batch_size=64, shuffle=True)\n",
    "valid_loader = DataLoader(validdata, batch_size=64, shuffle=True)\n",
    "print(f'''Train Data : {len(traindata)}\n",
    "Valid Data : {len(validdata)}\n",
    "''')\n",
    "\n",
    "for X, y in train_loader:\n",
    "    print(f\"Shape of X [N, C, H, W]: {X.shape}\")\n",
    "    print(f\"Shape of y: {y.shape}, {y.dtype}\")\n",
    "    break"
   ]
  },
  {
   "cell_type": "code",
   "execution_count": 116,
   "metadata": {},
   "outputs": [
    {
     "data": {
      "text/plain": [
       "{0: 'airplane',\n",
       " 1: 'automobile',\n",
       " 2: 'bird',\n",
       " 3: 'cat',\n",
       " 4: 'deer',\n",
       " 5: 'dog',\n",
       " 6: 'frog',\n",
       " 7: 'horse',\n",
       " 8: 'ship',\n",
       " 9: 'truck'}"
      ]
     },
     "execution_count": 116,
     "metadata": {},
     "output_type": "execute_result"
    }
   ],
   "source": [
    "labels_map = {j:i for (i,j) in trainset.class_to_idx.items()}\n",
    "labels_map"
   ]
  },
  {
   "cell_type": "code",
   "execution_count": 120,
   "metadata": {},
   "outputs": [],
   "source": [
    "#### Hyperparameters ####\n",
    "bs = 64\n",
    "epochs = 10\n",
    "learning_rate = 0.001\n",
    "gamma = 1"
   ]
  },
  {
   "cell_type": "code",
   "execution_count": 121,
   "metadata": {},
   "outputs": [
    {
     "name": "stdout",
     "output_type": "stream",
     "text": [
      "SVM(\n",
      "  (func): Linear(in_features=3072, out_features=10, bias=True)\n",
      ")\n"
     ]
    }
   ],
   "source": [
    "class SVM(nn.Module):\n",
    "    def __init__(self, gamma=1.0):\n",
    "        super(SVM, self).__init__()\n",
    "        self.func = nn.Linear(3072, 10)\n",
    "        self.gamma = gamma\n",
    "\n",
    "    def forward(self, x):\n",
    "        x = x.view(x.size(0), -1)\n",
    "        fwd = self.func(x)\n",
    "        return fwd\n",
    "\n",
    "model = SVM(gamma).to(device)\n",
    "print(model)"
   ]
  },
  {
   "cell_type": "code",
   "execution_count": 122,
   "metadata": {},
   "outputs": [],
   "source": [
    "# Train\n",
    "def train(dataloader, model, loss_fn, optimizer, epochs):\n",
    "    hist = []\n",
    "    for epoch in range(epochs):\n",
    "        print(f\"-------Epoch {epoch+1:2}-------\")\n",
    "        loss_ = 0\n",
    "        for x, y in tqdm(dataloader, total=len(dataloader)):\n",
    "            x, y = Variable(x).to(device), Variable(y).to(device)\n",
    "            \n",
    "            optimizer.zero_grad()\n",
    "\n",
    "            yhat = model(x).softmax(dim=1) \n",
    "            loss = loss_fn(yhat, y) + torch.norm(model.func.weight) / (2 * model.gamma)\n",
    "            \n",
    "            loss.backward()\n",
    "            optimizer.step()\n",
    "\n",
    "            loss_ += loss.item()\n",
    "            \n",
    "        loss_ /= len(dataloader)\n",
    "            \n",
    "        print(f'Average Loss: {loss_}\\n')\n",
    "        hist.append(loss_)\n",
    "    return hist"
   ]
  },
  {
   "cell_type": "code",
   "execution_count": 123,
   "metadata": {},
   "outputs": [],
   "source": [
    "# Loss function\n",
    "def CrossEntropy(yhat, y):\n",
    "    oh_lbl = torch.nn.functional.one_hot(y, num_classes=yhat.size(1))\n",
    "    loss = -torch.sum(oh_lbl * torch.log(yhat), dim=1).mean()\n",
    "    return loss\n",
    "\n",
    "# Optimizer\n",
    "optimizer = torch.optim.Adam(model.parameters(), lr=learning_rate)"
   ]
  },
  {
   "cell_type": "code",
   "execution_count": 124,
   "metadata": {},
   "outputs": [
    {
     "name": "stdout",
     "output_type": "stream",
     "text": [
      "-------Epoch  1-------\n"
     ]
    },
    {
     "name": "stderr",
     "output_type": "stream",
     "text": [
      "100%|██████████| 704/704 [00:06<00:00, 110.08it/s]\n"
     ]
    },
    {
     "name": "stdout",
     "output_type": "stream",
     "text": [
      "Average Loss: 2.2877924885939467\n",
      "\n",
      "-------Epoch  2-------\n"
     ]
    },
    {
     "name": "stderr",
     "output_type": "stream",
     "text": [
      "100%|██████████| 704/704 [00:05<00:00, 118.26it/s]\n"
     ]
    },
    {
     "name": "stdout",
     "output_type": "stream",
     "text": [
      "Average Loss: 2.2391686530953105\n",
      "\n",
      "-------Epoch  3-------\n"
     ]
    },
    {
     "name": "stderr",
     "output_type": "stream",
     "text": [
      "100%|██████████| 704/704 [00:06<00:00, 113.95it/s]\n"
     ]
    },
    {
     "name": "stdout",
     "output_type": "stream",
     "text": [
      "Average Loss: 2.23707954314622\n",
      "\n",
      "-------Epoch  4-------\n"
     ]
    },
    {
     "name": "stderr",
     "output_type": "stream",
     "text": [
      "100%|██████████| 704/704 [00:05<00:00, 120.37it/s]\n"
     ]
    },
    {
     "name": "stdout",
     "output_type": "stream",
     "text": [
      "Average Loss: 2.2364713217724455\n",
      "\n",
      "-------Epoch  5-------\n"
     ]
    },
    {
     "name": "stderr",
     "output_type": "stream",
     "text": [
      "100%|██████████| 704/704 [00:05<00:00, 117.95it/s]\n"
     ]
    },
    {
     "name": "stdout",
     "output_type": "stream",
     "text": [
      "Average Loss: 2.242997679012743\n",
      "\n",
      "-------Epoch  6-------\n"
     ]
    },
    {
     "name": "stderr",
     "output_type": "stream",
     "text": [
      "100%|██████████| 704/704 [00:06<00:00, 114.78it/s]\n"
     ]
    },
    {
     "name": "stdout",
     "output_type": "stream",
     "text": [
      "Average Loss: 2.2345795475623826\n",
      "\n",
      "-------Epoch  7-------\n"
     ]
    },
    {
     "name": "stderr",
     "output_type": "stream",
     "text": [
      "100%|██████████| 704/704 [00:06<00:00, 109.70it/s]\n"
     ]
    },
    {
     "name": "stdout",
     "output_type": "stream",
     "text": [
      "Average Loss: 2.2374933561818167\n",
      "\n",
      "-------Epoch  8-------\n"
     ]
    },
    {
     "name": "stderr",
     "output_type": "stream",
     "text": [
      "100%|██████████| 704/704 [00:06<00:00, 104.45it/s]\n"
     ]
    },
    {
     "name": "stdout",
     "output_type": "stream",
     "text": [
      "Average Loss: 2.2396002555774017\n",
      "\n",
      "-------Epoch  9-------\n"
     ]
    },
    {
     "name": "stderr",
     "output_type": "stream",
     "text": [
      "100%|██████████| 704/704 [00:07<00:00, 98.94it/s] \n"
     ]
    },
    {
     "name": "stdout",
     "output_type": "stream",
     "text": [
      "Average Loss: 2.2441141231154855\n",
      "\n",
      "-------Epoch 10-------\n"
     ]
    },
    {
     "name": "stderr",
     "output_type": "stream",
     "text": [
      "100%|██████████| 704/704 [00:06<00:00, 104.33it/s]\n"
     ]
    },
    {
     "name": "stdout",
     "output_type": "stream",
     "text": [
      "Average Loss: 2.2423190808093008\n",
      "\n"
     ]
    },
    {
     "data": {
      "image/png": "[encoded data removed]",
      "text/plain": [
       "<Figure size 640x480 with 1 Axes>"
      ]
     },
     "metadata": {},
     "output_type": "display_data"
    }
   ],
   "source": [
    "# Train Model\n",
    "model.train()\n",
    "hist = train(train_loader, model, CrossEntropy, optimizer, epochs)\n",
    "plt.plot(range(1, epochs+1), hist, 'b', label='loss')\n",
    "plt.xticks(range(1, epochs+1))\n",
    "plt.xlabel(\"Epoch\")\n",
    "plt.ylabel(\"Loss\")\n",
    "plt.legend()\n",
    "plt.savefig('plot/fig9_multi_loss.png', dpi=200)"
   ]
  },
  {
   "cell_type": "code",
   "execution_count": 125,
   "metadata": {},
   "outputs": [
    {
     "name": "stdout",
     "output_type": "stream",
     "text": [
      "Accuracy for class: airplane   is 33.27% (164/493)\n",
      "Accuracy for class: automobile is 40.43% (205/507)\n",
      "Accuracy for class: bird       is 14.75% ( 73/495)\n",
      "Accuracy for class: cat        is 8.02% ( 39/486)\n",
      "Accuracy for class: deer       is 38.62% (202/523)\n",
      "Accuracy for class: dog        is 34.48% (170/493)\n",
      "Accuracy for class: frog       is 12.40% ( 65/524)\n",
      "Accuracy for class: horse      is 23.88% (107/448)\n",
      "Accuracy for class: ship       is 69.92% (358/512)\n",
      "Accuracy for class: truck      is 18.69% ( 97/519)\n",
      "\n",
      "Total Accuracy : 29.60% (1480/5000)\n"
     ]
    }
   ],
   "source": [
    "classes = list(labels_map.values())\n",
    "correct_pred = {classname: 0 for classname in classes}\n",
    "total_pred = {classname: 0 for classname in classes}\n",
    "correct = 0\n",
    "\n",
    "with torch.no_grad():\n",
    "    for data in valid_loader:\n",
    "        images, labels = data\n",
    "        images, labels = images.to(device), labels.to(device)\n",
    "        outputs = model(images).softmax(dim=1)\n",
    "        _, predictions = torch.max(outputs, dim=1)\n",
    "        for label, prediction in zip(labels, predictions):\n",
    "            if label == prediction:\n",
    "                correct_pred[classes[label]] += 1\n",
    "                correct += 1\n",
    "            total_pred[classes[label]] += 1\n",
    "\n",
    "for classname, correct_count in correct_pred.items():\n",
    "    accuracy = 100 * float(correct_count) / total_pred[classname]\n",
    "    print(f'Accuracy for class: {classname:10s} is {accuracy:.2f}% ({correct_count:3}/{total_pred[classname]})')\n",
    "\n",
    "print()\n",
    "print(f\"Total Accuracy : {100 * correct / len(validdata):.2f}% ({correct}/{len(validdata)})\")"
   ]
  },
  {
   "cell_type": "code",
   "execution_count": 126,
   "metadata": {},
   "outputs": [],
   "source": [
    "def predict(data, model):\n",
    "    with torch.no_grad():\n",
    "        model.eval()\n",
    "        data = data.view(1, -1).to(device)\n",
    "        yhat = model(data)\n",
    "        val, ind = torch.max(yhat, dim=1)\n",
    "        return ind"
   ]
  },
  {
   "cell_type": "code",
   "execution_count": 128,
   "metadata": {},
   "outputs": [
    {
     "name": "stderr",
     "output_type": "stream",
     "text": [
      "Clipping input data to the valid range for imshow with RGB data ([0..1] for floats or [0..255] for integers).\n"
     ]
    },
    {
     "name": "stderr",
     "output_type": "stream",
     "text": [
      "Clipping input data to the valid range for imshow with RGB data ([0..1] for floats or [0..255] for integers).\n",
      "Clipping input data to the valid range for imshow with RGB data ([0..1] for floats or [0..255] for integers).\n",
      "Clipping input data to the valid range for imshow with RGB data ([0..1] for floats or [0..255] for integers).\n",
      "Clipping input data to the valid range for imshow with RGB data ([0..1] for floats or [0..255] for integers).\n"
     ]
    },
    {
     "data": {
      "image/png": "[encoded data removed]",
      "text/plain": [
       "<Figure size 640x480 with 5 Axes>"
      ]
     },
     "metadata": {},
     "output_type": "display_data"
    }
   ],
   "source": [
    "# Predict several data\n",
    "pick_data = np.random.choice(len(valid_loader), 5, replace=False)\n",
    "for i in range(5):\n",
    "    plt.subplot(1,5,i+1)\n",
    "    \n",
    "    if i == 0:\n",
    "        plt.text(-5, 40, \"Label : \", horizontalalignment='right')\n",
    "        plt.text(-5, 50, \"Predicted : \", horizontalalignment='right')\n",
    "        plt.text(-5, 20, f\"Accuracy : {100 * correct / len(validdata):.2f}%\", horizontalalignment='right')\n",
    "\n",
    "    data = validdata[pick_data[i]]\n",
    "    img = data[0]\n",
    "    label = data[1]\n",
    "    pred = predict(img, model).item()\n",
    "    \n",
    "    plt.imshow(img.permute(1,2,0))\n",
    "    plt.text(8,40,labels_map[label])\n",
    "    plt.text(8,50,labels_map[pred])\n",
    "    plt.axis('off')\n",
    "\n",
    "plt.savefig('plot/fig10_multi_predict.png', dpi=200, bbox_inches='tight')"
   ]
  },
  {
   "cell_type": "markdown",
   "metadata": {},
   "source": [
    "##### b) Perform hyperparameter search."
   ]
  },
  {
   "cell_type": "code",
   "execution_count": 80,
   "metadata": {},
   "outputs": [],
   "source": [
    "classes = list(labels_map.values())\n",
    "\n",
    "def evaluation(model, val_dataloader):\n",
    "    correct = 0\n",
    "    total_loss = 0\n",
    "    with torch.no_grad():\n",
    "        for data in val_dataloader:\n",
    "            images, labels = data\n",
    "            images, labels = images.to(device), labels.to(device)\n",
    "\n",
    "            outputs = model(images).softmax(dim=1)\n",
    "            loss = CrossEntropy(outputs, labels) + torch.norm(model.func.weight) / (2 * model.gamma)\n",
    "\n",
    "            total_loss += loss.item()\n",
    "            _, predictions = torch.max(outputs, dim=1)\n",
    "            for label, prediction in zip(labels, predictions):\n",
    "                if label == prediction:\n",
    "                    correct += 1\n",
    "\n",
    "    final_acc = correct / len(val_dataloader.dataset)\n",
    "    final_loss = total_loss / len(val_dataloader)\n",
    "    return final_acc, final_loss"
   ]
  },
  {
   "cell_type": "code",
   "execution_count": 83,
   "metadata": {},
   "outputs": [],
   "source": [
    "# Grid Search for optimal hyperparameters\n",
    "def gridSearch(lr_, gamma_, epoch_):\n",
    "    lst = []\n",
    "    for gamma__ in gamma_:\n",
    "        for lr__ in lr_:\n",
    "            for epoch__ in epoch_:\n",
    "                model = SVM(gamma__).to(device)\n",
    "                optimizer = torch.optim.Adam(model.parameters(), lr=lr__)\n",
    "                \n",
    "                model.train()\n",
    "                train(train_loader, model, CrossEntropy, optimizer, epoch__)\n",
    "                acc, los = evaluation(model, valid_loader)\n",
    "                lst.append([lr__, gamma__, epoch__, acc, los])\n",
    "    return lst\n",
    "                "
   ]
  },
  {
   "cell_type": "code",
   "execution_count": null,
   "metadata": {},
   "outputs": [],
   "source": [
    "lr_list = [0.0001, 0.001, 0.01, 0.1]\n",
    "gamma_list = [0.1, 1.0, 10, 20]\n",
    "epoch_list = [5, 10, 20, 50, 100]\n",
    "\n",
    "grid = gridSearch(lr_list, gamma_list, epoch_list)\n",
    "\n",
    "max_accuracy = max(grid, key=lambda x: x[3])\n",
    "min_loss = min(grid, key=lambda x: x[4])"
   ]
  },
  {
   "cell_type": "code",
   "execution_count": 86,
   "metadata": {},
   "outputs": [
    {
     "data": {
      "text/plain": [
       "[0.0001, 20, 100, 0.41, 1.7979849712758125]"
      ]
     },
     "execution_count": 86,
     "metadata": {},
     "output_type": "execute_result"
    }
   ],
   "source": [
    "max_accuracy"
   ]
  },
  {
   "cell_type": "code",
   "execution_count": 87,
   "metadata": {},
   "outputs": [
    {
     "data": {
      "text/plain": [
       "[0.0001, 20, 100, 0.41, 1.7979849712758125]"
      ]
     },
     "execution_count": 87,
     "metadata": {},
     "output_type": "execute_result"
    }
   ],
   "source": [
    "min_loss"
   ]
  },
  {
   "cell_type": "code",
   "execution_count": 99,
   "metadata": {},
   "outputs": [
    {
     "data": {
      "text/plain": [
       "array([[  0.0001  ,  10.      ,  10.      ,   0.4016  ,   1.837483],\n",
       "       [  0.0001  ,  10.      ,  20.      ,   0.4036  ,   1.833817],\n",
       "       [  0.0001  ,  10.      ,  50.      ,   0.409   ,   1.834993],\n",
       "       [  0.0001  ,  20.      ,  10.      ,   0.4026  ,   1.801319],\n",
       "       [  0.0001  ,  20.      ,  20.      ,   0.4044  ,   1.800351],\n",
       "       [  0.0001  ,  20.      ,  50.      ,   0.4034  ,   1.798294],\n",
       "       [  0.0001  ,  20.      , 100.      ,   0.41    ,   1.797985]])"
      ]
     },
     "execution_count": 99,
     "metadata": {},
     "output_type": "execute_result"
    }
   ],
   "source": [
    "grid_np = np.array(grid, dtype=np.float64)\n",
    "np.set_printoptions(precision=6, suppress=True)\n",
    "grid_np[np.where(grid_np[:,3]>0.4)]\n"
   ]
  },
  {
   "cell_type": "markdown",
   "metadata": {},
   "source": [
    "##### c) What is the final __test__  accuracy?  "
   ]
  },
  {
   "cell_type": "code",
   "execution_count": 129,
   "metadata": {},
   "outputs": [
    {
     "name": "stdout",
     "output_type": "stream",
     "text": [
      "-------Epoch  1-------\n"
     ]
    },
    {
     "name": "stderr",
     "output_type": "stream",
     "text": [
      "100%|██████████| 782/782 [00:06<00:00, 112.74it/s]\n"
     ]
    },
    {
     "name": "stdout",
     "output_type": "stream",
     "text": [
      "Average Loss: 1.9197644556269926\n",
      "\n",
      "-------Epoch  2-------\n"
     ]
    },
    {
     "name": "stderr",
     "output_type": "stream",
     "text": [
      "100%|██████████| 782/782 [00:06<00:00, 121.46it/s]\n"
     ]
    },
    {
     "name": "stdout",
     "output_type": "stream",
     "text": [
      "Average Loss: 1.8290027793106216\n",
      "\n",
      "-------Epoch  3-------\n"
     ]
    },
    {
     "name": "stderr",
     "output_type": "stream",
     "text": [
      "100%|██████████| 782/782 [00:06<00:00, 118.19it/s]\n"
     ]
    },
    {
     "name": "stdout",
     "output_type": "stream",
     "text": [
      "Average Loss: 1.804807251981457\n",
      "\n",
      "-------Epoch  4-------\n"
     ]
    },
    {
     "name": "stderr",
     "output_type": "stream",
     "text": [
      "100%|██████████| 782/782 [00:06<00:00, 119.70it/s]\n"
     ]
    },
    {
     "name": "stdout",
     "output_type": "stream",
     "text": [
      "Average Loss: 1.7887915131990866\n",
      "\n",
      "-------Epoch  5-------\n"
     ]
    },
    {
     "name": "stderr",
     "output_type": "stream",
     "text": [
      "100%|██████████| 782/782 [00:06<00:00, 113.42it/s]\n"
     ]
    },
    {
     "name": "stdout",
     "output_type": "stream",
     "text": [
      "Average Loss: 1.7789689038720582\n",
      "\n",
      "-------Epoch  6-------\n"
     ]
    },
    {
     "name": "stderr",
     "output_type": "stream",
     "text": [
      "100%|██████████| 782/782 [00:06<00:00, 111.75it/s]\n"
     ]
    },
    {
     "name": "stdout",
     "output_type": "stream",
     "text": [
      "Average Loss: 1.770496781829678\n",
      "\n",
      "-------Epoch  7-------\n"
     ]
    },
    {
     "name": "stderr",
     "output_type": "stream",
     "text": [
      "100%|██████████| 782/782 [00:07<00:00, 111.22it/s]\n"
     ]
    },
    {
     "name": "stdout",
     "output_type": "stream",
     "text": [
      "Average Loss: 1.7640415428544554\n",
      "\n",
      "-------Epoch  8-------\n"
     ]
    },
    {
     "name": "stderr",
     "output_type": "stream",
     "text": [
      "100%|██████████| 782/782 [00:06<00:00, 115.70it/s]\n"
     ]
    },
    {
     "name": "stdout",
     "output_type": "stream",
     "text": [
      "Average Loss: 1.7605449784442286\n",
      "\n",
      "-------Epoch  9-------\n"
     ]
    },
    {
     "name": "stderr",
     "output_type": "stream",
     "text": [
      "100%|██████████| 782/782 [00:07<00:00, 110.65it/s]\n"
     ]
    },
    {
     "name": "stdout",
     "output_type": "stream",
     "text": [
      "Average Loss: 1.756279554970734\n",
      "\n",
      "-------Epoch 10-------\n"
     ]
    },
    {
     "name": "stderr",
     "output_type": "stream",
     "text": [
      "100%|██████████| 782/782 [00:07<00:00, 105.36it/s]\n"
     ]
    },
    {
     "name": "stdout",
     "output_type": "stream",
     "text": [
      "Average Loss: 1.7526750416706895\n",
      "\n",
      "-------Epoch 11-------\n"
     ]
    },
    {
     "name": "stderr",
     "output_type": "stream",
     "text": [
      "100%|██████████| 782/782 [00:07<00:00, 110.43it/s]\n"
     ]
    },
    {
     "name": "stdout",
     "output_type": "stream",
     "text": [
      "Average Loss: 1.7500600474874686\n",
      "\n",
      "-------Epoch 12-------\n"
     ]
    },
    {
     "name": "stderr",
     "output_type": "stream",
     "text": [
      "100%|██████████| 782/782 [00:07<00:00, 105.72it/s]\n"
     ]
    },
    {
     "name": "stdout",
     "output_type": "stream",
     "text": [
      "Average Loss: 1.7483514088498966\n",
      "\n",
      "-------Epoch 13-------\n"
     ]
    },
    {
     "name": "stderr",
     "output_type": "stream",
     "text": [
      "100%|██████████| 782/782 [00:07<00:00, 109.82it/s]\n"
     ]
    },
    {
     "name": "stdout",
     "output_type": "stream",
     "text": [
      "Average Loss: 1.7456321437340563\n",
      "\n",
      "-------Epoch 14-------\n"
     ]
    },
    {
     "name": "stderr",
     "output_type": "stream",
     "text": [
      "100%|██████████| 782/782 [00:07<00:00, 110.24it/s]\n"
     ]
    },
    {
     "name": "stdout",
     "output_type": "stream",
     "text": [
      "Average Loss: 1.7443681699235727\n",
      "\n",
      "-------Epoch 15-------\n"
     ]
    },
    {
     "name": "stderr",
     "output_type": "stream",
     "text": [
      "100%|██████████| 782/782 [00:07<00:00, 100.37it/s]\n"
     ]
    },
    {
     "name": "stdout",
     "output_type": "stream",
     "text": [
      "Average Loss: 1.7420675179842489\n",
      "\n",
      "-------Epoch 16-------\n"
     ]
    },
    {
     "name": "stderr",
     "output_type": "stream",
     "text": [
      "100%|██████████| 782/782 [00:07<00:00, 105.42it/s]\n"
     ]
    },
    {
     "name": "stdout",
     "output_type": "stream",
     "text": [
      "Average Loss: 1.7408688191867545\n",
      "\n",
      "-------Epoch 17-------\n"
     ]
    },
    {
     "name": "stderr",
     "output_type": "stream",
     "text": [
      "100%|██████████| 782/782 [00:06<00:00, 112.04it/s]\n"
     ]
    },
    {
     "name": "stdout",
     "output_type": "stream",
     "text": [
      "Average Loss: 1.7403833715202253\n",
      "\n",
      "-------Epoch 18-------\n"
     ]
    },
    {
     "name": "stderr",
     "output_type": "stream",
     "text": [
      "100%|██████████| 782/782 [00:07<00:00, 103.38it/s]\n"
     ]
    },
    {
     "name": "stdout",
     "output_type": "stream",
     "text": [
      "Average Loss: 1.738535783632332\n",
      "\n",
      "-------Epoch 19-------\n"
     ]
    },
    {
     "name": "stderr",
     "output_type": "stream",
     "text": [
      "100%|██████████| 782/782 [00:07<00:00, 104.99it/s]\n"
     ]
    },
    {
     "name": "stdout",
     "output_type": "stream",
     "text": [
      "Average Loss: 1.7377035142210744\n",
      "\n",
      "-------Epoch 20-------\n"
     ]
    },
    {
     "name": "stderr",
     "output_type": "stream",
     "text": [
      "100%|██████████| 782/782 [00:07<00:00, 106.38it/s]\n"
     ]
    },
    {
     "name": "stdout",
     "output_type": "stream",
     "text": [
      "Average Loss: 1.736876084371601\n",
      "\n",
      "-------Epoch 21-------\n"
     ]
    },
    {
     "name": "stderr",
     "output_type": "stream",
     "text": [
      "100%|██████████| 782/782 [00:07<00:00, 110.29it/s]\n"
     ]
    },
    {
     "name": "stdout",
     "output_type": "stream",
     "text": [
      "Average Loss: 1.7360754035927755\n",
      "\n",
      "-------Epoch 22-------\n"
     ]
    },
    {
     "name": "stderr",
     "output_type": "stream",
     "text": [
      "100%|██████████| 782/782 [00:07<00:00, 109.81it/s]\n"
     ]
    },
    {
     "name": "stdout",
     "output_type": "stream",
     "text": [
      "Average Loss: 1.7356594741496894\n",
      "\n",
      "-------Epoch 23-------\n"
     ]
    },
    {
     "name": "stderr",
     "output_type": "stream",
     "text": [
      "100%|██████████| 782/782 [00:06<00:00, 115.54it/s]\n"
     ]
    },
    {
     "name": "stdout",
     "output_type": "stream",
     "text": [
      "Average Loss: 1.735795524876441\n",
      "\n",
      "-------Epoch 24-------\n"
     ]
    },
    {
     "name": "stderr",
     "output_type": "stream",
     "text": [
      "100%|██████████| 782/782 [00:06<00:00, 117.39it/s]\n"
     ]
    },
    {
     "name": "stdout",
     "output_type": "stream",
     "text": [
      "Average Loss: 1.7359968189083401\n",
      "\n",
      "-------Epoch 25-------\n"
     ]
    },
    {
     "name": "stderr",
     "output_type": "stream",
     "text": [
      "100%|██████████| 782/782 [00:06<00:00, 117.86it/s]\n"
     ]
    },
    {
     "name": "stdout",
     "output_type": "stream",
     "text": [
      "Average Loss: 1.7338415741005822\n",
      "\n",
      "-------Epoch 26-------\n"
     ]
    },
    {
     "name": "stderr",
     "output_type": "stream",
     "text": [
      "100%|██████████| 782/782 [00:06<00:00, 112.37it/s]\n"
     ]
    },
    {
     "name": "stdout",
     "output_type": "stream",
     "text": [
      "Average Loss: 1.7342258478369554\n",
      "\n",
      "-------Epoch 27-------\n"
     ]
    },
    {
     "name": "stderr",
     "output_type": "stream",
     "text": [
      "100%|██████████| 782/782 [00:06<00:00, 113.29it/s]\n"
     ]
    },
    {
     "name": "stdout",
     "output_type": "stream",
     "text": [
      "Average Loss: 1.733284440644257\n",
      "\n",
      "-------Epoch 28-------\n"
     ]
    },
    {
     "name": "stderr",
     "output_type": "stream",
     "text": [
      "100%|██████████| 782/782 [00:06<00:00, 113.23it/s]\n"
     ]
    },
    {
     "name": "stdout",
     "output_type": "stream",
     "text": [
      "Average Loss: 1.7337621642500542\n",
      "\n",
      "-------Epoch 29-------\n"
     ]
    },
    {
     "name": "stderr",
     "output_type": "stream",
     "text": [
      "100%|██████████| 782/782 [00:06<00:00, 117.09it/s]\n"
     ]
    },
    {
     "name": "stdout",
     "output_type": "stream",
     "text": [
      "Average Loss: 1.7326901446827843\n",
      "\n",
      "-------Epoch 30-------\n"
     ]
    },
    {
     "name": "stderr",
     "output_type": "stream",
     "text": [
      "100%|██████████| 782/782 [00:06<00:00, 121.14it/s]\n"
     ]
    },
    {
     "name": "stdout",
     "output_type": "stream",
     "text": [
      "Average Loss: 1.7318882230297683\n",
      "\n",
      "-------Epoch 31-------\n"
     ]
    },
    {
     "name": "stderr",
     "output_type": "stream",
     "text": [
      "100%|██████████| 782/782 [00:06<00:00, 119.98it/s]\n"
     ]
    },
    {
     "name": "stdout",
     "output_type": "stream",
     "text": [
      "Average Loss: 1.7316813775340614\n",
      "\n",
      "-------Epoch 32-------\n"
     ]
    },
    {
     "name": "stderr",
     "output_type": "stream",
     "text": [
      "100%|██████████| 782/782 [00:07<00:00, 106.35it/s]\n"
     ]
    },
    {
     "name": "stdout",
     "output_type": "stream",
     "text": [
      "Average Loss: 1.732432603378735\n",
      "\n",
      "-------Epoch 33-------\n"
     ]
    },
    {
     "name": "stderr",
     "output_type": "stream",
     "text": [
      "100%|██████████| 782/782 [00:06<00:00, 112.81it/s]\n"
     ]
    },
    {
     "name": "stdout",
     "output_type": "stream",
     "text": [
      "Average Loss: 1.7312754159388335\n",
      "\n",
      "-------Epoch 34-------\n"
     ]
    },
    {
     "name": "stderr",
     "output_type": "stream",
     "text": [
      "100%|██████████| 782/782 [00:06<00:00, 112.23it/s]\n"
     ]
    },
    {
     "name": "stdout",
     "output_type": "stream",
     "text": [
      "Average Loss: 1.7322345522358595\n",
      "\n",
      "-------Epoch 35-------\n"
     ]
    },
    {
     "name": "stderr",
     "output_type": "stream",
     "text": [
      "100%|██████████| 782/782 [00:07<00:00, 106.26it/s]\n"
     ]
    },
    {
     "name": "stdout",
     "output_type": "stream",
     "text": [
      "Average Loss: 1.7318036290995604\n",
      "\n",
      "-------Epoch 36-------\n"
     ]
    },
    {
     "name": "stderr",
     "output_type": "stream",
     "text": [
      "100%|██████████| 782/782 [00:07<00:00, 109.27it/s]\n"
     ]
    },
    {
     "name": "stdout",
     "output_type": "stream",
     "text": [
      "Average Loss: 1.7308464864330828\n",
      "\n",
      "-------Epoch 37-------\n"
     ]
    },
    {
     "name": "stderr",
     "output_type": "stream",
     "text": [
      "100%|██████████| 782/782 [00:06<00:00, 115.16it/s]\n"
     ]
    },
    {
     "name": "stdout",
     "output_type": "stream",
     "text": [
      "Average Loss: 1.7312876423606482\n",
      "\n",
      "-------Epoch 38-------\n"
     ]
    },
    {
     "name": "stderr",
     "output_type": "stream",
     "text": [
      "100%|██████████| 782/782 [00:06<00:00, 122.41it/s]\n"
     ]
    },
    {
     "name": "stdout",
     "output_type": "stream",
     "text": [
      "Average Loss: 1.7310914441447733\n",
      "\n",
      "-------Epoch 39-------\n"
     ]
    },
    {
     "name": "stderr",
     "output_type": "stream",
     "text": [
      "100%|██████████| 782/782 [00:07<00:00, 106.87it/s]\n"
     ]
    },
    {
     "name": "stdout",
     "output_type": "stream",
     "text": [
      "Average Loss: 1.7302980708039326\n",
      "\n",
      "-------Epoch 40-------\n"
     ]
    },
    {
     "name": "stderr",
     "output_type": "stream",
     "text": [
      "100%|██████████| 782/782 [00:06<00:00, 116.74it/s]\n"
     ]
    },
    {
     "name": "stdout",
     "output_type": "stream",
     "text": [
      "Average Loss: 1.7302871477573425\n",
      "\n",
      "-------Epoch 41-------\n"
     ]
    },
    {
     "name": "stderr",
     "output_type": "stream",
     "text": [
      "100%|██████████| 782/782 [00:06<00:00, 120.86it/s]\n"
     ]
    },
    {
     "name": "stdout",
     "output_type": "stream",
     "text": [
      "Average Loss: 1.7312413280272423\n",
      "\n",
      "-------Epoch 42-------\n"
     ]
    },
    {
     "name": "stderr",
     "output_type": "stream",
     "text": [
      "100%|██████████| 782/782 [00:07<00:00, 101.75it/s]\n"
     ]
    },
    {
     "name": "stdout",
     "output_type": "stream",
     "text": [
      "Average Loss: 1.731252119059453\n",
      "\n",
      "-------Epoch 43-------\n"
     ]
    },
    {
     "name": "stderr",
     "output_type": "stream",
     "text": [
      "100%|██████████| 782/782 [00:06<00:00, 119.06it/s]\n"
     ]
    },
    {
     "name": "stdout",
     "output_type": "stream",
     "text": [
      "Average Loss: 1.730560643136349\n",
      "\n",
      "-------Epoch 44-------\n"
     ]
    },
    {
     "name": "stderr",
     "output_type": "stream",
     "text": [
      "100%|██████████| 782/782 [00:06<00:00, 119.63it/s]\n"
     ]
    },
    {
     "name": "stdout",
     "output_type": "stream",
     "text": [
      "Average Loss: 1.7304847880702494\n",
      "\n",
      "-------Epoch 45-------\n"
     ]
    },
    {
     "name": "stderr",
     "output_type": "stream",
     "text": [
      "100%|██████████| 782/782 [00:06<00:00, 120.76it/s]\n"
     ]
    },
    {
     "name": "stdout",
     "output_type": "stream",
     "text": [
      "Average Loss: 1.7304669507324237\n",
      "\n",
      "-------Epoch 46-------\n"
     ]
    },
    {
     "name": "stderr",
     "output_type": "stream",
     "text": [
      "100%|██████████| 782/782 [00:06<00:00, 120.94it/s]\n"
     ]
    },
    {
     "name": "stdout",
     "output_type": "stream",
     "text": [
      "Average Loss: 1.7302228623948743\n",
      "\n",
      "-------Epoch 47-------\n"
     ]
    },
    {
     "name": "stderr",
     "output_type": "stream",
     "text": [
      "100%|██████████| 782/782 [00:06<00:00, 113.81it/s]\n"
     ]
    },
    {
     "name": "stdout",
     "output_type": "stream",
     "text": [
      "Average Loss: 1.7303781081038667\n",
      "\n",
      "-------Epoch 48-------\n"
     ]
    },
    {
     "name": "stderr",
     "output_type": "stream",
     "text": [
      "100%|██████████| 782/782 [00:07<00:00, 109.73it/s]\n"
     ]
    },
    {
     "name": "stdout",
     "output_type": "stream",
     "text": [
      "Average Loss: 1.7311664679471184\n",
      "\n",
      "-------Epoch 49-------\n"
     ]
    },
    {
     "name": "stderr",
     "output_type": "stream",
     "text": [
      "100%|██████████| 782/782 [00:07<00:00, 110.86it/s]\n"
     ]
    },
    {
     "name": "stdout",
     "output_type": "stream",
     "text": [
      "Average Loss: 1.7300531079092294\n",
      "\n",
      "-------Epoch 50-------\n"
     ]
    },
    {
     "name": "stderr",
     "output_type": "stream",
     "text": [
      "100%|██████████| 782/782 [00:07<00:00, 102.08it/s]\n"
     ]
    },
    {
     "name": "stdout",
     "output_type": "stream",
     "text": [
      "Average Loss: 1.730195141814249\n",
      "\n",
      "-------Epoch 51-------\n"
     ]
    },
    {
     "name": "stderr",
     "output_type": "stream",
     "text": [
      "100%|██████████| 782/782 [00:07<00:00, 106.57it/s]\n"
     ]
    },
    {
     "name": "stdout",
     "output_type": "stream",
     "text": [
      "Average Loss: 1.7300929068909277\n",
      "\n",
      "-------Epoch 52-------\n"
     ]
    },
    {
     "name": "stderr",
     "output_type": "stream",
     "text": [
      "100%|██████████| 782/782 [00:07<00:00, 105.86it/s]\n"
     ]
    },
    {
     "name": "stdout",
     "output_type": "stream",
     "text": [
      "Average Loss: 1.7298021156464696\n",
      "\n",
      "-------Epoch 53-------\n"
     ]
    },
    {
     "name": "stderr",
     "output_type": "stream",
     "text": [
      "100%|██████████| 782/782 [00:06<00:00, 114.60it/s]\n"
     ]
    },
    {
     "name": "stdout",
     "output_type": "stream",
     "text": [
      "Average Loss: 1.7295981380335814\n",
      "\n",
      "-------Epoch 54-------\n"
     ]
    },
    {
     "name": "stderr",
     "output_type": "stream",
     "text": [
      "100%|██████████| 782/782 [00:06<00:00, 118.60it/s]\n"
     ]
    },
    {
     "name": "stdout",
     "output_type": "stream",
     "text": [
      "Average Loss: 1.7312176255009057\n",
      "\n",
      "-------Epoch 55-------\n"
     ]
    },
    {
     "name": "stderr",
     "output_type": "stream",
     "text": [
      "100%|██████████| 782/782 [00:06<00:00, 120.29it/s]\n"
     ]
    },
    {
     "name": "stdout",
     "output_type": "stream",
     "text": [
      "Average Loss: 1.730295847596415\n",
      "\n",
      "-------Epoch 56-------\n"
     ]
    },
    {
     "name": "stderr",
     "output_type": "stream",
     "text": [
      "100%|██████████| 782/782 [00:06<00:00, 115.88it/s]\n"
     ]
    },
    {
     "name": "stdout",
     "output_type": "stream",
     "text": [
      "Average Loss: 1.7291111731163376\n",
      "\n",
      "-------Epoch 57-------\n"
     ]
    },
    {
     "name": "stderr",
     "output_type": "stream",
     "text": [
      "100%|██████████| 782/782 [00:06<00:00, 116.16it/s]\n"
     ]
    },
    {
     "name": "stdout",
     "output_type": "stream",
     "text": [
      "Average Loss: 1.729361881990262\n",
      "\n",
      "-------Epoch 58-------\n"
     ]
    },
    {
     "name": "stderr",
     "output_type": "stream",
     "text": [
      "100%|██████████| 782/782 [00:07<00:00, 111.38it/s]\n"
     ]
    },
    {
     "name": "stdout",
     "output_type": "stream",
     "text": [
      "Average Loss: 1.7298854616901758\n",
      "\n",
      "-------Epoch 59-------\n"
     ]
    },
    {
     "name": "stderr",
     "output_type": "stream",
     "text": [
      "100%|██████████| 782/782 [00:06<00:00, 112.04it/s]\n"
     ]
    },
    {
     "name": "stdout",
     "output_type": "stream",
     "text": [
      "Average Loss: 1.7299294458020984\n",
      "\n",
      "-------Epoch 60-------\n"
     ]
    },
    {
     "name": "stderr",
     "output_type": "stream",
     "text": [
      "100%|██████████| 782/782 [00:06<00:00, 115.62it/s]\n"
     ]
    },
    {
     "name": "stdout",
     "output_type": "stream",
     "text": [
      "Average Loss: 1.7298231515128288\n",
      "\n",
      "-------Epoch 61-------\n"
     ]
    },
    {
     "name": "stderr",
     "output_type": "stream",
     "text": [
      "100%|██████████| 782/782 [00:06<00:00, 114.35it/s]\n"
     ]
    },
    {
     "name": "stdout",
     "output_type": "stream",
     "text": [
      "Average Loss: 1.7303020278816028\n",
      "\n",
      "-------Epoch 62-------\n"
     ]
    },
    {
     "name": "stderr",
     "output_type": "stream",
     "text": [
      "100%|██████████| 782/782 [00:06<00:00, 112.13it/s]\n"
     ]
    },
    {
     "name": "stdout",
     "output_type": "stream",
     "text": [
      "Average Loss: 1.7297684339916004\n",
      "\n",
      "-------Epoch 63-------\n"
     ]
    },
    {
     "name": "stderr",
     "output_type": "stream",
     "text": [
      "100%|██████████| 782/782 [00:06<00:00, 112.73it/s]\n"
     ]
    },
    {
     "name": "stdout",
     "output_type": "stream",
     "text": [
      "Average Loss: 1.729981370441749\n",
      "\n",
      "-------Epoch 64-------\n"
     ]
    },
    {
     "name": "stderr",
     "output_type": "stream",
     "text": [
      "100%|██████████| 782/782 [00:07<00:00, 109.53it/s]\n"
     ]
    },
    {
     "name": "stdout",
     "output_type": "stream",
     "text": [
      "Average Loss: 1.729563068855754\n",
      "\n",
      "-------Epoch 65-------\n"
     ]
    },
    {
     "name": "stderr",
     "output_type": "stream",
     "text": [
      "100%|██████████| 782/782 [00:07<00:00, 109.24it/s]\n"
     ]
    },
    {
     "name": "stdout",
     "output_type": "stream",
     "text": [
      "Average Loss: 1.7290799806794852\n",
      "\n",
      "-------Epoch 66-------\n"
     ]
    },
    {
     "name": "stderr",
     "output_type": "stream",
     "text": [
      "100%|██████████| 782/782 [00:07<00:00, 111.21it/s]\n"
     ]
    },
    {
     "name": "stdout",
     "output_type": "stream",
     "text": [
      "Average Loss: 1.7297374167100852\n",
      "\n",
      "-------Epoch 67-------\n"
     ]
    },
    {
     "name": "stderr",
     "output_type": "stream",
     "text": [
      "100%|██████████| 782/782 [00:07<00:00, 109.95it/s]\n"
     ]
    },
    {
     "name": "stdout",
     "output_type": "stream",
     "text": [
      "Average Loss: 1.729527505767315\n",
      "\n",
      "-------Epoch 68-------\n"
     ]
    },
    {
     "name": "stderr",
     "output_type": "stream",
     "text": [
      "100%|██████████| 782/782 [00:06<00:00, 113.32it/s]\n"
     ]
    },
    {
     "name": "stdout",
     "output_type": "stream",
     "text": [
      "Average Loss: 1.729895054226946\n",
      "\n",
      "-------Epoch 69-------\n"
     ]
    },
    {
     "name": "stderr",
     "output_type": "stream",
     "text": [
      "100%|██████████| 782/782 [00:06<00:00, 112.45it/s]\n"
     ]
    },
    {
     "name": "stdout",
     "output_type": "stream",
     "text": [
      "Average Loss: 1.7297247218353975\n",
      "\n",
      "-------Epoch 70-------\n"
     ]
    },
    {
     "name": "stderr",
     "output_type": "stream",
     "text": [
      "100%|██████████| 782/782 [00:07<00:00, 108.29it/s]\n"
     ]
    },
    {
     "name": "stdout",
     "output_type": "stream",
     "text": [
      "Average Loss: 1.7298075879931145\n",
      "\n",
      "-------Epoch 71-------\n"
     ]
    },
    {
     "name": "stderr",
     "output_type": "stream",
     "text": [
      "100%|██████████| 782/782 [00:06<00:00, 116.68it/s]\n"
     ]
    },
    {
     "name": "stdout",
     "output_type": "stream",
     "text": [
      "Average Loss: 1.7296502498714514\n",
      "\n",
      "-------Epoch 72-------\n"
     ]
    },
    {
     "name": "stderr",
     "output_type": "stream",
     "text": [
      "100%|██████████| 782/782 [00:07<00:00, 109.25it/s]\n"
     ]
    },
    {
     "name": "stdout",
     "output_type": "stream",
     "text": [
      "Average Loss: 1.7298084191044274\n",
      "\n",
      "-------Epoch 73-------\n"
     ]
    },
    {
     "name": "stderr",
     "output_type": "stream",
     "text": [
      "100%|██████████| 782/782 [00:06<00:00, 112.15it/s]\n"
     ]
    },
    {
     "name": "stdout",
     "output_type": "stream",
     "text": [
      "Average Loss: 1.7299294201919184\n",
      "\n",
      "-------Epoch 74-------\n"
     ]
    },
    {
     "name": "stderr",
     "output_type": "stream",
     "text": [
      "100%|██████████| 782/782 [00:06<00:00, 112.44it/s]\n"
     ]
    },
    {
     "name": "stdout",
     "output_type": "stream",
     "text": [
      "Average Loss: 1.7292240960213838\n",
      "\n",
      "-------Epoch 75-------\n"
     ]
    },
    {
     "name": "stderr",
     "output_type": "stream",
     "text": [
      "100%|██████████| 782/782 [00:06<00:00, 114.95it/s]\n"
     ]
    },
    {
     "name": "stdout",
     "output_type": "stream",
     "text": [
      "Average Loss: 1.729791614862964\n",
      "\n",
      "-------Epoch 76-------\n"
     ]
    },
    {
     "name": "stderr",
     "output_type": "stream",
     "text": [
      "100%|██████████| 782/782 [00:07<00:00, 108.30it/s]\n"
     ]
    },
    {
     "name": "stdout",
     "output_type": "stream",
     "text": [
      "Average Loss: 1.7298750490178842\n",
      "\n",
      "-------Epoch 77-------\n"
     ]
    },
    {
     "name": "stderr",
     "output_type": "stream",
     "text": [
      "100%|██████████| 782/782 [00:07<00:00, 105.00it/s]\n"
     ]
    },
    {
     "name": "stdout",
     "output_type": "stream",
     "text": [
      "Average Loss: 1.7294209899804782\n",
      "\n",
      "-------Epoch 78-------\n"
     ]
    },
    {
     "name": "stderr",
     "output_type": "stream",
     "text": [
      "100%|██████████| 782/782 [00:06<00:00, 114.20it/s]\n"
     ]
    },
    {
     "name": "stdout",
     "output_type": "stream",
     "text": [
      "Average Loss: 1.7297975384365871\n",
      "\n",
      "-------Epoch 79-------\n"
     ]
    },
    {
     "name": "stderr",
     "output_type": "stream",
     "text": [
      "100%|██████████| 782/782 [00:07<00:00, 102.07it/s]\n"
     ]
    },
    {
     "name": "stdout",
     "output_type": "stream",
     "text": [
      "Average Loss: 1.729260133355475\n",
      "\n",
      "-------Epoch 80-------\n"
     ]
    },
    {
     "name": "stderr",
     "output_type": "stream",
     "text": [
      "100%|██████████| 782/782 [00:07<00:00, 109.59it/s]\n"
     ]
    },
    {
     "name": "stdout",
     "output_type": "stream",
     "text": [
      "Average Loss: 1.7296678466565163\n",
      "\n",
      "-------Epoch 81-------\n"
     ]
    },
    {
     "name": "stderr",
     "output_type": "stream",
     "text": [
      "100%|██████████| 782/782 [00:06<00:00, 112.87it/s]\n"
     ]
    },
    {
     "name": "stdout",
     "output_type": "stream",
     "text": [
      "Average Loss: 1.7290885951512915\n",
      "\n",
      "-------Epoch 82-------\n"
     ]
    },
    {
     "name": "stderr",
     "output_type": "stream",
     "text": [
      "100%|██████████| 782/782 [00:07<00:00, 110.29it/s]\n"
     ]
    },
    {
     "name": "stdout",
     "output_type": "stream",
     "text": [
      "Average Loss: 1.7295934207299177\n",
      "\n",
      "-------Epoch 83-------\n"
     ]
    },
    {
     "name": "stderr",
     "output_type": "stream",
     "text": [
      "100%|██████████| 782/782 [00:07<00:00, 109.32it/s]\n"
     ]
    },
    {
     "name": "stdout",
     "output_type": "stream",
     "text": [
      "Average Loss: 1.7293616296995022\n",
      "\n",
      "-------Epoch 84-------\n"
     ]
    },
    {
     "name": "stderr",
     "output_type": "stream",
     "text": [
      "100%|██████████| 782/782 [00:06<00:00, 115.74it/s]\n"
     ]
    },
    {
     "name": "stdout",
     "output_type": "stream",
     "text": [
      "Average Loss: 1.7296229852434923\n",
      "\n",
      "-------Epoch 85-------\n"
     ]
    },
    {
     "name": "stderr",
     "output_type": "stream",
     "text": [
      "100%|██████████| 782/782 [00:06<00:00, 119.57it/s]\n"
     ]
    },
    {
     "name": "stdout",
     "output_type": "stream",
     "text": [
      "Average Loss: 1.730317421581434\n",
      "\n",
      "-------Epoch 86-------\n"
     ]
    },
    {
     "name": "stderr",
     "output_type": "stream",
     "text": [
      "100%|██████████| 782/782 [00:06<00:00, 115.40it/s]\n"
     ]
    },
    {
     "name": "stdout",
     "output_type": "stream",
     "text": [
      "Average Loss: 1.7295282319988436\n",
      "\n",
      "-------Epoch 87-------\n"
     ]
    },
    {
     "name": "stderr",
     "output_type": "stream",
     "text": [
      "100%|██████████| 782/782 [00:06<00:00, 113.50it/s]\n"
     ]
    },
    {
     "name": "stdout",
     "output_type": "stream",
     "text": [
      "Average Loss: 1.7293172060986004\n",
      "\n",
      "-------Epoch 88-------\n"
     ]
    },
    {
     "name": "stderr",
     "output_type": "stream",
     "text": [
      "100%|██████████| 782/782 [00:06<00:00, 113.26it/s]\n"
     ]
    },
    {
     "name": "stdout",
     "output_type": "stream",
     "text": [
      "Average Loss: 1.7302365955489372\n",
      "\n",
      "-------Epoch 89-------\n"
     ]
    },
    {
     "name": "stderr",
     "output_type": "stream",
     "text": [
      "100%|██████████| 782/782 [00:06<00:00, 115.77it/s]\n"
     ]
    },
    {
     "name": "stdout",
     "output_type": "stream",
     "text": [
      "Average Loss: 1.7298710019997015\n",
      "\n",
      "-------Epoch 90-------\n"
     ]
    },
    {
     "name": "stderr",
     "output_type": "stream",
     "text": [
      "100%|██████████| 782/782 [00:06<00:00, 114.46it/s]\n"
     ]
    },
    {
     "name": "stdout",
     "output_type": "stream",
     "text": [
      "Average Loss: 1.7292212929262225\n",
      "\n",
      "-------Epoch 91-------\n"
     ]
    },
    {
     "name": "stderr",
     "output_type": "stream",
     "text": [
      "100%|██████████| 782/782 [00:07<00:00, 109.84it/s]\n"
     ]
    },
    {
     "name": "stdout",
     "output_type": "stream",
     "text": [
      "Average Loss: 1.7298629274758537\n",
      "\n",
      "-------Epoch 92-------\n"
     ]
    },
    {
     "name": "stderr",
     "output_type": "stream",
     "text": [
      "100%|██████████| 782/782 [00:07<00:00, 111.27it/s]\n"
     ]
    },
    {
     "name": "stdout",
     "output_type": "stream",
     "text": [
      "Average Loss: 1.7299893757571345\n",
      "\n",
      "-------Epoch 93-------\n"
     ]
    },
    {
     "name": "stderr",
     "output_type": "stream",
     "text": [
      "100%|██████████| 782/782 [00:07<00:00, 107.89it/s]\n"
     ]
    },
    {
     "name": "stdout",
     "output_type": "stream",
     "text": [
      "Average Loss: 1.7302436653305502\n",
      "\n",
      "-------Epoch 94-------\n"
     ]
    },
    {
     "name": "stderr",
     "output_type": "stream",
     "text": [
      "100%|██████████| 782/782 [00:07<00:00, 106.89it/s]\n"
     ]
    },
    {
     "name": "stdout",
     "output_type": "stream",
     "text": [
      "Average Loss: 1.7296958314183424\n",
      "\n",
      "-------Epoch 95-------\n"
     ]
    },
    {
     "name": "stderr",
     "output_type": "stream",
     "text": [
      "100%|██████████| 782/782 [00:07<00:00, 108.49it/s]\n"
     ]
    },
    {
     "name": "stdout",
     "output_type": "stream",
     "text": [
      "Average Loss: 1.7293257036477403\n",
      "\n",
      "-------Epoch 96-------\n"
     ]
    },
    {
     "name": "stderr",
     "output_type": "stream",
     "text": [
      "100%|██████████| 782/782 [00:06<00:00, 115.10it/s]\n"
     ]
    },
    {
     "name": "stdout",
     "output_type": "stream",
     "text": [
      "Average Loss: 1.729270125746422\n",
      "\n",
      "-------Epoch 97-------\n"
     ]
    },
    {
     "name": "stderr",
     "output_type": "stream",
     "text": [
      "100%|██████████| 782/782 [00:06<00:00, 113.36it/s]\n"
     ]
    },
    {
     "name": "stdout",
     "output_type": "stream",
     "text": [
      "Average Loss: 1.7296168249281472\n",
      "\n",
      "-------Epoch 98-------\n"
     ]
    },
    {
     "name": "stderr",
     "output_type": "stream",
     "text": [
      "100%|██████████| 782/782 [00:07<00:00, 110.48it/s]\n"
     ]
    },
    {
     "name": "stdout",
     "output_type": "stream",
     "text": [
      "Average Loss: 1.7309414587362344\n",
      "\n",
      "-------Epoch 99-------\n"
     ]
    },
    {
     "name": "stderr",
     "output_type": "stream",
     "text": [
      "100%|██████████| 782/782 [00:06<00:00, 114.98it/s]\n"
     ]
    },
    {
     "name": "stdout",
     "output_type": "stream",
     "text": [
      "Average Loss: 1.729565099224715\n",
      "\n",
      "-------Epoch 100-------\n"
     ]
    },
    {
     "name": "stderr",
     "output_type": "stream",
     "text": [
      "100%|██████████| 782/782 [00:06<00:00, 115.65it/s]\n"
     ]
    },
    {
     "name": "stdout",
     "output_type": "stream",
     "text": [
      "Average Loss: 1.7295868553773825\n",
      "\n"
     ]
    },
    {
     "data": {
      "image/png": "[encoded data removed]",
      "text/plain": [
       "<Figure size 640x480 with 1 Axes>"
      ]
     },
     "metadata": {},
     "output_type": "display_data"
    }
   ],
   "source": [
    "train_loader = DataLoader(trainset, batch_size=64, shuffle=True)\n",
    "test_loader = DataLoader(testset, batch_size=64, shuffle=True)\n",
    "\n",
    "lr_final = 0.0001\n",
    "gamma_final = 20\n",
    "epoch_final = 100\n",
    "\n",
    "model = SVM(gamma_final).to(device)\n",
    "optimizer = torch.optim.Adam(model.parameters(), lr=lr_final)\n",
    "\n",
    "model.train()\n",
    "\n",
    "hist_final = train(train_loader, model, CrossEntropy, optimizer, epoch_final)\n",
    "plt.plot(range(1, epoch_final+1), hist_final, 'dodgerblue', label='loss')\n",
    "plt.xlabel(\"Epoch\")\n",
    "plt.ylabel(\"Loss\")\n",
    "plt.legend()\n",
    "plt.savefig('plot/fig11_multi_test_loss.png', dpi=200, bbox_inches='tight')\n"
   ]
  },
  {
   "cell_type": "code",
   "execution_count": 130,
   "metadata": {},
   "outputs": [
    {
     "name": "stdout",
     "output_type": "stream",
     "text": [
      "Accuracy for class: airplane   is 48.90% (489/1000)\n",
      "Accuracy for class: automobile is 50.60% (506/1000)\n",
      "Accuracy for class: bird       is 33.40% (334/1000)\n",
      "Accuracy for class: cat        is 25.10% (251/1000)\n",
      "Accuracy for class: deer       is 22.30% (223/1000)\n",
      "Accuracy for class: dog        is 34.00% (340/1000)\n",
      "Accuracy for class: frog       is 49.80% (498/1000)\n",
      "Accuracy for class: horse      is 45.20% (452/1000)\n",
      "Accuracy for class: ship       is 53.30% (533/1000)\n",
      "Accuracy for class: truck      is 48.90% (489/1000)\n",
      "\n",
      "Total Accuracy : 41.15% (4115/10000)\n"
     ]
    }
   ],
   "source": [
    "# Performance for each class\n",
    "classes = list(labels_map.values())\n",
    "correct_pred = {classname: 0 for classname in classes}\n",
    "total_pred = {classname: 0 for classname in classes}\n",
    "correct = 0\n",
    "\n",
    "with torch.no_grad():\n",
    "    for data in test_loader:\n",
    "        images, labels = data\n",
    "        images, labels = images.to(device), labels.to(device)\n",
    "        outputs = model(images).softmax(dim=1)\n",
    "        _, predictions = torch.max(outputs, dim=1)\n",
    "        for label, prediction in zip(labels, predictions):\n",
    "            if label == prediction:\n",
    "                correct_pred[classes[label]] += 1\n",
    "                correct += 1\n",
    "            total_pred[classes[label]] += 1\n",
    "\n",
    "for classname, correct_count in correct_pred.items():\n",
    "    accuracy = 100 * float(correct_count) / total_pred[classname]\n",
    "    print(f'Accuracy for class: {classname:10s} is {accuracy:.2f}% ({correct_count:3}/{total_pred[classname]})')\n",
    "\n",
    "print()\n",
    "print(f\"Total Accuracy : {100 * correct / len(testset):.2f}% ({correct}/{len(testset)})\")"
   ]
  },
  {
   "cell_type": "code",
   "execution_count": 136,
   "metadata": {},
   "outputs": [
    {
     "name": "stderr",
     "output_type": "stream",
     "text": [
      "Clipping input data to the valid range for imshow with RGB data ([0..1] for floats or [0..255] for integers).\n",
      "Clipping input data to the valid range for imshow with RGB data ([0..1] for floats or [0..255] for integers).\n",
      "Clipping input data to the valid range for imshow with RGB data ([0..1] for floats or [0..255] for integers).\n",
      "Clipping input data to the valid range for imshow with RGB data ([0..1] for floats or [0..255] for integers).\n",
      "Clipping input data to the valid range for imshow with RGB data ([0..1] for floats or [0..255] for integers).\n"
     ]
    },
    {
     "data": {
      "image/png": "[encoded data removed]",
      "text/plain": [
       "<Figure size 640x480 with 5 Axes>"
      ]
     },
     "metadata": {},
     "output_type": "display_data"
    }
   ],
   "source": [
    "# Predict several data\n",
    "pick_data = np.random.choice(len(test_loader), 5, replace=False)\n",
    "for i in range(5):\n",
    "    plt.subplot(1,5,i+1)\n",
    "    \n",
    "    if i == 0:\n",
    "        plt.text(-5, 40, \"Label : \", horizontalalignment='right')\n",
    "        plt.text(-5, 50, \"Predicted : \", horizontalalignment='right')\n",
    "        plt.text(-5, 20, f\"Accuracy : {100 * correct / len(test_loader.dataset):.2f}%\", horizontalalignment='right')\n",
    "\n",
    "    data = testset[pick_data[i]]\n",
    "    img = data[0]\n",
    "    label = data[1]\n",
    "    pred = predict(img, model).item()\n",
    "    \n",
    "    plt.imshow(img.permute(1,2,0))\n",
    "    plt.text(8,40,labels_map[label])\n",
    "    plt.text(8,50,labels_map[pred])\n",
    "    plt.axis('off')\n",
    "\n",
    "plt.savefig('plot/fig12_multi_test_predict.png', dpi=200, bbox_inches='tight')"
   ]
  }
 ],
 "metadata": {
  "kernelspec": {
   "display_name": "ds",
   "language": "python",
   "name": "python3"
  },
  "language_info": {
   "codemirror_mode": {
    "name": "ipython",
    "version": 3
   },
   "file_extension": ".py",
   "mimetype": "text/x-python",
   "name": "python",
   "nbconvert_exporter": "python",
   "pygments_lexer": "ipython3",
   "version": "3.8.13"
  }
 },
 "nbformat": 4,
 "nbformat_minor": 2
}
